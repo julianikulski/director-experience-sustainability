{
  "nbformat": 4,
  "nbformat_minor": 0,
  "metadata": {
    "colab": {
      "name": "csr_experience_ETL.ipynb",
      "provenance": [],
      "include_colab_link": true
    },
    "kernelspec": {
      "name": "python3",
      "display_name": "Python 3"
    }
  },
  "cells": [
    {
      "cell_type": "markdown",
      "metadata": {
        "id": "view-in-github",
        "colab_type": "text"
      },
      "source": [
        "<a href=\"https://colab.research.google.com/github/julianikulski/director-experience/blob/main/preprocessing/csr_experience_ETL.ipynb\" target=\"_parent\"><img src=\"https://colab.research.google.com/assets/colab-badge.svg\" alt=\"Open In Colab\"/></a>"
      ]
    },
    {
      "cell_type": "markdown",
      "metadata": {
        "id": "oOfwA55w6chA"
      },
      "source": [
        "# Data preparation for the machine learning model\n",
        "\n",
        "This file reads in the biographies from S&P Capital IQ and the manually researched DEF 14A statement biographies and chooses 150 random samples from the S&P Capital IQ dataset and 50 random samples from the DEF 14A dataset as the training sample for the fine-tuning of the Longformer model.\n",
        "\n",
        "These 200 training samples will be manually reviewed and social and/or environmental experience will be flagged so that this dataset can then be used to train the Longformer model which will classify the remaining biographies."
      ]
    },
    {
      "cell_type": "code",
      "metadata": {
        "id": "-MfSGicswbRP",
        "colab": {
          "base_uri": "https://localhost:8080/"
        },
        "outputId": "a54b7911-2877-4bbe-ff29-7d7e2c7ca871"
      },
      "source": [
        "from google.colab import drive\n",
        "drive.mount('/content/drive')\n"
      ],
      "execution_count": null,
      "outputs": [
        {
          "output_type": "stream",
          "text": [
            "Drive already mounted at /content/drive; to attempt to forcibly remount, call drive.mount(\"/content/drive\", force_remount=True).\n"
          ],
          "name": "stdout"
        }
      ]
    },
    {
      "cell_type": "code",
      "metadata": {
        "id": "u93VoUThtpvr"
      },
      "source": [
        "import numpy as np\n",
        "import pandas as pd\n",
        "from glob import glob\n",
        "import re\n",
        "import math\n",
        "from numpy.random import RandomState\n"
      ],
      "execution_count": null,
      "outputs": []
    },
    {
      "cell_type": "code",
      "metadata": {
        "id": "izZG25p5tpvx"
      },
      "source": [
        "# diplay columns without truncation\n",
        "pd.set_option('display.max_columns', 500)\n",
        "# diplay rows without truncation\n",
        "# pd.set_option('display.max_rows', 1000)"
      ],
      "execution_count": null,
      "outputs": []
    },
    {
      "cell_type": "markdown",
      "metadata": {
        "id": "7Hqu7aBu26iL"
      },
      "source": [
        "## Reading in data"
      ]
    },
    {
      "cell_type": "code",
      "metadata": {
        "id": "tFH_JPKPtpvz"
      },
      "source": [
        "# reading in the excel files with the directors' biographies\n",
        "file_path = r''\n",
        "all_files = glob(file_path + '/content/drive/My Drive/director-csr/directors/*.xls')\n",
        "\n",
        "list_df = []\n",
        "\n",
        "for file in all_files:\n",
        "    df_file = pd.read_excel(file, skiprows=7) # skipping the first 7 rows above the header\n",
        "    list_df.append(df_file)\n",
        "    \n",
        "df_directors = pd.concat(list_df, axis=0, ignore_index=True)\n"
      ],
      "execution_count": null,
      "outputs": []
    },
    {
      "cell_type": "code",
      "metadata": {
        "id": "SoatgPTwtpv3",
        "colab": {
          "base_uri": "https://localhost:8080/"
        },
        "outputId": "5f219de4-52e5-4902-cc70-408b0cad191f"
      },
      "source": [
        "# reading in the constituents file of the S&P 500 Index\n",
        "comp_excel = pd.ExcelFile('/content/drive/My Drive/director-csr/Reuters/SP500.xlsx')\n",
        "sheet_names = ['2015', '2014', '2013', '2012', '2011']\n",
        "\n",
        "df_dict = {}\n",
        "for sheet in sheet_names:\n",
        "    df_temp = pd.read_excel(comp_excel, sheet) \n",
        "    df_dict[sheet] = df_temp\n",
        "\n",
        "df_dict.keys()\n"
      ],
      "execution_count": null,
      "outputs": [
        {
          "output_type": "execute_result",
          "data": {
            "text/plain": [
              "dict_keys(['2015', '2014', '2013', '2012', '2011'])"
            ]
          },
          "metadata": {
            "tags": []
          },
          "execution_count": 5
        }
      ]
    },
    {
      "cell_type": "code",
      "metadata": {
        "id": "jBX-tWF1z4e5",
        "colab": {
          "base_uri": "https://localhost:8080/",
          "height": 204
        },
        "outputId": "2cc08a99-1d1c-4448-dc88-425cd4199634"
      },
      "source": [
        "df_dict['2015'].head()"
      ],
      "execution_count": null,
      "outputs": [
        {
          "output_type": "execute_result",
          "data": {
            "text/html": [
              "<div>\n",
              "<style scoped>\n",
              "    .dataframe tbody tr th:only-of-type {\n",
              "        vertical-align: middle;\n",
              "    }\n",
              "\n",
              "    .dataframe tbody tr th {\n",
              "        vertical-align: top;\n",
              "    }\n",
              "\n",
              "    .dataframe thead th {\n",
              "        text-align: right;\n",
              "    }\n",
              "</style>\n",
              "<table border=\"1\" class=\"dataframe\">\n",
              "  <thead>\n",
              "    <tr style=\"text-align: right;\">\n",
              "      <th></th>\n",
              "      <th>Type</th>\n",
              "      <th>NAME</th>\n",
              "      <th>TICKER SYMBOL</th>\n",
              "      <th>NAME.1</th>\n",
              "      <th>ISIN CODE</th>\n",
              "    </tr>\n",
              "  </thead>\n",
              "  <tbody>\n",
              "    <tr>\n",
              "      <th>0</th>\n",
              "      <td>891399</td>\n",
              "      <td>AMAZON.COM</td>\n",
              "      <td>AMZN</td>\n",
              "      <td>AMAZON.COM</td>\n",
              "      <td>US0231351067</td>\n",
              "    </tr>\n",
              "    <tr>\n",
              "      <th>1</th>\n",
              "      <td>916328</td>\n",
              "      <td>ABBOTT LABORATORIES</td>\n",
              "      <td>ABT</td>\n",
              "      <td>ABBOTT LABORATORIES</td>\n",
              "      <td>US0028241000</td>\n",
              "    </tr>\n",
              "    <tr>\n",
              "      <th>2</th>\n",
              "      <td>545101</td>\n",
              "      <td>AES</td>\n",
              "      <td>AES</td>\n",
              "      <td>AES</td>\n",
              "      <td>US00130H1059</td>\n",
              "    </tr>\n",
              "    <tr>\n",
              "      <th>3</th>\n",
              "      <td>906187</td>\n",
              "      <td>INTERNATIONAL BUS.MCHS.</td>\n",
              "      <td>IBM</td>\n",
              "      <td>INTERNATIONAL BUS.MCHS.</td>\n",
              "      <td>US4592001014</td>\n",
              "    </tr>\n",
              "    <tr>\n",
              "      <th>4</th>\n",
              "      <td>749382</td>\n",
              "      <td>ADOBE (NAS)</td>\n",
              "      <td>ADBE</td>\n",
              "      <td>ADOBE (NAS)</td>\n",
              "      <td>US00724F1012</td>\n",
              "    </tr>\n",
              "  </tbody>\n",
              "</table>\n",
              "</div>"
            ],
            "text/plain": [
              "     Type                     NAME TICKER SYMBOL                   NAME.1  \\\n",
              "0  891399               AMAZON.COM          AMZN               AMAZON.COM   \n",
              "1  916328      ABBOTT LABORATORIES           ABT      ABBOTT LABORATORIES   \n",
              "2  545101                      AES           AES                      AES   \n",
              "3  906187  INTERNATIONAL BUS.MCHS.           IBM  INTERNATIONAL BUS.MCHS.   \n",
              "4  749382              ADOBE (NAS)          ADBE              ADOBE (NAS)   \n",
              "\n",
              "      ISIN CODE  \n",
              "0  US0231351067  \n",
              "1  US0028241000  \n",
              "2  US00130H1059  \n",
              "3  US4592001014  \n",
              "4  US00724F1012  "
            ]
          },
          "metadata": {
            "tags": []
          },
          "execution_count": 6
        }
      ]
    },
    {
      "cell_type": "markdown",
      "metadata": {
        "id": "Q2lpWt5d2-zA"
      },
      "source": [
        "## Merging biographies and companies"
      ]
    },
    {
      "cell_type": "code",
      "metadata": {
        "id": "HI5NNxCOtpv6"
      },
      "source": [
        "# renaming the dataframe columns for the 2015 constitutents list of df_dict\n",
        "df_sp500 = df_dict['2015'].rename(columns={'TICKER SYMBOL': 'ticker', 'NAME.1': 'comp_name'})\n",
        "\n",
        "# dropping irrelevant and duplicate columns\n",
        "df_sp500.drop(columns=['Type', 'NAME', 'ISIN CODE'], inplace=True)\n",
        "\n",
        "# convert all comp_name to lower case\n",
        "df_sp500['comp_name'] = df_sp500['comp_name'].apply(lambda x: x.lower())\n"
      ],
      "execution_count": null,
      "outputs": []
    },
    {
      "cell_type": "code",
      "metadata": {
        "id": "tpOy3fMo1qYB",
        "colab": {
          "base_uri": "https://localhost:8080/",
          "height": 204
        },
        "outputId": "1b44576a-2d59-4d1a-ad71-3f5d2738779d"
      },
      "source": [
        "df_sp500.head()"
      ],
      "execution_count": null,
      "outputs": [
        {
          "output_type": "execute_result",
          "data": {
            "text/html": [
              "<div>\n",
              "<style scoped>\n",
              "    .dataframe tbody tr th:only-of-type {\n",
              "        vertical-align: middle;\n",
              "    }\n",
              "\n",
              "    .dataframe tbody tr th {\n",
              "        vertical-align: top;\n",
              "    }\n",
              "\n",
              "    .dataframe thead th {\n",
              "        text-align: right;\n",
              "    }\n",
              "</style>\n",
              "<table border=\"1\" class=\"dataframe\">\n",
              "  <thead>\n",
              "    <tr style=\"text-align: right;\">\n",
              "      <th></th>\n",
              "      <th>ticker</th>\n",
              "      <th>comp_name</th>\n",
              "    </tr>\n",
              "  </thead>\n",
              "  <tbody>\n",
              "    <tr>\n",
              "      <th>0</th>\n",
              "      <td>AMZN</td>\n",
              "      <td>amazon.com</td>\n",
              "    </tr>\n",
              "    <tr>\n",
              "      <th>1</th>\n",
              "      <td>ABT</td>\n",
              "      <td>abbott laboratories</td>\n",
              "    </tr>\n",
              "    <tr>\n",
              "      <th>2</th>\n",
              "      <td>AES</td>\n",
              "      <td>aes</td>\n",
              "    </tr>\n",
              "    <tr>\n",
              "      <th>3</th>\n",
              "      <td>IBM</td>\n",
              "      <td>international bus.mchs.</td>\n",
              "    </tr>\n",
              "    <tr>\n",
              "      <th>4</th>\n",
              "      <td>ADBE</td>\n",
              "      <td>adobe (nas)</td>\n",
              "    </tr>\n",
              "  </tbody>\n",
              "</table>\n",
              "</div>"
            ],
            "text/plain": [
              "  ticker                comp_name\n",
              "0   AMZN               amazon.com\n",
              "1    ABT      abbott laboratories\n",
              "2    AES                      aes\n",
              "3    IBM  international bus.mchs.\n",
              "4   ADBE              adobe (nas)"
            ]
          },
          "metadata": {
            "tags": []
          },
          "execution_count": 8
        }
      ]
    },
    {
      "cell_type": "code",
      "metadata": {
        "id": "eOSeBDpdtpv9",
        "colab": {
          "base_uri": "https://localhost:8080/",
          "height": 751
        },
        "outputId": "838f6ebe-51d5-4a89-b2c9-8d08228bee82"
      },
      "source": [
        "# first 5 rows of the dataframe\n",
        "df_directors.head()\n"
      ],
      "execution_count": null,
      "outputs": [
        {
          "output_type": "execute_result",
          "data": {
            "text/html": [
              "<div>\n",
              "<style scoped>\n",
              "    .dataframe tbody tr th:only-of-type {\n",
              "        vertical-align: middle;\n",
              "    }\n",
              "\n",
              "    .dataframe tbody tr th {\n",
              "        vertical-align: top;\n",
              "    }\n",
              "\n",
              "    .dataframe thead th {\n",
              "        text-align: right;\n",
              "    }\n",
              "</style>\n",
              "<table border=\"1\" class=\"dataframe\">\n",
              "  <thead>\n",
              "    <tr style=\"text-align: right;\">\n",
              "      <th></th>\n",
              "      <th>Person Name</th>\n",
              "      <th>Company Name [Any Professional Record] [Current Matching Results]</th>\n",
              "      <th>Exchange:Ticker</th>\n",
              "      <th>Email Address</th>\n",
              "      <th>Professional Titles [Any Professional Record] [Current Matching Results]</th>\n",
              "      <th>Colleges/Universities</th>\n",
              "      <th>Degrees</th>\n",
              "      <th>Graduation Year</th>\n",
              "      <th>Majors</th>\n",
              "      <th>Geographic Locations [Any Professional Record] [Current Matching Results]</th>\n",
              "      <th>Primary Professional Record</th>\n",
              "      <th>Biographies</th>\n",
              "      <th>Person Locations [Any Professional Record] [Current Matching Results]</th>\n",
              "      <th>Person Age</th>\n",
              "      <th>Person Name First</th>\n",
              "      <th>Person Name Last</th>\n",
              "      <th>Person Name Middle</th>\n",
              "      <th>Person Name Nickname</th>\n",
              "      <th>Person Name Prefix</th>\n",
              "      <th>Person Name Suffix</th>\n",
              "      <th>Person Notes</th>\n",
              "      <th>Specialties [Any Professional Record] [Current Matching Results]</th>\n",
              "      <th>Year Born</th>\n",
              "      <th>CIK [Any Professional Record] [Current Matching Results]</th>\n",
              "      <th>Company CUSIP [Any Professional Record] [Current Matching Results]</th>\n",
              "      <th>Primary ISIN [Any Professional Record] [Current Matching Results]</th>\n",
              "      <th>Security Tickers [Any Professional Record] [Current Matching Results]</th>\n",
              "      <th>SIC Codes (Primary) [Any Professional Record] [Current Matching Results]</th>\n",
              "      <th>Company Type [Any Professional Record] [Current Matching Results]</th>\n",
              "      <th>Professional Job Functions [Any Professional Record] [Current Matching Results]</th>\n",
              "    </tr>\n",
              "  </thead>\n",
              "  <tbody>\n",
              "    <tr>\n",
              "      <th>0</th>\n",
              "      <td>Schwarzman, Stephen Allen (Prior Board)</td>\n",
              "      <td>PJT Partners Inc. (NYSE:PJT)</td>\n",
              "      <td>NYSE:PJT</td>\n",
              "      <td>Schwarzman@blackstone.com</td>\n",
              "      <td>Former Chairman and Chief Executive Officer</td>\n",
              "      <td>Harvard Business School; Yale University; Quin...</td>\n",
              "      <td>Harvard Business School - MBA; Yale University...</td>\n",
              "      <td>Quinnipiac University (2012)</td>\n",
              "      <td>-</td>\n",
              "      <td>United States and Canada (Primary)</td>\n",
              "      <td>The Blackstone Group L.P. (NYSE:BX) (Board)</td>\n",
              "      <td>Mr. Stephen Allen Schwarzman, also known as St...</td>\n",
              "      <td>United States of America; Northeast; New York;...</td>\n",
              "      <td>68</td>\n",
              "      <td>Stephen</td>\n",
              "      <td>Schwarzman</td>\n",
              "      <td>Allen</td>\n",
              "      <td>Steve</td>\n",
              "      <td>Mr.</td>\n",
              "      <td>-</td>\n",
              "      <td>NaN</td>\n",
              "      <td>-</td>\n",
              "      <td>1947</td>\n",
              "      <td>0001626115</td>\n",
              "      <td>69343T</td>\n",
              "      <td>US69343T1079</td>\n",
              "      <td>NYSE:PJT; BST:1PJ; DB:1PJ</td>\n",
              "      <td>6282 Investment advice</td>\n",
              "      <td>Public Company</td>\n",
              "      <td>Chief Executive Officer (Prior)</td>\n",
              "    </tr>\n",
              "    <tr>\n",
              "      <th>1</th>\n",
              "      <td>Bovender, Jack O. (Prior Board)</td>\n",
              "      <td>HCA Holdings, Inc. (NYSE:HCA)</td>\n",
              "      <td>NYSE:HCA</td>\n",
              "      <td>-</td>\n",
              "      <td>Former Executive Chairman and Chairman of Exec...</td>\n",
              "      <td>Duke University</td>\n",
              "      <td>Duke University - Bachelor's Degree; Duke Univ...</td>\n",
              "      <td>Duke University (1967)</td>\n",
              "      <td>Duke University - Psychology</td>\n",
              "      <td>United States and Canada (Primary)</td>\n",
              "      <td>Duke University (Board)</td>\n",
              "      <td>Mr. Jack O. Bovender, Jr., served as the Chair...</td>\n",
              "      <td>United States of America; Southeast; Tennessee...</td>\n",
              "      <td>70</td>\n",
              "      <td>Jack</td>\n",
              "      <td>Bovender</td>\n",
              "      <td>O.</td>\n",
              "      <td>-</td>\n",
              "      <td>Mr.</td>\n",
              "      <td>Jr.</td>\n",
              "      <td>NaN</td>\n",
              "      <td>-</td>\n",
              "      <td>1945</td>\n",
              "      <td>0000311314; 0000732872; 0000860730; 0001392778</td>\n",
              "      <td>40412C</td>\n",
              "      <td>US40412C1018</td>\n",
              "      <td>NYSE:HCA; BAYB:2BH</td>\n",
              "      <td>8062 General medical and surgical hospitals</td>\n",
              "      <td>Public Company</td>\n",
              "      <td>Chief Executive Officer (Prior)</td>\n",
              "    </tr>\n",
              "    <tr>\n",
              "      <th>2</th>\n",
              "      <td>Mandaric, Milan (Prior Board)</td>\n",
              "      <td>Elexsys International</td>\n",
              "      <td>-</td>\n",
              "      <td>NaN</td>\n",
              "      <td>Former Chairman of the Board and Chief Executi...</td>\n",
              "      <td>-</td>\n",
              "      <td>-</td>\n",
              "      <td>-</td>\n",
              "      <td>-</td>\n",
              "      <td>United States and Canada (Primary)</td>\n",
              "      <td>MM Holdings International, Inc. (Board)</td>\n",
              "      <td>Mr. Milan Mandaric serves as Chief Executive O...</td>\n",
              "      <td>United States of America; California; West Coa...</td>\n",
              "      <td>77</td>\n",
              "      <td>Milan</td>\n",
              "      <td>Mandaric</td>\n",
              "      <td>-</td>\n",
              "      <td>-</td>\n",
              "      <td>Mr.</td>\n",
              "      <td>-</td>\n",
              "      <td>NaN</td>\n",
              "      <td>-</td>\n",
              "      <td>1938</td>\n",
              "      <td>0000727010</td>\n",
              "      <td>28626C</td>\n",
              "      <td>-</td>\n",
              "      <td>-</td>\n",
              "      <td>3672 Printed circuit boards</td>\n",
              "      <td>Public Company</td>\n",
              "      <td>Chief Executive Officer (Prior)</td>\n",
              "    </tr>\n",
              "    <tr>\n",
              "      <th>3</th>\n",
              "      <td>Childs, John W. (Prior Board)</td>\n",
              "      <td>JWC Acquisition Corp.</td>\n",
              "      <td>-</td>\n",
              "      <td>jchilds@jwchilds.com</td>\n",
              "      <td>Chairman and Chief Executive Officer</td>\n",
              "      <td>Yale University; Columbia University</td>\n",
              "      <td>Yale University - BA; Columbia University - MBA</td>\n",
              "      <td>-</td>\n",
              "      <td>-</td>\n",
              "      <td>United States and Canada (Primary)</td>\n",
              "      <td>J.W. Childs Associates, L.P. (Board)</td>\n",
              "      <td>Mr. John W. Childs serves as the Chairman and ...</td>\n",
              "      <td>United States of America; Northeast; Massachus...</td>\n",
              "      <td>73</td>\n",
              "      <td>John</td>\n",
              "      <td>Childs</td>\n",
              "      <td>W.</td>\n",
              "      <td>-</td>\n",
              "      <td>Mr.</td>\n",
              "      <td>-</td>\n",
              "      <td>NaN</td>\n",
              "      <td>-</td>\n",
              "      <td>1942</td>\n",
              "      <td>0001498157</td>\n",
              "      <td>46634Y</td>\n",
              "      <td>US46634Y1029</td>\n",
              "      <td>-</td>\n",
              "      <td>9995 Non-operating establishments</td>\n",
              "      <td>Public Company</td>\n",
              "      <td>Chief Executive Officer (Prior)</td>\n",
              "    </tr>\n",
              "    <tr>\n",
              "      <th>4</th>\n",
              "      <td>Vota, John P. (Prior)</td>\n",
              "      <td>Insight Management Corporation, Prior to Rever...</td>\n",
              "      <td>-</td>\n",
              "      <td>-</td>\n",
              "      <td>Former Interim Chief Executive Officer and Int...</td>\n",
              "      <td>Columbia University; Fordham University; Schoo...</td>\n",
              "      <td>Columbia University - Bachelor's Degree; Fordh...</td>\n",
              "      <td>-</td>\n",
              "      <td>-</td>\n",
              "      <td>United States and Canada (Primary)</td>\n",
              "      <td>Blackbird Capital Partners</td>\n",
              "      <td>Mr. John P. Vota serves as a Managing Partner ...</td>\n",
              "      <td>United States of America; Northeast; New York;...</td>\n",
              "      <td>76</td>\n",
              "      <td>John</td>\n",
              "      <td>Vota</td>\n",
              "      <td>P.</td>\n",
              "      <td>-</td>\n",
              "      <td>Mr.</td>\n",
              "      <td>-</td>\n",
              "      <td>NaN</td>\n",
              "      <td>-</td>\n",
              "      <td>1939</td>\n",
              "      <td>-</td>\n",
              "      <td>45776Q</td>\n",
              "      <td>US45776Q3074</td>\n",
              "      <td>-</td>\n",
              "      <td>-</td>\n",
              "      <td>Public Company</td>\n",
              "      <td>Chief Executive Officer (Prior)</td>\n",
              "    </tr>\n",
              "  </tbody>\n",
              "</table>\n",
              "</div>"
            ],
            "text/plain": [
              "                               Person Name  \\\n",
              "0  Schwarzman, Stephen Allen (Prior Board)   \n",
              "1          Bovender, Jack O. (Prior Board)   \n",
              "2            Mandaric, Milan (Prior Board)   \n",
              "3            Childs, John W. (Prior Board)   \n",
              "4                    Vota, John P. (Prior)   \n",
              "\n",
              "  Company Name [Any Professional Record] [Current Matching Results]  \\\n",
              "0                       PJT Partners Inc. (NYSE:PJT)                  \n",
              "1                      HCA Holdings, Inc. (NYSE:HCA)                  \n",
              "2                              Elexsys International                  \n",
              "3                              JWC Acquisition Corp.                  \n",
              "4  Insight Management Corporation, Prior to Rever...                  \n",
              "\n",
              "  Exchange:Ticker              Email Address  \\\n",
              "0        NYSE:PJT  Schwarzman@blackstone.com   \n",
              "1        NYSE:HCA                          -   \n",
              "2               -                        NaN   \n",
              "3               -       jchilds@jwchilds.com   \n",
              "4               -                          -   \n",
              "\n",
              "  Professional Titles [Any Professional Record] [Current Matching Results]  \\\n",
              "0        Former Chairman and Chief Executive Officer                         \n",
              "1  Former Executive Chairman and Chairman of Exec...                         \n",
              "2  Former Chairman of the Board and Chief Executi...                         \n",
              "3               Chairman and Chief Executive Officer                         \n",
              "4  Former Interim Chief Executive Officer and Int...                         \n",
              "\n",
              "                               Colleges/Universities  \\\n",
              "0  Harvard Business School; Yale University; Quin...   \n",
              "1                                    Duke University   \n",
              "2                                                  -   \n",
              "3               Yale University; Columbia University   \n",
              "4  Columbia University; Fordham University; Schoo...   \n",
              "\n",
              "                                             Degrees  \\\n",
              "0  Harvard Business School - MBA; Yale University...   \n",
              "1  Duke University - Bachelor's Degree; Duke Univ...   \n",
              "2                                                  -   \n",
              "3    Yale University - BA; Columbia University - MBA   \n",
              "4  Columbia University - Bachelor's Degree; Fordh...   \n",
              "\n",
              "                Graduation Year                        Majors  \\\n",
              "0  Quinnipiac University (2012)                             -   \n",
              "1        Duke University (1967)  Duke University - Psychology   \n",
              "2                             -                             -   \n",
              "3                             -                             -   \n",
              "4                             -                             -   \n",
              "\n",
              "  Geographic Locations [Any Professional Record] [Current Matching Results]  \\\n",
              "0                 United States and Canada (Primary)                          \n",
              "1                 United States and Canada (Primary)                          \n",
              "2                 United States and Canada (Primary)                          \n",
              "3                 United States and Canada (Primary)                          \n",
              "4                 United States and Canada (Primary)                          \n",
              "\n",
              "                   Primary Professional Record  \\\n",
              "0  The Blackstone Group L.P. (NYSE:BX) (Board)   \n",
              "1                      Duke University (Board)   \n",
              "2      MM Holdings International, Inc. (Board)   \n",
              "3         J.W. Childs Associates, L.P. (Board)   \n",
              "4                   Blackbird Capital Partners   \n",
              "\n",
              "                                         Biographies  \\\n",
              "0  Mr. Stephen Allen Schwarzman, also known as St...   \n",
              "1  Mr. Jack O. Bovender, Jr., served as the Chair...   \n",
              "2  Mr. Milan Mandaric serves as Chief Executive O...   \n",
              "3  Mr. John W. Childs serves as the Chairman and ...   \n",
              "4  Mr. John P. Vota serves as a Managing Partner ...   \n",
              "\n",
              "  Person Locations [Any Professional Record] [Current Matching Results]  \\\n",
              "0  United States of America; Northeast; New York;...                      \n",
              "1  United States of America; Southeast; Tennessee...                      \n",
              "2  United States of America; California; West Coa...                      \n",
              "3  United States of America; Northeast; Massachus...                      \n",
              "4  United States of America; Northeast; New York;...                      \n",
              "\n",
              "  Person Age Person Name First Person Name Last Person Name Middle  \\\n",
              "0         68           Stephen       Schwarzman              Allen   \n",
              "1         70              Jack         Bovender                 O.   \n",
              "2         77             Milan         Mandaric                  -   \n",
              "3         73              John           Childs                 W.   \n",
              "4         76              John             Vota                 P.   \n",
              "\n",
              "  Person Name Nickname Person Name Prefix Person Name Suffix  Person Notes  \\\n",
              "0                Steve                Mr.                  -           NaN   \n",
              "1                    -                Mr.                Jr.           NaN   \n",
              "2                    -                Mr.                  -           NaN   \n",
              "3                    -                Mr.                  -           NaN   \n",
              "4                    -                Mr.                  -           NaN   \n",
              "\n",
              "  Specialties [Any Professional Record] [Current Matching Results] Year Born  \\\n",
              "0                                                  -                    1947   \n",
              "1                                                  -                    1945   \n",
              "2                                                  -                    1938   \n",
              "3                                                  -                    1942   \n",
              "4                                                  -                    1939   \n",
              "\n",
              "  CIK [Any Professional Record] [Current Matching Results]  \\\n",
              "0                                         0001626115         \n",
              "1     0000311314; 0000732872; 0000860730; 0001392778         \n",
              "2                                         0000727010         \n",
              "3                                         0001498157         \n",
              "4                                                  -         \n",
              "\n",
              "  Company CUSIP [Any Professional Record] [Current Matching Results]  \\\n",
              "0                                             69343T                   \n",
              "1                                             40412C                   \n",
              "2                                             28626C                   \n",
              "3                                             46634Y                   \n",
              "4                                             45776Q                   \n",
              "\n",
              "  Primary ISIN [Any Professional Record] [Current Matching Results]  \\\n",
              "0                                       US69343T1079                  \n",
              "1                                       US40412C1018                  \n",
              "2                                                  -                  \n",
              "3                                       US46634Y1029                  \n",
              "4                                       US45776Q3074                  \n",
              "\n",
              "  Security Tickers [Any Professional Record] [Current Matching Results]  \\\n",
              "0                          NYSE:PJT; BST:1PJ; DB:1PJ                      \n",
              "1                                 NYSE:HCA; BAYB:2BH                      \n",
              "2                                                  -                      \n",
              "3                                                  -                      \n",
              "4                                                  -                      \n",
              "\n",
              "  SIC Codes (Primary) [Any Professional Record] [Current Matching Results]  \\\n",
              "0                             6282 Investment advice                         \n",
              "1        8062 General medical and surgical hospitals                         \n",
              "2                        3672 Printed circuit boards                         \n",
              "3                  9995 Non-operating establishments                         \n",
              "4                                                  -                         \n",
              "\n",
              "  Company Type [Any Professional Record] [Current Matching Results]  \\\n",
              "0                                     Public Company                  \n",
              "1                                     Public Company                  \n",
              "2                                     Public Company                  \n",
              "3                                     Public Company                  \n",
              "4                                     Public Company                  \n",
              "\n",
              "  Professional Job Functions [Any Professional Record] [Current Matching Results]  \n",
              "0                    Chief Executive Officer (Prior)                               \n",
              "1                    Chief Executive Officer (Prior)                               \n",
              "2                    Chief Executive Officer (Prior)                               \n",
              "3                    Chief Executive Officer (Prior)                               \n",
              "4                    Chief Executive Officer (Prior)                               "
            ]
          },
          "metadata": {
            "tags": []
          },
          "execution_count": 9
        }
      ]
    },
    {
      "cell_type": "code",
      "metadata": {
        "id": "8QIJfjdGtpv_"
      },
      "source": [
        "# renaming some df columns\n",
        "df_directors = df_directors.rename(columns={'Person Name': 'name',\n",
        "                                            'Company Name [Any Professional Record] [Current Matching Results]': 'comp_name',\n",
        "                                            'Exchange:Ticker': 'ticker',\n",
        "                                            'Biographies': 'bio'\n",
        "                                            })\n",
        "\n",
        "# dropping unnecessary columns for now\n",
        "df_dir_upper = df_directors[['name', 'ticker', 'bio']]\n"
      ],
      "execution_count": null,
      "outputs": []
    },
    {
      "cell_type": "code",
      "metadata": {
        "id": "5GVibPAjdOh1",
        "colab": {
          "base_uri": "https://localhost:8080/"
        },
        "outputId": "8a70267b-54a6-4664-f060-3391440d966d"
      },
      "source": [
        "# list of all the columns in the directors dataframe\n",
        "list(df_directors.columns)\n"
      ],
      "execution_count": null,
      "outputs": [
        {
          "output_type": "execute_result",
          "data": {
            "text/plain": [
              "['name',\n",
              " 'comp_name',\n",
              " 'ticker',\n",
              " 'Email Address',\n",
              " 'Professional Titles [Any Professional Record] [Current Matching Results]',\n",
              " 'Colleges/Universities',\n",
              " 'Degrees',\n",
              " 'Graduation Year',\n",
              " 'Majors',\n",
              " 'Geographic Locations [Any Professional Record] [Current Matching Results]',\n",
              " 'Primary Professional Record',\n",
              " 'bio',\n",
              " 'Person Locations [Any Professional Record] [Current Matching Results]',\n",
              " 'Person Age',\n",
              " 'Person Name First',\n",
              " 'Person Name Last',\n",
              " 'Person Name Middle',\n",
              " 'Person Name Nickname',\n",
              " 'Person Name Prefix',\n",
              " 'Person Name Suffix',\n",
              " 'Person Notes',\n",
              " 'Specialties [Any Professional Record] [Current Matching Results]',\n",
              " 'Year Born',\n",
              " 'CIK [Any Professional Record] [Current Matching Results]',\n",
              " 'Company CUSIP [Any Professional Record] [Current Matching Results]',\n",
              " 'Primary ISIN [Any Professional Record] [Current Matching Results]',\n",
              " 'Security Tickers [Any Professional Record] [Current Matching Results]',\n",
              " 'SIC Codes (Primary) [Any Professional Record] [Current Matching Results]',\n",
              " 'Company Type [Any Professional Record] [Current Matching Results]',\n",
              " 'Professional Job Functions [Any Professional Record] [Current Matching Results]']"
            ]
          },
          "metadata": {
            "tags": []
          },
          "execution_count": 11
        }
      ]
    },
    {
      "cell_type": "code",
      "metadata": {
        "id": "h7JNmXkctpwL",
        "colab": {
          "base_uri": "https://localhost:8080/"
        },
        "outputId": "95c81bf0-0e40-4573-b975-d7977830c266"
      },
      "source": [
        "# check how many entries don't have a company ticker\n",
        "df_dir_upper[df_dir_upper['ticker'] == '-'].count()\n"
      ],
      "execution_count": null,
      "outputs": [
        {
          "output_type": "execute_result",
          "data": {
            "text/plain": [
              "name      11641\n",
              "ticker    11641\n",
              "bio       11641\n",
              "dtype: int64"
            ]
          },
          "metadata": {
            "tags": []
          },
          "execution_count": 12
        }
      ]
    },
    {
      "cell_type": "code",
      "metadata": {
        "id": "G_zG0EW5tpwQ",
        "colab": {
          "base_uri": "https://localhost:8080/"
        },
        "outputId": "d1ddd511-4f33-46a3-f123-8b1a5437edc9"
      },
      "source": [
        "# clean up the ticker column and remove the stock exchange information\n",
        "df_dir_upper.loc[:, 'ticker'] = df_dir_upper['ticker'].apply(lambda x: x.split(':')[1] if ':' in x else x).copy()\n"
      ],
      "execution_count": null,
      "outputs": [
        {
          "output_type": "stream",
          "text": [
            "/usr/local/lib/python3.7/dist-packages/pandas/core/indexing.py:1781: SettingWithCopyWarning: \n",
            "A value is trying to be set on a copy of a slice from a DataFrame.\n",
            "Try using .loc[row_indexer,col_indexer] = value instead\n",
            "\n",
            "See the caveats in the documentation: https://pandas.pydata.org/pandas-docs/stable/user_guide/indexing.html#returning-a-view-versus-a-copy\n",
            "  self.obj[item_labels[indexer[info_axis]]] = value\n"
          ],
          "name": "stderr"
        }
      ]
    },
    {
      "cell_type": "code",
      "metadata": {
        "id": "vGhbauLwtpwU",
        "colab": {
          "base_uri": "https://localhost:8080/"
        },
        "outputId": "3b472c97-3b04-4ac3-81ea-67528a80fc94"
      },
      "source": [
        "# how many unique companies are included in this dataset\n",
        "comp_numb = len(df_dir_upper['ticker'].unique().tolist())\n",
        "print('Number of unique companies in dataframe:', comp_numb)\n"
      ],
      "execution_count": null,
      "outputs": [
        {
          "output_type": "stream",
          "text": [
            "Number of unique companies in dataframe: 10846\n"
          ],
          "name": "stdout"
        }
      ]
    },
    {
      "cell_type": "code",
      "metadata": {
        "id": "DckGDlGrtpwZ",
        "colab": {
          "base_uri": "https://localhost:8080/"
        },
        "outputId": "35188587-d52d-475b-9495-7e42531a7094"
      },
      "source": [
        "# how many directors are in this dataframe\n",
        "df_dir_upper.shape\n"
      ],
      "execution_count": null,
      "outputs": [
        {
          "output_type": "execute_result",
          "data": {
            "text/plain": [
              "(38827, 3)"
            ]
          },
          "metadata": {
            "tags": []
          },
          "execution_count": 15
        }
      ]
    },
    {
      "cell_type": "code",
      "metadata": {
        "id": "zpvalPgCtpwc",
        "colab": {
          "base_uri": "https://localhost:8080/"
        },
        "outputId": "e0d8c821-4085-46a5-ab36-fb5a878014c7"
      },
      "source": [
        "# checking for duplicate entries\n",
        "print('Number of unique directors in dataframe:', len(df_dir_upper['bio'].unique()))\n"
      ],
      "execution_count": null,
      "outputs": [
        {
          "output_type": "stream",
          "text": [
            "Number of unique directors in dataframe: 32424\n"
          ],
          "name": "stdout"
        }
      ]
    },
    {
      "cell_type": "code",
      "metadata": {
        "id": "CQbYEmRstpwg",
        "colab": {
          "base_uri": "https://localhost:8080/",
          "height": 419
        },
        "outputId": "2681ef18-f4e5-462c-fb11-3b6ad8765277"
      },
      "source": [
        "# creating new dataframe that only includes the directors of S&P500 companies\n",
        "df_dir_sp500 = df_sp500.merge(df_dir_upper, on='ticker')\n",
        "df_dir_sp500\n"
      ],
      "execution_count": null,
      "outputs": [
        {
          "output_type": "execute_result",
          "data": {
            "text/html": [
              "<div>\n",
              "<style scoped>\n",
              "    .dataframe tbody tr th:only-of-type {\n",
              "        vertical-align: middle;\n",
              "    }\n",
              "\n",
              "    .dataframe tbody tr th {\n",
              "        vertical-align: top;\n",
              "    }\n",
              "\n",
              "    .dataframe thead th {\n",
              "        text-align: right;\n",
              "    }\n",
              "</style>\n",
              "<table border=\"1\" class=\"dataframe\">\n",
              "  <thead>\n",
              "    <tr style=\"text-align: right;\">\n",
              "      <th></th>\n",
              "      <th>ticker</th>\n",
              "      <th>comp_name</th>\n",
              "      <th>name</th>\n",
              "      <th>bio</th>\n",
              "    </tr>\n",
              "  </thead>\n",
              "  <tbody>\n",
              "    <tr>\n",
              "      <th>0</th>\n",
              "      <td>AMZN</td>\n",
              "      <td>amazon.com</td>\n",
              "      <td>Bezos, Jeffrey P. (Board)</td>\n",
              "      <td>Mr. Jeffrey P. Bezos, also known as Jeff found...</td>\n",
              "    </tr>\n",
              "    <tr>\n",
              "      <th>1</th>\n",
              "      <td>ABT</td>\n",
              "      <td>abbott laboratories</td>\n",
              "      <td>White, Miles D. (Board)</td>\n",
              "      <td>Mr. Miles D. White serves as the Chairman and ...</td>\n",
              "    </tr>\n",
              "    <tr>\n",
              "      <th>2</th>\n",
              "      <td>ABT</td>\n",
              "      <td>abbott laboratories</td>\n",
              "      <td>Livingston, John (Prior Board)</td>\n",
              "      <td>Mr. John Livingston served as the Chief Execut...</td>\n",
              "    </tr>\n",
              "    <tr>\n",
              "      <th>3</th>\n",
              "      <td>ABT</td>\n",
              "      <td>abbott laboratories</td>\n",
              "      <td>Haydon, Geoff (Board)</td>\n",
              "      <td>Mr. Geoff Haydon has been the Chief Executive ...</td>\n",
              "    </tr>\n",
              "    <tr>\n",
              "      <th>4</th>\n",
              "      <td>ABT</td>\n",
              "      <td>abbott laboratories</td>\n",
              "      <td>Olsen, Errol</td>\n",
              "      <td>Mr. Errol Olsen has been the Chief Financial O...</td>\n",
              "    </tr>\n",
              "    <tr>\n",
              "      <th>...</th>\n",
              "      <td>...</td>\n",
              "      <td>...</td>\n",
              "      <td>...</td>\n",
              "      <td>...</td>\n",
              "    </tr>\n",
              "    <tr>\n",
              "      <th>1409</th>\n",
              "      <td>MNST</td>\n",
              "      <td>monster beverage</td>\n",
              "      <td>Sacks, Rodney C. (Board)</td>\n",
              "      <td>Mr. Rodney C. Sacks, H.Dip.Law, H.Dip.Tax has ...</td>\n",
              "    </tr>\n",
              "    <tr>\n",
              "      <th>1410</th>\n",
              "      <td>BXLT</td>\n",
              "      <td>baxalta dead - delist.03/06/16</td>\n",
              "      <td>Hantson, Ludwig N. (Board)</td>\n",
              "      <td>Dr. Ludwig N. Hantson, Ph.D. serves as the Chi...</td>\n",
              "    </tr>\n",
              "    <tr>\n",
              "      <th>1411</th>\n",
              "      <td>TGNA</td>\n",
              "      <td>tegna</td>\n",
              "      <td>Martore, Gracia C. (Board)</td>\n",
              "      <td>Ms. Gracia C. Martore has been the President o...</td>\n",
              "    </tr>\n",
              "    <tr>\n",
              "      <th>1412</th>\n",
              "      <td>TGNA</td>\n",
              "      <td>tegna</td>\n",
              "      <td>Dubow, Craig A. (Prior Board)</td>\n",
              "      <td>Mr. Craig A. Dubow served as Chief Executive O...</td>\n",
              "    </tr>\n",
              "    <tr>\n",
              "      <th>1413</th>\n",
              "      <td>TGNA</td>\n",
              "      <td>tegna</td>\n",
              "      <td>McCorkindale, Douglas H. (Prior Board)</td>\n",
              "      <td>Mr. Douglas H. McCorkindale serves as the Pres...</td>\n",
              "    </tr>\n",
              "  </tbody>\n",
              "</table>\n",
              "<p>1414 rows × 4 columns</p>\n",
              "</div>"
            ],
            "text/plain": [
              "     ticker                       comp_name  \\\n",
              "0      AMZN                      amazon.com   \n",
              "1       ABT             abbott laboratories   \n",
              "2       ABT             abbott laboratories   \n",
              "3       ABT             abbott laboratories   \n",
              "4       ABT             abbott laboratories   \n",
              "...     ...                             ...   \n",
              "1409   MNST                monster beverage   \n",
              "1410   BXLT  baxalta dead - delist.03/06/16   \n",
              "1411   TGNA                           tegna   \n",
              "1412   TGNA                           tegna   \n",
              "1413   TGNA                           tegna   \n",
              "\n",
              "                                        name  \\\n",
              "0                  Bezos, Jeffrey P. (Board)   \n",
              "1                    White, Miles D. (Board)   \n",
              "2             Livingston, John (Prior Board)   \n",
              "3                      Haydon, Geoff (Board)   \n",
              "4                               Olsen, Errol   \n",
              "...                                      ...   \n",
              "1409                Sacks, Rodney C. (Board)   \n",
              "1410              Hantson, Ludwig N. (Board)   \n",
              "1411              Martore, Gracia C. (Board)   \n",
              "1412           Dubow, Craig A. (Prior Board)   \n",
              "1413  McCorkindale, Douglas H. (Prior Board)   \n",
              "\n",
              "                                                    bio  \n",
              "0     Mr. Jeffrey P. Bezos, also known as Jeff found...  \n",
              "1     Mr. Miles D. White serves as the Chairman and ...  \n",
              "2     Mr. John Livingston served as the Chief Execut...  \n",
              "3     Mr. Geoff Haydon has been the Chief Executive ...  \n",
              "4     Mr. Errol Olsen has been the Chief Financial O...  \n",
              "...                                                 ...  \n",
              "1409  Mr. Rodney C. Sacks, H.Dip.Law, H.Dip.Tax has ...  \n",
              "1410  Dr. Ludwig N. Hantson, Ph.D. serves as the Chi...  \n",
              "1411  Ms. Gracia C. Martore has been the President o...  \n",
              "1412  Mr. Craig A. Dubow served as Chief Executive O...  \n",
              "1413  Mr. Douglas H. McCorkindale serves as the Pres...  \n",
              "\n",
              "[1414 rows x 4 columns]"
            ]
          },
          "metadata": {
            "tags": []
          },
          "execution_count": 17
        }
      ]
    },
    {
      "cell_type": "markdown",
      "metadata": {
        "id": "5sjnbKKaI2cf"
      },
      "source": [
        "### Writing the merged S&P500 and director biographies dataframe to an Excel file\n"
      ]
    },
    {
      "cell_type": "code",
      "metadata": {
        "id": "3vEBgH4MJDUd"
      },
      "source": [
        "# writing to Excel file\n",
        "df_dir_sp500.to_excel('/content/drive/My Drive/director-csr/sp500_biographies_2015.xlsx')\n"
      ],
      "execution_count": null,
      "outputs": []
    },
    {
      "cell_type": "markdown",
      "metadata": {
        "id": "9mudmPNologk"
      },
      "source": [
        "## Randomly selecting 100 examples for manual review and train, val, test datasets"
      ]
    },
    {
      "cell_type": "code",
      "metadata": {
        "id": "EvYnCUchA3AJ",
        "colab": {
          "base_uri": "https://localhost:8080/"
        },
        "outputId": "ce1e6c52-84f8-4fd1-d4e0-ad68bfca81ba"
      },
      "source": [
        "# generate 100 numbers randomly\n",
        "number_42 = RandomState(42)\n",
        "train_100 = number_42.randint(0,1413,100)\n",
        "train_100 = list(train_100)\n",
        "print(train_100)\n"
      ],
      "execution_count": null,
      "outputs": [
        {
          "output_type": "stream",
          "text": [
            "[1126, 860, 1294, 1130, 1095, 1044, 121, 466, 1238, 330, 87, 1396, 1123, 871, 130, 1332, 769, 343, 805, 385, 1215, 955, 276, 1184, 459, 1337, 21, 252, 747, 856, 474, 1082, 510, 699, 975, 189, 957, 686, 957, 562, 1267, 831, 1154, 646, 20, 840, 166, 1297, 387, 600, 315, 13, 241, 776, 1369, 564, 897, 1363, 91, 1390, 955, 508, 775, 34, 205, 1104, 1411, 1025, 1021, 565, 1129, 702, 401, 729, 161, 201, 995, 269, 815, 1294, 455, 1275, 1016, 295, 719, 337, 878, 1076, 791, 216, 763, 187, 379, 492, 1064, 1180, 14, 64, 520, 1367]\n"
          ],
          "name": "stdout"
        }
      ]
    },
    {
      "cell_type": "code",
      "metadata": {
        "id": "XcZJWqYe37iZ"
      },
      "source": [
        "# check for duplicates\n",
        "len(set(train_100))\n",
        "# remove duplicates\n",
        "train_100 = list(set(train_100))\n",
        "\n"
      ],
      "execution_count": null,
      "outputs": []
    },
    {
      "cell_type": "markdown",
      "metadata": {
        "id": "7Z1M_tLS49RL"
      },
      "source": [
        "Unfortunately, the above list of random integers contains 3 duplicates which were not filtered out before the manual review started. Therefore, a list of three random integers will be generated to add these to the list of 97 to get a full 100 samples."
      ]
    },
    {
      "cell_type": "code",
      "metadata": {
        "id": "XYdQ0vlz5Azf",
        "colab": {
          "base_uri": "https://localhost:8080/"
        },
        "outputId": "5ac4452d-e68e-4425-f353-eaf7e418408d"
      },
      "source": [
        "# generate additional 3 random integers\n",
        "number_21 = RandomState(21)\n",
        "train_3 = number_21.randint(0,1413,3)\n",
        "train_3 = list(train_3)\n",
        "train_3\n"
      ],
      "execution_count": null,
      "outputs": [
        {
          "output_type": "execute_result",
          "data": {
            "text/plain": [
              "[969, 1231, 772]"
            ]
          },
          "metadata": {
            "tags": []
          },
          "execution_count": 21
        }
      ]
    },
    {
      "cell_type": "code",
      "metadata": {
        "id": "d-OOWjCv5PmH",
        "colab": {
          "base_uri": "https://localhost:8080/"
        },
        "outputId": "9d981cd0-edc9-4f02-c7c9-f1d2eaadc37b"
      },
      "source": [
        "# check the two lists for duplicates now\n",
        "train_100.extend(train_3)\n",
        "len(set(train_100))\n"
      ],
      "execution_count": null,
      "outputs": [
        {
          "output_type": "execute_result",
          "data": {
            "text/plain": [
              "100"
            ]
          },
          "metadata": {
            "tags": []
          },
          "execution_count": 22
        }
      ]
    },
    {
      "cell_type": "code",
      "metadata": {
        "colab": {
          "base_uri": "https://localhost:8080/"
        },
        "id": "hHTTMh4ajSKI",
        "outputId": "e0925064-b89f-4af4-eef5-b5a64099bfe9"
      },
      "source": [
        "# add an additional of 50 examples because 100 examples were too little\n",
        "number_13 = RandomState(13)\n",
        "train_50 = number_13.randint(0,1413,55)\n",
        "train_50 = list(train_50)\n",
        "# check for duplicates in train_50\n",
        "len(set(train_50))\n"
      ],
      "execution_count": null,
      "outputs": [
        {
          "output_type": "execute_result",
          "data": {
            "text/plain": [
              "53"
            ]
          },
          "metadata": {
            "tags": []
          },
          "execution_count": 23
        }
      ]
    },
    {
      "cell_type": "code",
      "metadata": {
        "colab": {
          "base_uri": "https://localhost:8080/"
        },
        "id": "NTuCUrZVmHsz",
        "outputId": "08e20e78-7018-4151-c8e4-d650cc460104"
      },
      "source": [
        "# check for duplicates between the previous 100 examples and the 50 new examples\n",
        "duplicates = set(train_100) & set(train_50)\n",
        "print('Duplicates in train_50:', duplicates)\n",
        "# remove the duplicates from train_50\n",
        "train_50 = set(train_50) - set(duplicates)\n",
        "print('Unique values in train_50 after deletion:', len(set(train_50)))\n",
        "print('Duplicates in both train_100 and train_50 after deletion:', set(train_50) & set(train_100))\n"
      ],
      "execution_count": null,
      "outputs": [
        {
          "output_type": "stream",
          "text": [
            "Duplicates in train_50: {1184, 1267, 166}\n",
            "Unique values in train_50 after deletion: 50\n",
            "Duplicates in both train_100 and train_50 after deletion: set()\n"
          ],
          "name": "stdout"
        }
      ]
    },
    {
      "cell_type": "markdown",
      "metadata": {
        "id": "CspZMAnRmzw7"
      },
      "source": [
        "Because the above list of numbers contains 53 items, the three duplicates can be disregarded and we will still have 150 examples in total"
      ]
    },
    {
      "cell_type": "code",
      "metadata": {
        "colab": {
          "base_uri": "https://localhost:8080/",
          "height": 204
        },
        "id": "UDyMQrftkwcs",
        "outputId": "859cfc53-58cb-4ad0-f6a0-292cd0dda36d"
      },
      "source": [
        "# combine the 100 with the 50 new examples\n",
        "train_100.extend(train_50)\n",
        "# get the randomly chosen \n",
        "train_df = df_dir_sp500.iloc[train_100,:]\n",
        "train_df.head()\n"
      ],
      "execution_count": null,
      "outputs": [
        {
          "output_type": "execute_result",
          "data": {
            "text/html": [
              "<div>\n",
              "<style scoped>\n",
              "    .dataframe tbody tr th:only-of-type {\n",
              "        vertical-align: middle;\n",
              "    }\n",
              "\n",
              "    .dataframe tbody tr th {\n",
              "        vertical-align: top;\n",
              "    }\n",
              "\n",
              "    .dataframe thead th {\n",
              "        text-align: right;\n",
              "    }\n",
              "</style>\n",
              "<table border=\"1\" class=\"dataframe\">\n",
              "  <thead>\n",
              "    <tr style=\"text-align: right;\">\n",
              "      <th></th>\n",
              "      <th>ticker</th>\n",
              "      <th>comp_name</th>\n",
              "      <th>name</th>\n",
              "      <th>bio</th>\n",
              "    </tr>\n",
              "  </thead>\n",
              "  <tbody>\n",
              "    <tr>\n",
              "      <th>1025</th>\n",
              "      <td>STT</td>\n",
              "      <td>state street</td>\n",
              "      <td>Maier, Robert K. (Prior Board)</td>\n",
              "      <td>Mr. Robert K. Maier has been the President of ...</td>\n",
              "    </tr>\n",
              "    <tr>\n",
              "      <th>520</th>\n",
              "      <td>HAR</td>\n",
              "      <td>harman intl.inds. dead - delist.13/03/17</td>\n",
              "      <td>Girod, Bernard A. (Prior Board)</td>\n",
              "      <td>Mr. Bernard A. Girod served as Chief Executive...</td>\n",
              "    </tr>\n",
              "    <tr>\n",
              "      <th>13</th>\n",
              "      <td>ADBE</td>\n",
              "      <td>adobe (nas)</td>\n",
              "      <td>Chizen, Bruce R. (Prior Board)</td>\n",
              "      <td>Mr. Bruce R. Chizen is a Venture Partner and M...</td>\n",
              "    </tr>\n",
              "    <tr>\n",
              "      <th>14</th>\n",
              "      <td>ADBE</td>\n",
              "      <td>adobe (nas)</td>\n",
              "      <td>Narayen, Shantanu (Board)</td>\n",
              "      <td>Mr. Shantanu Narayen has been Chief Executive ...</td>\n",
              "    </tr>\n",
              "    <tr>\n",
              "      <th>1044</th>\n",
              "      <td>STI</td>\n",
              "      <td>suntrust banks dead - delist.09/12/19</td>\n",
              "      <td>Rogers, William Henry (Board)</td>\n",
              "      <td>Mr. William Henry Rogers, also known as Bill, ...</td>\n",
              "    </tr>\n",
              "  </tbody>\n",
              "</table>\n",
              "</div>"
            ],
            "text/plain": [
              "     ticker                                 comp_name  \\\n",
              "1025    STT                              state street   \n",
              "520     HAR  harman intl.inds. dead - delist.13/03/17   \n",
              "13     ADBE                               adobe (nas)   \n",
              "14     ADBE                               adobe (nas)   \n",
              "1044    STI     suntrust banks dead - delist.09/12/19   \n",
              "\n",
              "                                 name  \\\n",
              "1025   Maier, Robert K. (Prior Board)   \n",
              "520   Girod, Bernard A. (Prior Board)   \n",
              "13     Chizen, Bruce R. (Prior Board)   \n",
              "14          Narayen, Shantanu (Board)   \n",
              "1044    Rogers, William Henry (Board)   \n",
              "\n",
              "                                                    bio  \n",
              "1025  Mr. Robert K. Maier has been the President of ...  \n",
              "520   Mr. Bernard A. Girod served as Chief Executive...  \n",
              "13    Mr. Bruce R. Chizen is a Venture Partner and M...  \n",
              "14    Mr. Shantanu Narayen has been Chief Executive ...  \n",
              "1044  Mr. William Henry Rogers, also known as Bill, ...  "
            ]
          },
          "metadata": {
            "tags": []
          },
          "execution_count": 25
        }
      ]
    },
    {
      "cell_type": "code",
      "metadata": {
        "colab": {
          "base_uri": "https://localhost:8080/"
        },
        "id": "8wgbGSkOkzYy",
        "outputId": "5741a480-161c-4548-c78e-16e81c0ac736"
      },
      "source": [
        "# final check for duplicates\n",
        "len(train_df.index)\n"
      ],
      "execution_count": null,
      "outputs": [
        {
          "output_type": "execute_result",
          "data": {
            "text/plain": [
              "150"
            ]
          },
          "metadata": {
            "tags": []
          },
          "execution_count": 26
        }
      ]
    },
    {
      "cell_type": "markdown",
      "metadata": {
        "id": "rBXJLr3w8Efn"
      },
      "source": [
        "### Write biography review sample from S&P Capital IQ to Excel file"
      ]
    },
    {
      "cell_type": "markdown",
      "metadata": {
        "id": "zFfmsVhltv9s"
      },
      "source": [
        "An important thing to note: I will export this dataframe to an excel file and manually review these biographies to get training and testing data sets.\n",
        "\n",
        "I will tag everything as 1 in the target values if the words match something that could be CSR-related. Even if it is green washing or could be green washing. The machine won't know that just from the words. Once I have tagged, trained, tested, and run the model and I get results back, then I will check whether the flagged people are actually green/social.\n",
        "\n",
        "In 1282 \"adult literacy and workforce development\" was found and coded as 1 for social. This should be included in the keyword list in the thesis."
      ]
    },
    {
      "cell_type": "code",
      "metadata": {
        "id": "2SQrTFO_FkyB"
      },
      "source": [
        "# write the dataframe to an Excel file\n",
        "train_df_bio = train_df[['bio']]\n",
        "train_df_bio.to_excel('/content/drive/My Drive/director-csr/review_data/train_150.xlsx')\n"
      ],
      "execution_count": null,
      "outputs": []
    },
    {
      "cell_type": "markdown",
      "metadata": {
        "id": "PWd-6jWrlK-l"
      },
      "source": [
        "### Create manual review sample from director data that was manually researched from DEF 14As\n",
        "\n",
        "When I first created the above manual review sample of biographies from the S&P Capital IQ biography dataset, I was under the impression that all of the relevant directors in my overall analysis sample were included in it. However, it turned out after I gathered the board membership data and cleaned the data (in the `biography_matching.ipynb` notebook) that only about ~ 1200 directors were included. Therefore, I had to manually research the remaining ~ 4100 directors and their biographies from DEF 14As. \n",
        "\n",
        "The structure, layout and content of the biographies from the S&P Capital IQ dataset and the DEF 14As are very similar. Because certain formulations differ, such as mentioning of committee memberships, I will create another manual review sample from the DEF 14A biographies including 50 samples so that my machine learning model will have seen both types of biographies in the training phase.\n"
      ]
    },
    {
      "cell_type": "code",
      "metadata": {
        "colab": {
          "base_uri": "https://localhost:8080/",
          "height": 530
        },
        "id": "-JQ2q4bDungR",
        "outputId": "05cfea1d-d591-4f44-b42b-6ec1bce1c4c6"
      },
      "source": [
        "# read in the overall director sample including their biographies\n",
        "dir_sample_df = pd.read_excel('/content/drive/My Drive/director-csr/complete_sample.xlsx')\n",
        "dir_sample_df.drop(columns=['Unnamed: 0'], inplace=True)\n",
        "dir_sample_df.head()\n"
      ],
      "execution_count": null,
      "outputs": [
        {
          "output_type": "execute_result",
          "data": {
            "text/html": [
              "<div>\n",
              "<style scoped>\n",
              "    .dataframe tbody tr th:only-of-type {\n",
              "        vertical-align: middle;\n",
              "    }\n",
              "\n",
              "    .dataframe tbody tr th {\n",
              "        vertical-align: top;\n",
              "    }\n",
              "\n",
              "    .dataframe thead th {\n",
              "        text-align: right;\n",
              "    }\n",
              "</style>\n",
              "<table border=\"1\" class=\"dataframe\">\n",
              "  <thead>\n",
              "    <tr style=\"text-align: right;\">\n",
              "      <th></th>\n",
              "      <th>name</th>\n",
              "      <th>age</th>\n",
              "      <th>last_position</th>\n",
              "      <th>director_start</th>\n",
              "      <th>director_end</th>\n",
              "      <th>executive_start</th>\n",
              "      <th>executive_end</th>\n",
              "      <th>comp_name</th>\n",
              "      <th>ticker</th>\n",
              "      <th>missing_start_date</th>\n",
              "      <th>2011</th>\n",
              "      <th>2012</th>\n",
              "      <th>2013</th>\n",
              "      <th>2014</th>\n",
              "      <th>2015</th>\n",
              "      <th>current_position</th>\n",
              "      <th>dir_exec</th>\n",
              "      <th>in_position</th>\n",
              "      <th>isin</th>\n",
              "      <th>org_name</th>\n",
              "      <th>unique_dir_id</th>\n",
              "      <th>all_years</th>\n",
              "      <th>biographies</th>\n",
              "      <th>board_committee</th>\n",
              "      <th>committee</th>\n",
              "      <th>comm_type</th>\n",
              "      <th>comm_start</th>\n",
              "      <th>comm_end</th>\n",
              "      <th>list_years_if_non_consecutive</th>\n",
              "      <th>2011_comm</th>\n",
              "      <th>2012_comm</th>\n",
              "      <th>2013_comm</th>\n",
              "      <th>2014_comm</th>\n",
              "      <th>2015_comm</th>\n",
              "    </tr>\n",
              "  </thead>\n",
              "  <tbody>\n",
              "    <tr>\n",
              "      <th>0</th>\n",
              "      <td>christina gold</td>\n",
              "      <td>72.0</td>\n",
              "      <td>independent director</td>\n",
              "      <td>0.0</td>\n",
              "      <td>0.0</td>\n",
              "      <td>1997.0</td>\n",
              "      <td>2020.0</td>\n",
              "      <td>itt inc</td>\n",
              "      <td>itt</td>\n",
              "      <td>0.0</td>\n",
              "      <td>1</td>\n",
              "      <td>1</td>\n",
              "      <td>1</td>\n",
              "      <td>1</td>\n",
              "      <td>1</td>\n",
              "      <td>NaN</td>\n",
              "      <td>NaN</td>\n",
              "      <td>NaN</td>\n",
              "      <td>us45073v1089</td>\n",
              "      <td>ms. christina gold</td>\n",
              "      <td>7917</td>\n",
              "      <td>no</td>\n",
              "      <td>Mrs. Christina A. Gold has been the Chief Exec...</td>\n",
              "      <td>NaN</td>\n",
              "      <td>NaN</td>\n",
              "      <td>NaN</td>\n",
              "      <td>NaN</td>\n",
              "      <td>NaN</td>\n",
              "      <td>NaN</td>\n",
              "      <td>0</td>\n",
              "      <td>0</td>\n",
              "      <td>0</td>\n",
              "      <td>0</td>\n",
              "      <td>0</td>\n",
              "    </tr>\n",
              "    <tr>\n",
              "      <th>1</th>\n",
              "      <td>frank macinnis</td>\n",
              "      <td>72.0</td>\n",
              "      <td>independent chairman of the board</td>\n",
              "      <td>2011.0</td>\n",
              "      <td>2020.0</td>\n",
              "      <td>2001.0</td>\n",
              "      <td>2020.0</td>\n",
              "      <td>itt inc</td>\n",
              "      <td>itt</td>\n",
              "      <td>0.0</td>\n",
              "      <td>1</td>\n",
              "      <td>1</td>\n",
              "      <td>1</td>\n",
              "      <td>1</td>\n",
              "      <td>1</td>\n",
              "      <td>NaN</td>\n",
              "      <td>NaN</td>\n",
              "      <td>NaN</td>\n",
              "      <td>us45073v1089</td>\n",
              "      <td>mr. frank macinnis</td>\n",
              "      <td>3325</td>\n",
              "      <td>no</td>\n",
              "      <td>Mr. Frank T. MacInnis serves as the President ...</td>\n",
              "      <td>NaN</td>\n",
              "      <td>NaN</td>\n",
              "      <td>NaN</td>\n",
              "      <td>NaN</td>\n",
              "      <td>NaN</td>\n",
              "      <td>NaN</td>\n",
              "      <td>0</td>\n",
              "      <td>0</td>\n",
              "      <td>0</td>\n",
              "      <td>0</td>\n",
              "      <td>0</td>\n",
              "    </tr>\n",
              "    <tr>\n",
              "      <th>2</th>\n",
              "      <td>denise ramos</td>\n",
              "      <td>63.0</td>\n",
              "      <td>president, chief executive officer, director</td>\n",
              "      <td>2011.0</td>\n",
              "      <td>2019.0</td>\n",
              "      <td>2011.0</td>\n",
              "      <td>2019.0</td>\n",
              "      <td>itt inc</td>\n",
              "      <td>itt</td>\n",
              "      <td>0.0</td>\n",
              "      <td>1</td>\n",
              "      <td>1</td>\n",
              "      <td>1</td>\n",
              "      <td>1</td>\n",
              "      <td>1</td>\n",
              "      <td>NaN</td>\n",
              "      <td>NaN</td>\n",
              "      <td>NaN</td>\n",
              "      <td>us45073v1089</td>\n",
              "      <td>ms. denise ramos</td>\n",
              "      <td>7996</td>\n",
              "      <td>no</td>\n",
              "      <td>Ms. Denise L. Ramos serves as the Chief Execut...</td>\n",
              "      <td>NaN</td>\n",
              "      <td>NaN</td>\n",
              "      <td>NaN</td>\n",
              "      <td>NaN</td>\n",
              "      <td>NaN</td>\n",
              "      <td>NaN</td>\n",
              "      <td>0</td>\n",
              "      <td>0</td>\n",
              "      <td>0</td>\n",
              "      <td>0</td>\n",
              "      <td>0</td>\n",
              "    </tr>\n",
              "    <tr>\n",
              "      <th>3</th>\n",
              "      <td>orlando ashford</td>\n",
              "      <td>51.0</td>\n",
              "      <td>NaN</td>\n",
              "      <td>NaN</td>\n",
              "      <td>NaN</td>\n",
              "      <td>NaN</td>\n",
              "      <td>NaN</td>\n",
              "      <td>itt inc</td>\n",
              "      <td>itt</td>\n",
              "      <td>NaN</td>\n",
              "      <td>0</td>\n",
              "      <td>1</td>\n",
              "      <td>1</td>\n",
              "      <td>1</td>\n",
              "      <td>1</td>\n",
              "      <td>independent director</td>\n",
              "      <td>2012.0</td>\n",
              "      <td>2012.0</td>\n",
              "      <td>us45073v1089</td>\n",
              "      <td>mr. orlando ashford</td>\n",
              "      <td>5733</td>\n",
              "      <td>no</td>\n",
              "      <td>Orlando D. Ashford, 47, has served as the Pres...</td>\n",
              "      <td>NaN</td>\n",
              "      <td>NaN</td>\n",
              "      <td>NaN</td>\n",
              "      <td>NaN</td>\n",
              "      <td>NaN</td>\n",
              "      <td>NaN</td>\n",
              "      <td>0</td>\n",
              "      <td>0</td>\n",
              "      <td>0</td>\n",
              "      <td>0</td>\n",
              "      <td>0</td>\n",
              "    </tr>\n",
              "    <tr>\n",
              "      <th>4</th>\n",
              "      <td>donald defosset</td>\n",
              "      <td>72.0</td>\n",
              "      <td>NaN</td>\n",
              "      <td>NaN</td>\n",
              "      <td>NaN</td>\n",
              "      <td>NaN</td>\n",
              "      <td>NaN</td>\n",
              "      <td>itt inc</td>\n",
              "      <td>itt</td>\n",
              "      <td>NaN</td>\n",
              "      <td>0</td>\n",
              "      <td>1</td>\n",
              "      <td>1</td>\n",
              "      <td>1</td>\n",
              "      <td>1</td>\n",
              "      <td>independent director</td>\n",
              "      <td>2012.0</td>\n",
              "      <td>2012.0</td>\n",
              "      <td>us45073v1089</td>\n",
              "      <td>mr. donald (don) defosset , jr.</td>\n",
              "      <td>2984</td>\n",
              "      <td>no</td>\n",
              "      <td>Mr. Donald DeFosset, Jr., also known as Don, B...</td>\n",
              "      <td>NaN</td>\n",
              "      <td>NaN</td>\n",
              "      <td>NaN</td>\n",
              "      <td>NaN</td>\n",
              "      <td>NaN</td>\n",
              "      <td>NaN</td>\n",
              "      <td>0</td>\n",
              "      <td>0</td>\n",
              "      <td>0</td>\n",
              "      <td>0</td>\n",
              "      <td>0</td>\n",
              "    </tr>\n",
              "  </tbody>\n",
              "</table>\n",
              "</div>"
            ],
            "text/plain": [
              "              name   age                                 last_position  \\\n",
              "0   christina gold  72.0                          independent director   \n",
              "1   frank macinnis  72.0             independent chairman of the board   \n",
              "2     denise ramos  63.0  president, chief executive officer, director   \n",
              "3  orlando ashford  51.0                                           NaN   \n",
              "4  donald defosset  72.0                                           NaN   \n",
              "\n",
              "   director_start  director_end  executive_start  executive_end comp_name  \\\n",
              "0             0.0           0.0           1997.0         2020.0   itt inc   \n",
              "1          2011.0        2020.0           2001.0         2020.0   itt inc   \n",
              "2          2011.0        2019.0           2011.0         2019.0   itt inc   \n",
              "3             NaN           NaN              NaN            NaN   itt inc   \n",
              "4             NaN           NaN              NaN            NaN   itt inc   \n",
              "\n",
              "  ticker  missing_start_date  2011  2012  2013  2014  2015  \\\n",
              "0    itt                 0.0     1     1     1     1     1   \n",
              "1    itt                 0.0     1     1     1     1     1   \n",
              "2    itt                 0.0     1     1     1     1     1   \n",
              "3    itt                 NaN     0     1     1     1     1   \n",
              "4    itt                 NaN     0     1     1     1     1   \n",
              "\n",
              "       current_position  dir_exec  in_position          isin  \\\n",
              "0                   NaN       NaN          NaN  us45073v1089   \n",
              "1                   NaN       NaN          NaN  us45073v1089   \n",
              "2                   NaN       NaN          NaN  us45073v1089   \n",
              "3  independent director    2012.0       2012.0  us45073v1089   \n",
              "4  independent director    2012.0       2012.0  us45073v1089   \n",
              "\n",
              "                          org_name  unique_dir_id all_years  \\\n",
              "0               ms. christina gold           7917        no   \n",
              "1               mr. frank macinnis           3325        no   \n",
              "2                 ms. denise ramos           7996        no   \n",
              "3              mr. orlando ashford           5733        no   \n",
              "4  mr. donald (don) defosset , jr.           2984        no   \n",
              "\n",
              "                                         biographies board_committee  \\\n",
              "0  Mrs. Christina A. Gold has been the Chief Exec...             NaN   \n",
              "1  Mr. Frank T. MacInnis serves as the President ...             NaN   \n",
              "2  Ms. Denise L. Ramos serves as the Chief Execut...             NaN   \n",
              "3  Orlando D. Ashford, 47, has served as the Pres...             NaN   \n",
              "4  Mr. Donald DeFosset, Jr., also known as Don, B...             NaN   \n",
              "\n",
              "  committee comm_type  comm_start  comm_end list_years_if_non_consecutive  \\\n",
              "0       NaN       NaN         NaN       NaN                           NaN   \n",
              "1       NaN       NaN         NaN       NaN                           NaN   \n",
              "2       NaN       NaN         NaN       NaN                           NaN   \n",
              "3       NaN       NaN         NaN       NaN                           NaN   \n",
              "4       NaN       NaN         NaN       NaN                           NaN   \n",
              "\n",
              "   2011_comm  2012_comm  2013_comm  2014_comm  2015_comm  \n",
              "0          0          0          0          0          0  \n",
              "1          0          0          0          0          0  \n",
              "2          0          0          0          0          0  \n",
              "3          0          0          0          0          0  \n",
              "4          0          0          0          0          0  "
            ]
          },
          "metadata": {
            "tags": []
          },
          "execution_count": 28
        }
      ]
    },
    {
      "cell_type": "code",
      "metadata": {
        "colab": {
          "base_uri": "https://localhost:8080/"
        },
        "id": "Tkoq8ONFv6hN",
        "outputId": "e855b8dc-4ee1-453d-ae6e-0073e0635b6a"
      },
      "source": [
        "# shape of the director dataframe\n",
        "dir_sample_df.shape\n"
      ],
      "execution_count": null,
      "outputs": [
        {
          "output_type": "execute_result",
          "data": {
            "text/plain": [
              "(6595, 34)"
            ]
          },
          "metadata": {
            "tags": []
          },
          "execution_count": 29
        }
      ]
    },
    {
      "cell_type": "code",
      "metadata": {
        "colab": {
          "base_uri": "https://localhost:8080/"
        },
        "id": "S76hXFi4PhJn",
        "outputId": "ee52957e-6ac1-45c0-a521-6c3968763ac7"
      },
      "source": [
        "# clean the sp500 bio data so that it will compare to the cleaned bios in the dir_sample_df\n",
        "train_df['bio'] = train_df['bio'].apply(lambda x: x.replace('\\n', ' '))\n",
        "train_df['bio'] = train_df['bio'].apply(lambda x: x.replace('\\t', ' '))\n",
        "train_df['bio'] = train_df['bio'].apply(lambda x: re.sub('\\s+', ' ', x).strip())\n"
      ],
      "execution_count": null,
      "outputs": [
        {
          "output_type": "stream",
          "text": [
            "/usr/local/lib/python3.7/dist-packages/ipykernel_launcher.py:2: SettingWithCopyWarning: \n",
            "A value is trying to be set on a copy of a slice from a DataFrame.\n",
            "Try using .loc[row_indexer,col_indexer] = value instead\n",
            "\n",
            "See the caveats in the documentation: https://pandas.pydata.org/pandas-docs/stable/user_guide/indexing.html#returning-a-view-versus-a-copy\n",
            "  \n",
            "/usr/local/lib/python3.7/dist-packages/ipykernel_launcher.py:3: SettingWithCopyWarning: \n",
            "A value is trying to be set on a copy of a slice from a DataFrame.\n",
            "Try using .loc[row_indexer,col_indexer] = value instead\n",
            "\n",
            "See the caveats in the documentation: https://pandas.pydata.org/pandas-docs/stable/user_guide/indexing.html#returning-a-view-versus-a-copy\n",
            "  This is separate from the ipykernel package so we can avoid doing imports until\n",
            "/usr/local/lib/python3.7/dist-packages/ipykernel_launcher.py:4: SettingWithCopyWarning: \n",
            "A value is trying to be set on a copy of a slice from a DataFrame.\n",
            "Try using .loc[row_indexer,col_indexer] = value instead\n",
            "\n",
            "See the caveats in the documentation: https://pandas.pydata.org/pandas-docs/stable/user_guide/indexing.html#returning-a-view-versus-a-copy\n",
            "  after removing the cwd from sys.path.\n"
          ],
          "name": "stderr"
        }
      ]
    },
    {
      "cell_type": "code",
      "metadata": {
        "colab": {
          "base_uri": "https://localhost:8080/"
        },
        "id": "cENBDTWTxBop",
        "outputId": "014c9238-a3e0-4ed3-8e3a-35e4f3725805"
      },
      "source": [
        "# how many unique directors are included in this sample\n",
        "num_unique_dirs = len(list(dir_sample_df['unique_dir_id'].unique()))\n",
        "print('Unique directors included in dataset:', num_unique_dirs)\n",
        "unique_dirs_df = dir_sample_df[~dir_sample_df.duplicated(subset=['unique_dir_id'], keep='first')]\n",
        "# shape of the dataframe including bios used in SP Capital IQ review sample\n",
        "print(unique_dirs_df.shape)\n",
        "unique_dirs_df = unique_dirs_df[~unique_dirs_df['biographies'].isin(train_df['bio'].values)]\n",
        "# shape of the dataframe after removing the bios used in SP Capital IQ review sample\n",
        "print(unique_dirs_df.shape)\n",
        "# directors not in the S&P Capital IQ dataset\n",
        "num_dirs_new = unique_dirs_df.shape[0]\n",
        "# all unique indices\n",
        "unique_index = unique_dirs_df.index\n",
        "unique_index"
      ],
      "execution_count": null,
      "outputs": [
        {
          "output_type": "stream",
          "text": [
            "Unique directors included in dataset: 5321\n",
            "(5321, 34)\n",
            "(5249, 34)\n"
          ],
          "name": "stdout"
        },
        {
          "output_type": "execute_result",
          "data": {
            "text/plain": [
              "Int64Index([   0,    1,    2,    3,    4,    5,    6,    7,    8,    9,\n",
              "            ...\n",
              "            6576, 6582, 6583, 6584, 6585, 6586, 6587, 6590, 6591, 6592],\n",
              "           dtype='int64', length=5249)"
            ]
          },
          "metadata": {
            "tags": []
          },
          "execution_count": 31
        }
      ]
    },
    {
      "cell_type": "code",
      "metadata": {
        "id": "BdfoSYE3uqUB"
      },
      "source": [
        "# randomly select 150 samples\n",
        "number_21 = RandomState(21)\n",
        "train_50 = number_21.randint(0,num_dirs_new,50)\n",
        "train_50 = list(train_50)\n"
      ],
      "execution_count": null,
      "outputs": []
    },
    {
      "cell_type": "code",
      "metadata": {
        "colab": {
          "base_uri": "https://localhost:8080/"
        },
        "id": "DAJFQvJdpVjF",
        "outputId": "fad109b3-5dc0-4135-ed2c-64223e860a4b"
      },
      "source": [
        "print(train_50)"
      ],
      "execution_count": null,
      "outputs": [
        {
          "output_type": "stream",
          "text": [
            "[772, 48, 1144, 4706, 4298, 840, 1646, 447, 829, 233, 1789, 2352, 3310, 2916, 5094, 2644, 2935, 1208, 681, 486, 1765, 4146, 952, 1772, 2530, 1797, 2416, 2296, 929, 780, 2288, 3974, 4954, 5148, 3209, 464, 1157, 4331, 3001, 4484, 3870, 1766, 2969, 1440, 2810, 1754, 1136, 4505, 3279, 4277]\n"
          ],
          "name": "stdout"
        }
      ]
    },
    {
      "cell_type": "code",
      "metadata": {
        "colab": {
          "base_uri": "https://localhost:8080/",
          "height": 564
        },
        "id": "l867TB5Jm3gV",
        "outputId": "00e74d2e-4f05-408f-9560-aef11a08ba43"
      },
      "source": [
        "# get the review sample\n",
        "train_50_review = unique_dirs_df.iloc[train_50, :]\n",
        "train_50_review.head()\n"
      ],
      "execution_count": null,
      "outputs": [
        {
          "output_type": "execute_result",
          "data": {
            "text/html": [
              "<div>\n",
              "<style scoped>\n",
              "    .dataframe tbody tr th:only-of-type {\n",
              "        vertical-align: middle;\n",
              "    }\n",
              "\n",
              "    .dataframe tbody tr th {\n",
              "        vertical-align: top;\n",
              "    }\n",
              "\n",
              "    .dataframe thead th {\n",
              "        text-align: right;\n",
              "    }\n",
              "</style>\n",
              "<table border=\"1\" class=\"dataframe\">\n",
              "  <thead>\n",
              "    <tr style=\"text-align: right;\">\n",
              "      <th></th>\n",
              "      <th>name</th>\n",
              "      <th>age</th>\n",
              "      <th>last_position</th>\n",
              "      <th>director_start</th>\n",
              "      <th>director_end</th>\n",
              "      <th>executive_start</th>\n",
              "      <th>executive_end</th>\n",
              "      <th>comp_name</th>\n",
              "      <th>ticker</th>\n",
              "      <th>missing_start_date</th>\n",
              "      <th>2011</th>\n",
              "      <th>2012</th>\n",
              "      <th>2013</th>\n",
              "      <th>2014</th>\n",
              "      <th>2015</th>\n",
              "      <th>current_position</th>\n",
              "      <th>dir_exec</th>\n",
              "      <th>in_position</th>\n",
              "      <th>isin</th>\n",
              "      <th>org_name</th>\n",
              "      <th>unique_dir_id</th>\n",
              "      <th>all_years</th>\n",
              "      <th>biographies</th>\n",
              "      <th>board_committee</th>\n",
              "      <th>committee</th>\n",
              "      <th>comm_type</th>\n",
              "      <th>comm_start</th>\n",
              "      <th>comm_end</th>\n",
              "      <th>list_years_if_non_consecutive</th>\n",
              "      <th>2011_comm</th>\n",
              "      <th>2012_comm</th>\n",
              "      <th>2013_comm</th>\n",
              "      <th>2014_comm</th>\n",
              "      <th>2015_comm</th>\n",
              "    </tr>\n",
              "  </thead>\n",
              "  <tbody>\n",
              "    <tr>\n",
              "      <th>794</th>\n",
              "      <td>bonnie brooks</td>\n",
              "      <td>66.0</td>\n",
              "      <td>independent director</td>\n",
              "      <td>0.0</td>\n",
              "      <td>0.0</td>\n",
              "      <td>2014.0</td>\n",
              "      <td>2018.0</td>\n",
              "      <td>abercrombie &amp; fitch co</td>\n",
              "      <td>anf</td>\n",
              "      <td>0.0</td>\n",
              "      <td>0</td>\n",
              "      <td>0</td>\n",
              "      <td>0</td>\n",
              "      <td>1</td>\n",
              "      <td>1</td>\n",
              "      <td>NaN</td>\n",
              "      <td>NaN</td>\n",
              "      <td>NaN</td>\n",
              "      <td>us0028962076</td>\n",
              "      <td>ms. bonnie brooks</td>\n",
              "      <td>7859</td>\n",
              "      <td>no</td>\n",
              "      <td>Since February 2014, Ms. Brooks has served as ...</td>\n",
              "      <td>NaN</td>\n",
              "      <td>NaN</td>\n",
              "      <td>NaN</td>\n",
              "      <td>NaN</td>\n",
              "      <td>NaN</td>\n",
              "      <td>NaN</td>\n",
              "      <td>0</td>\n",
              "      <td>0</td>\n",
              "      <td>0</td>\n",
              "      <td>0</td>\n",
              "      <td>0</td>\n",
              "    </tr>\n",
              "    <tr>\n",
              "      <th>48</th>\n",
              "      <td>mary dillon</td>\n",
              "      <td>58.0</td>\n",
              "      <td>NaN</td>\n",
              "      <td>NaN</td>\n",
              "      <td>NaN</td>\n",
              "      <td>NaN</td>\n",
              "      <td>NaN</td>\n",
              "      <td>ulta beauty inc</td>\n",
              "      <td>ulta</td>\n",
              "      <td>NaN</td>\n",
              "      <td>0</td>\n",
              "      <td>0</td>\n",
              "      <td>1</td>\n",
              "      <td>1</td>\n",
              "      <td>1</td>\n",
              "      <td>chief executive officer, director</td>\n",
              "      <td>2013.0</td>\n",
              "      <td>2013.0</td>\n",
              "      <td>us90384s3031</td>\n",
              "      <td>ms. mary dillon</td>\n",
              "      <td>8485</td>\n",
              "      <td>no</td>\n",
              "      <td>Ms. Mary N. Dillon has been the Chief Executiv...</td>\n",
              "      <td>NaN</td>\n",
              "      <td>NaN</td>\n",
              "      <td>NaN</td>\n",
              "      <td>NaN</td>\n",
              "      <td>NaN</td>\n",
              "      <td>NaN</td>\n",
              "      <td>0</td>\n",
              "      <td>0</td>\n",
              "      <td>0</td>\n",
              "      <td>0</td>\n",
              "      <td>0</td>\n",
              "    </tr>\n",
              "    <tr>\n",
              "      <th>1199</th>\n",
              "      <td>thomas lynch</td>\n",
              "      <td>58.0</td>\n",
              "      <td>chief scientific officer, executive vice presi...</td>\n",
              "      <td>2017.0</td>\n",
              "      <td>2019.0</td>\n",
              "      <td>2014.0</td>\n",
              "      <td>2017.0</td>\n",
              "      <td>bristol-myers squibb co</td>\n",
              "      <td>bmy</td>\n",
              "      <td>0.0</td>\n",
              "      <td>0</td>\n",
              "      <td>0</td>\n",
              "      <td>0</td>\n",
              "      <td>1</td>\n",
              "      <td>1</td>\n",
              "      <td>NaN</td>\n",
              "      <td>NaN</td>\n",
              "      <td>NaN</td>\n",
              "      <td>us1101221083</td>\n",
              "      <td>dr. thomas (tom) lynch , jr. m.d. ph.d.</td>\n",
              "      <td>999</td>\n",
              "      <td>no</td>\n",
              "      <td>Dr. Lynch, age 55, has served as Chairman and ...</td>\n",
              "      <td>yes</td>\n",
              "      <td>directors and corporate governance committee</td>\n",
              "      <td>social, environmental</td>\n",
              "      <td>2014.0</td>\n",
              "      <td>2015.0</td>\n",
              "      <td>NaN</td>\n",
              "      <td>0</td>\n",
              "      <td>0</td>\n",
              "      <td>0</td>\n",
              "      <td>1</td>\n",
              "      <td>1</td>\n",
              "    </tr>\n",
              "    <tr>\n",
              "      <th>5752</th>\n",
              "      <td>irene miller</td>\n",
              "      <td>68.0</td>\n",
              "      <td>lead independent outside director</td>\n",
              "      <td>0.0</td>\n",
              "      <td>0.0</td>\n",
              "      <td>2001.0</td>\n",
              "      <td>2014.0</td>\n",
              "      <td>tapestry inc</td>\n",
              "      <td>tpr</td>\n",
              "      <td>0.0</td>\n",
              "      <td>1</td>\n",
              "      <td>1</td>\n",
              "      <td>1</td>\n",
              "      <td>1</td>\n",
              "      <td>0</td>\n",
              "      <td>NaN</td>\n",
              "      <td>NaN</td>\n",
              "      <td>NaN</td>\n",
              "      <td>us8760301072</td>\n",
              "      <td>ms. irene miller</td>\n",
              "      <td>8138</td>\n",
              "      <td>no</td>\n",
              "      <td>Irene Miller has served as a member of Coach’s...</td>\n",
              "      <td>NaN</td>\n",
              "      <td>NaN</td>\n",
              "      <td>NaN</td>\n",
              "      <td>NaN</td>\n",
              "      <td>NaN</td>\n",
              "      <td>NaN</td>\n",
              "      <td>0</td>\n",
              "      <td>0</td>\n",
              "      <td>0</td>\n",
              "      <td>0</td>\n",
              "      <td>0</td>\n",
              "    </tr>\n",
              "    <tr>\n",
              "      <th>5194</th>\n",
              "      <td>john pinkerton</td>\n",
              "      <td>65.0</td>\n",
              "      <td>director</td>\n",
              "      <td>1990.0</td>\n",
              "      <td>2013.0</td>\n",
              "      <td>1988.0</td>\n",
              "      <td>2016.0</td>\n",
              "      <td>range resources corp</td>\n",
              "      <td>rrc</td>\n",
              "      <td>0.0</td>\n",
              "      <td>1</td>\n",
              "      <td>1</td>\n",
              "      <td>1</td>\n",
              "      <td>1</td>\n",
              "      <td>1</td>\n",
              "      <td>NaN</td>\n",
              "      <td>NaN</td>\n",
              "      <td>NaN</td>\n",
              "      <td>us75281a1097</td>\n",
              "      <td>mr. john pinkerton</td>\n",
              "      <td>4599</td>\n",
              "      <td>no</td>\n",
              "      <td>John H. Pinkerton became a director in 1988 an...</td>\n",
              "      <td>NaN</td>\n",
              "      <td>NaN</td>\n",
              "      <td>NaN</td>\n",
              "      <td>NaN</td>\n",
              "      <td>NaN</td>\n",
              "      <td>NaN</td>\n",
              "      <td>0</td>\n",
              "      <td>0</td>\n",
              "      <td>0</td>\n",
              "      <td>0</td>\n",
              "      <td>0</td>\n",
              "    </tr>\n",
              "  </tbody>\n",
              "</table>\n",
              "</div>"
            ],
            "text/plain": [
              "                name   age                                      last_position  \\\n",
              "794    bonnie brooks  66.0                               independent director   \n",
              "48       mary dillon  58.0                                                NaN   \n",
              "1199    thomas lynch  58.0  chief scientific officer, executive vice presi...   \n",
              "5752    irene miller  68.0                  lead independent outside director   \n",
              "5194  john pinkerton  65.0                                           director   \n",
              "\n",
              "      director_start  director_end  executive_start  executive_end  \\\n",
              "794              0.0           0.0           2014.0         2018.0   \n",
              "48               NaN           NaN              NaN            NaN   \n",
              "1199          2017.0        2019.0           2014.0         2017.0   \n",
              "5752             0.0           0.0           2001.0         2014.0   \n",
              "5194          1990.0        2013.0           1988.0         2016.0   \n",
              "\n",
              "                    comp_name ticker  missing_start_date  2011  2012  2013  \\\n",
              "794    abercrombie & fitch co    anf                 0.0     0     0     0   \n",
              "48            ulta beauty inc   ulta                 NaN     0     0     1   \n",
              "1199  bristol-myers squibb co    bmy                 0.0     0     0     0   \n",
              "5752             tapestry inc    tpr                 0.0     1     1     1   \n",
              "5194     range resources corp    rrc                 0.0     1     1     1   \n",
              "\n",
              "      2014  2015                   current_position  dir_exec  in_position  \\\n",
              "794      1     1                                NaN       NaN          NaN   \n",
              "48       1     1  chief executive officer, director    2013.0       2013.0   \n",
              "1199     1     1                                NaN       NaN          NaN   \n",
              "5752     1     0                                NaN       NaN          NaN   \n",
              "5194     1     1                                NaN       NaN          NaN   \n",
              "\n",
              "              isin                                 org_name  unique_dir_id  \\\n",
              "794   us0028962076                        ms. bonnie brooks           7859   \n",
              "48    us90384s3031                          ms. mary dillon           8485   \n",
              "1199  us1101221083  dr. thomas (tom) lynch , jr. m.d. ph.d.            999   \n",
              "5752  us8760301072                         ms. irene miller           8138   \n",
              "5194  us75281a1097                       mr. john pinkerton           4599   \n",
              "\n",
              "     all_years                                        biographies  \\\n",
              "794         no  Since February 2014, Ms. Brooks has served as ...   \n",
              "48          no  Ms. Mary N. Dillon has been the Chief Executiv...   \n",
              "1199        no  Dr. Lynch, age 55, has served as Chairman and ...   \n",
              "5752        no  Irene Miller has served as a member of Coach’s...   \n",
              "5194        no  John H. Pinkerton became a director in 1988 an...   \n",
              "\n",
              "     board_committee                                     committee  \\\n",
              "794              NaN                                           NaN   \n",
              "48               NaN                                           NaN   \n",
              "1199             yes  directors and corporate governance committee   \n",
              "5752             NaN                                           NaN   \n",
              "5194             NaN                                           NaN   \n",
              "\n",
              "                  comm_type  comm_start  comm_end  \\\n",
              "794                     NaN         NaN       NaN   \n",
              "48                      NaN         NaN       NaN   \n",
              "1199  social, environmental      2014.0    2015.0   \n",
              "5752                    NaN         NaN       NaN   \n",
              "5194                    NaN         NaN       NaN   \n",
              "\n",
              "     list_years_if_non_consecutive  2011_comm  2012_comm  2013_comm  \\\n",
              "794                            NaN          0          0          0   \n",
              "48                             NaN          0          0          0   \n",
              "1199                           NaN          0          0          0   \n",
              "5752                           NaN          0          0          0   \n",
              "5194                           NaN          0          0          0   \n",
              "\n",
              "      2014_comm  2015_comm  \n",
              "794           0          0  \n",
              "48            0          0  \n",
              "1199          1          1  \n",
              "5752          0          0  \n",
              "5194          0          0  "
            ]
          },
          "metadata": {
            "tags": []
          },
          "execution_count": 34
        }
      ]
    },
    {
      "cell_type": "code",
      "metadata": {
        "id": "wKL08MMzuqb5"
      },
      "source": [
        "# write the dataframe to an Excel file\n",
        "train_50_review = train_50_review[['biographies']]\n",
        "train_50_review.to_excel('/content/drive/My Drive/director-csr/review_data/train_second_50.xlsx')\n"
      ],
      "execution_count": null,
      "outputs": []
    },
    {
      "cell_type": "code",
      "metadata": {
        "id": "CqAnrgurq8cG"
      },
      "source": [
        ""
      ],
      "execution_count": null,
      "outputs": []
    }
  ]
}