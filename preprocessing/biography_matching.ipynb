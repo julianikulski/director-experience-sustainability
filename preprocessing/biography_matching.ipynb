{
  "nbformat": 4,
  "nbformat_minor": 0,
  "metadata": {
    "colab": {
      "name": "biography_matching.ipynb",
      "provenance": [],
      "collapsed_sections": [],
      "authorship_tag": "ABX9TyOwdpxsOsKvexism3uQOzjJ",
      "include_colab_link": true
    },
    "kernelspec": {
      "name": "python3",
      "display_name": "Python 3"
    }
  },
  "cells": [
    {
      "cell_type": "markdown",
      "metadata": {
        "id": "view-in-github",
        "colab_type": "text"
      },
      "source": [
        "<a href=\"https://colab.research.google.com/github/julianikulski/director-experience/blob/main/preprocessing/biography_matching.ipynb\" target=\"_parent\"><img src=\"https://colab.research.google.com/assets/colab-badge.svg\" alt=\"Open In Colab\"/></a>"
      ]
    },
    {
      "cell_type": "markdown",
      "metadata": {
        "id": "FAYHMTrGi4UK"
      },
      "source": [
        "#Matching biographies to directors\n",
        "In this notebook I will be matching the directors sitting on the boards of the S&P 500 companies between 2011 and 2015. These directors were researched on Refinitiv Eikon and then the relevant directors were identified in the notebook `director_company_data`. The biographies used in this notebook were taken from S&P Capital IQ. Because there are about 4600 director biographies missing from the S&P 500 Capital IQ biography dataset, I wrote the entire list of relevant directors (incl. directors with and without biographies) to an excel file. For all of the directors included in this file (~7500) I manually researched the missing biographies from DEF 14As. Simultaneously, I research the committee memberships and relevant CSR committees in these DEF 14As for each company."
      ]
    },
    {
      "cell_type": "code",
      "metadata": {
        "colab": {
          "base_uri": "https://localhost:8080/"
        },
        "id": "OK0O66jikrr3",
        "outputId": "89e7ae48-bf26-469d-f4fc-141a8d6fd4e8"
      },
      "source": [
        "# connecting to Google Drive to access files\n",
        "from google.colab import drive\n",
        "drive.mount('/content/drive')\n"
      ],
      "execution_count": 55,
      "outputs": [
        {
          "output_type": "stream",
          "text": [
            "Drive already mounted at /content/drive; to attempt to forcibly remount, call drive.mount(\"/content/drive\", force_remount=True).\n"
          ],
          "name": "stdout"
        }
      ]
    },
    {
      "cell_type": "code",
      "metadata": {
        "id": "guxKwVVwj0rY"
      },
      "source": [
        "import numpy as np\n",
        "import pandas as pd\n",
        "\n",
        "from glob import glob\n",
        "import re\n",
        "from functools import reduce\n"
      ],
      "execution_count": 56,
      "outputs": []
    },
    {
      "cell_type": "code",
      "metadata": {
        "id": "aEt6bjHZBD2G"
      },
      "source": [
        "# set number of max rows\n",
        "pd.set_option('display.max_rows', 13000)\n"
      ],
      "execution_count": 57,
      "outputs": []
    },
    {
      "cell_type": "markdown",
      "metadata": {
        "id": "jt3ie9VglWom"
      },
      "source": [
        "## Reading in data"
      ]
    },
    {
      "cell_type": "code",
      "metadata": {
        "colab": {
          "base_uri": "https://localhost:8080/",
          "height": 289
        },
        "id": "SgIkqs2kkhuQ",
        "outputId": "0af776bc-6b04-49f7-8e2a-e0b51ae5ab21"
      },
      "source": [
        "# read in the csv file containing all directors in my dataset\n",
        "all_directors_df = pd.read_csv('/content/drive/My Drive/director-csr/all_directors.csv')\n",
        "# drop the 'Unnamed: 0' column\n",
        "all_directors_df.drop(columns='Unnamed: 0', inplace=True)\n",
        "\n",
        "all_directors_df.head()\n"
      ],
      "execution_count": 58,
      "outputs": [
        {
          "output_type": "execute_result",
          "data": {
            "text/html": [
              "<div>\n",
              "<style scoped>\n",
              "    .dataframe tbody tr th:only-of-type {\n",
              "        vertical-align: middle;\n",
              "    }\n",
              "\n",
              "    .dataframe tbody tr th {\n",
              "        vertical-align: top;\n",
              "    }\n",
              "\n",
              "    .dataframe thead th {\n",
              "        text-align: right;\n",
              "    }\n",
              "</style>\n",
              "<table border=\"1\" class=\"dataframe\">\n",
              "  <thead>\n",
              "    <tr style=\"text-align: right;\">\n",
              "      <th></th>\n",
              "      <th>name</th>\n",
              "      <th>age</th>\n",
              "      <th>last_position</th>\n",
              "      <th>director_start</th>\n",
              "      <th>director_end</th>\n",
              "      <th>executive_start</th>\n",
              "      <th>executive_end</th>\n",
              "      <th>comp_name</th>\n",
              "      <th>ticker</th>\n",
              "      <th>missing_start_date</th>\n",
              "      <th>2011</th>\n",
              "      <th>2012</th>\n",
              "      <th>2013</th>\n",
              "      <th>2014</th>\n",
              "      <th>2015</th>\n",
              "      <th>current_position</th>\n",
              "      <th>dir_exec</th>\n",
              "      <th>in_position</th>\n",
              "      <th>isin</th>\n",
              "    </tr>\n",
              "  </thead>\n",
              "  <tbody>\n",
              "    <tr>\n",
              "      <th>0</th>\n",
              "      <td>ms. christina gold</td>\n",
              "      <td>72.0</td>\n",
              "      <td>independent director</td>\n",
              "      <td>0.0</td>\n",
              "      <td>0.0</td>\n",
              "      <td>1997.0</td>\n",
              "      <td>2020.0</td>\n",
              "      <td>itt inc</td>\n",
              "      <td>itt</td>\n",
              "      <td>0.0</td>\n",
              "      <td>1.0</td>\n",
              "      <td>1.0</td>\n",
              "      <td>1.0</td>\n",
              "      <td>1.0</td>\n",
              "      <td>1.0</td>\n",
              "      <td>NaN</td>\n",
              "      <td>NaN</td>\n",
              "      <td>NaN</td>\n",
              "      <td>us45073v1089</td>\n",
              "    </tr>\n",
              "    <tr>\n",
              "      <th>1</th>\n",
              "      <td>mr. frank macinnis</td>\n",
              "      <td>72.0</td>\n",
              "      <td>independent chairman of the board</td>\n",
              "      <td>2011.0</td>\n",
              "      <td>2020.0</td>\n",
              "      <td>2001.0</td>\n",
              "      <td>2020.0</td>\n",
              "      <td>itt inc</td>\n",
              "      <td>itt</td>\n",
              "      <td>0.0</td>\n",
              "      <td>1.0</td>\n",
              "      <td>1.0</td>\n",
              "      <td>1.0</td>\n",
              "      <td>1.0</td>\n",
              "      <td>1.0</td>\n",
              "      <td>NaN</td>\n",
              "      <td>NaN</td>\n",
              "      <td>NaN</td>\n",
              "      <td>us45073v1089</td>\n",
              "    </tr>\n",
              "    <tr>\n",
              "      <th>2</th>\n",
              "      <td>ms. denise ramos</td>\n",
              "      <td>63.0</td>\n",
              "      <td>president, chief executive officer, director</td>\n",
              "      <td>2011.0</td>\n",
              "      <td>2019.0</td>\n",
              "      <td>2011.0</td>\n",
              "      <td>2019.0</td>\n",
              "      <td>itt inc</td>\n",
              "      <td>itt</td>\n",
              "      <td>0.0</td>\n",
              "      <td>1.0</td>\n",
              "      <td>1.0</td>\n",
              "      <td>1.0</td>\n",
              "      <td>1.0</td>\n",
              "      <td>1.0</td>\n",
              "      <td>NaN</td>\n",
              "      <td>NaN</td>\n",
              "      <td>NaN</td>\n",
              "      <td>us45073v1089</td>\n",
              "    </tr>\n",
              "    <tr>\n",
              "      <th>3</th>\n",
              "      <td>ms. karen larue</td>\n",
              "      <td>40.0</td>\n",
              "      <td>controller, executive director</td>\n",
              "      <td>0.0</td>\n",
              "      <td>2018.0</td>\n",
              "      <td>0.0</td>\n",
              "      <td>2018.0</td>\n",
              "      <td>itt inc</td>\n",
              "      <td>itt</td>\n",
              "      <td>1.0</td>\n",
              "      <td>0.0</td>\n",
              "      <td>0.0</td>\n",
              "      <td>0.0</td>\n",
              "      <td>0.0</td>\n",
              "      <td>0.0</td>\n",
              "      <td>NaN</td>\n",
              "      <td>NaN</td>\n",
              "      <td>NaN</td>\n",
              "      <td>us45073v1089</td>\n",
              "    </tr>\n",
              "    <tr>\n",
              "      <th>4</th>\n",
              "      <td>mr. g. peter d'aloia</td>\n",
              "      <td>NaN</td>\n",
              "      <td>independent director</td>\n",
              "      <td>0.0</td>\n",
              "      <td>0.0</td>\n",
              "      <td>0.0</td>\n",
              "      <td>2017.0</td>\n",
              "      <td>itt inc</td>\n",
              "      <td>itt</td>\n",
              "      <td>1.0</td>\n",
              "      <td>0.0</td>\n",
              "      <td>0.0</td>\n",
              "      <td>0.0</td>\n",
              "      <td>0.0</td>\n",
              "      <td>0.0</td>\n",
              "      <td>NaN</td>\n",
              "      <td>NaN</td>\n",
              "      <td>NaN</td>\n",
              "      <td>us45073v1089</td>\n",
              "    </tr>\n",
              "  </tbody>\n",
              "</table>\n",
              "</div>"
            ],
            "text/plain": [
              "                   name   age  ... in_position          isin\n",
              "0    ms. christina gold  72.0  ...         NaN  us45073v1089\n",
              "1    mr. frank macinnis  72.0  ...         NaN  us45073v1089\n",
              "2      ms. denise ramos  63.0  ...         NaN  us45073v1089\n",
              "3       ms. karen larue  40.0  ...         NaN  us45073v1089\n",
              "4  mr. g. peter d'aloia   NaN  ...         NaN  us45073v1089\n",
              "\n",
              "[5 rows x 19 columns]"
            ]
          },
          "metadata": {
            "tags": []
          },
          "execution_count": 58
        }
      ]
    },
    {
      "cell_type": "code",
      "metadata": {
        "colab": {
          "base_uri": "https://localhost:8080/",
          "height": 751
        },
        "id": "jdXpu28TlZdP",
        "outputId": "58b4e43b-048a-435b-ae31-4d7f6df1486e"
      },
      "source": [
        " # read in the excel files containing the biographies\n",
        "all_files = glob('/content/drive/My Drive/director-csr/directors/*.xls')\n",
        "\n",
        "list_df = []\n",
        "\n",
        "for file in all_files:\n",
        "    df_file = pd.read_excel(file, skiprows=7) # skipping the first 7 rows above the header\n",
        "    list_df.append(df_file)\n",
        "    \n",
        "biographies_df = pd.concat(list_df, axis=0, ignore_index=True)\n",
        "\n",
        "biographies_df.head()\n"
      ],
      "execution_count": 59,
      "outputs": [
        {
          "output_type": "execute_result",
          "data": {
            "text/html": [
              "<div>\n",
              "<style scoped>\n",
              "    .dataframe tbody tr th:only-of-type {\n",
              "        vertical-align: middle;\n",
              "    }\n",
              "\n",
              "    .dataframe tbody tr th {\n",
              "        vertical-align: top;\n",
              "    }\n",
              "\n",
              "    .dataframe thead th {\n",
              "        text-align: right;\n",
              "    }\n",
              "</style>\n",
              "<table border=\"1\" class=\"dataframe\">\n",
              "  <thead>\n",
              "    <tr style=\"text-align: right;\">\n",
              "      <th></th>\n",
              "      <th>Person Name</th>\n",
              "      <th>Company Name [Any Professional Record] [Current Matching Results]</th>\n",
              "      <th>Exchange:Ticker</th>\n",
              "      <th>Email Address</th>\n",
              "      <th>Professional Titles [Any Professional Record] [Current Matching Results]</th>\n",
              "      <th>Colleges/Universities</th>\n",
              "      <th>Degrees</th>\n",
              "      <th>Graduation Year</th>\n",
              "      <th>Majors</th>\n",
              "      <th>Geographic Locations [Any Professional Record] [Current Matching Results]</th>\n",
              "      <th>Primary Professional Record</th>\n",
              "      <th>Biographies</th>\n",
              "      <th>Person Locations [Any Professional Record] [Current Matching Results]</th>\n",
              "      <th>Person Age</th>\n",
              "      <th>Person Name First</th>\n",
              "      <th>Person Name Last</th>\n",
              "      <th>Person Name Middle</th>\n",
              "      <th>Person Name Nickname</th>\n",
              "      <th>Person Name Prefix</th>\n",
              "      <th>Person Name Suffix</th>\n",
              "      <th>Person Notes</th>\n",
              "      <th>Specialties [Any Professional Record] [Current Matching Results]</th>\n",
              "      <th>Year Born</th>\n",
              "      <th>CIK [Any Professional Record] [Current Matching Results]</th>\n",
              "      <th>Company CUSIP [Any Professional Record] [Current Matching Results]</th>\n",
              "      <th>Primary ISIN [Any Professional Record] [Current Matching Results]</th>\n",
              "      <th>Security Tickers [Any Professional Record] [Current Matching Results]</th>\n",
              "      <th>SIC Codes (Primary) [Any Professional Record] [Current Matching Results]</th>\n",
              "      <th>Company Type [Any Professional Record] [Current Matching Results]</th>\n",
              "      <th>Professional Job Functions [Any Professional Record] [Current Matching Results]</th>\n",
              "    </tr>\n",
              "  </thead>\n",
              "  <tbody>\n",
              "    <tr>\n",
              "      <th>0</th>\n",
              "      <td>Schwarzman, Stephen Allen (Prior Board)</td>\n",
              "      <td>PJT Partners Inc. (NYSE:PJT)</td>\n",
              "      <td>NYSE:PJT</td>\n",
              "      <td>Schwarzman@blackstone.com</td>\n",
              "      <td>Former Chairman and Chief Executive Officer</td>\n",
              "      <td>Harvard Business School; Yale University; Quin...</td>\n",
              "      <td>Harvard Business School - MBA; Yale University...</td>\n",
              "      <td>Quinnipiac University (2012)</td>\n",
              "      <td>-</td>\n",
              "      <td>United States and Canada (Primary)</td>\n",
              "      <td>The Blackstone Group L.P. (NYSE:BX) (Board)</td>\n",
              "      <td>Mr. Stephen Allen Schwarzman, also known as St...</td>\n",
              "      <td>United States of America; Northeast; New York;...</td>\n",
              "      <td>68</td>\n",
              "      <td>Stephen</td>\n",
              "      <td>Schwarzman</td>\n",
              "      <td>Allen</td>\n",
              "      <td>Steve</td>\n",
              "      <td>Mr.</td>\n",
              "      <td>-</td>\n",
              "      <td>NaN</td>\n",
              "      <td>-</td>\n",
              "      <td>1947</td>\n",
              "      <td>0001626115</td>\n",
              "      <td>69343T</td>\n",
              "      <td>US69343T1079</td>\n",
              "      <td>NYSE:PJT; BST:1PJ; DB:1PJ</td>\n",
              "      <td>6282 Investment advice</td>\n",
              "      <td>Public Company</td>\n",
              "      <td>Chief Executive Officer (Prior)</td>\n",
              "    </tr>\n",
              "    <tr>\n",
              "      <th>1</th>\n",
              "      <td>Bovender, Jack O. (Prior Board)</td>\n",
              "      <td>HCA Holdings, Inc. (NYSE:HCA)</td>\n",
              "      <td>NYSE:HCA</td>\n",
              "      <td>-</td>\n",
              "      <td>Former Executive Chairman and Chairman of Exec...</td>\n",
              "      <td>Duke University</td>\n",
              "      <td>Duke University - Bachelor's Degree; Duke Univ...</td>\n",
              "      <td>Duke University (1967)</td>\n",
              "      <td>Duke University - Psychology</td>\n",
              "      <td>United States and Canada (Primary)</td>\n",
              "      <td>Duke University (Board)</td>\n",
              "      <td>Mr. Jack O. Bovender, Jr., served as the Chair...</td>\n",
              "      <td>United States of America; Southeast; Tennessee...</td>\n",
              "      <td>70</td>\n",
              "      <td>Jack</td>\n",
              "      <td>Bovender</td>\n",
              "      <td>O.</td>\n",
              "      <td>-</td>\n",
              "      <td>Mr.</td>\n",
              "      <td>Jr.</td>\n",
              "      <td>NaN</td>\n",
              "      <td>-</td>\n",
              "      <td>1945</td>\n",
              "      <td>0000311314; 0000732872; 0000860730; 0001392778</td>\n",
              "      <td>40412C</td>\n",
              "      <td>US40412C1018</td>\n",
              "      <td>NYSE:HCA; BAYB:2BH</td>\n",
              "      <td>8062 General medical and surgical hospitals</td>\n",
              "      <td>Public Company</td>\n",
              "      <td>Chief Executive Officer (Prior)</td>\n",
              "    </tr>\n",
              "    <tr>\n",
              "      <th>2</th>\n",
              "      <td>Mandaric, Milan (Prior Board)</td>\n",
              "      <td>Elexsys International</td>\n",
              "      <td>-</td>\n",
              "      <td>NaN</td>\n",
              "      <td>Former Chairman of the Board and Chief Executi...</td>\n",
              "      <td>-</td>\n",
              "      <td>-</td>\n",
              "      <td>-</td>\n",
              "      <td>-</td>\n",
              "      <td>United States and Canada (Primary)</td>\n",
              "      <td>MM Holdings International, Inc. (Board)</td>\n",
              "      <td>Mr. Milan Mandaric serves as Chief Executive O...</td>\n",
              "      <td>United States of America; California; West Coa...</td>\n",
              "      <td>77</td>\n",
              "      <td>Milan</td>\n",
              "      <td>Mandaric</td>\n",
              "      <td>-</td>\n",
              "      <td>-</td>\n",
              "      <td>Mr.</td>\n",
              "      <td>-</td>\n",
              "      <td>NaN</td>\n",
              "      <td>-</td>\n",
              "      <td>1938</td>\n",
              "      <td>0000727010</td>\n",
              "      <td>28626C</td>\n",
              "      <td>-</td>\n",
              "      <td>-</td>\n",
              "      <td>3672 Printed circuit boards</td>\n",
              "      <td>Public Company</td>\n",
              "      <td>Chief Executive Officer (Prior)</td>\n",
              "    </tr>\n",
              "    <tr>\n",
              "      <th>3</th>\n",
              "      <td>Childs, John W. (Prior Board)</td>\n",
              "      <td>JWC Acquisition Corp.</td>\n",
              "      <td>-</td>\n",
              "      <td>jchilds@jwchilds.com</td>\n",
              "      <td>Chairman and Chief Executive Officer</td>\n",
              "      <td>Yale University; Columbia University</td>\n",
              "      <td>Yale University - BA; Columbia University - MBA</td>\n",
              "      <td>-</td>\n",
              "      <td>-</td>\n",
              "      <td>United States and Canada (Primary)</td>\n",
              "      <td>J.W. Childs Associates, L.P. (Board)</td>\n",
              "      <td>Mr. John W. Childs serves as the Chairman and ...</td>\n",
              "      <td>United States of America; Northeast; Massachus...</td>\n",
              "      <td>73</td>\n",
              "      <td>John</td>\n",
              "      <td>Childs</td>\n",
              "      <td>W.</td>\n",
              "      <td>-</td>\n",
              "      <td>Mr.</td>\n",
              "      <td>-</td>\n",
              "      <td>NaN</td>\n",
              "      <td>-</td>\n",
              "      <td>1942</td>\n",
              "      <td>0001498157</td>\n",
              "      <td>46634Y</td>\n",
              "      <td>US46634Y1029</td>\n",
              "      <td>-</td>\n",
              "      <td>9995 Non-operating establishments</td>\n",
              "      <td>Public Company</td>\n",
              "      <td>Chief Executive Officer (Prior)</td>\n",
              "    </tr>\n",
              "    <tr>\n",
              "      <th>4</th>\n",
              "      <td>Vota, John P. (Prior)</td>\n",
              "      <td>Insight Management Corporation, Prior to Rever...</td>\n",
              "      <td>-</td>\n",
              "      <td>-</td>\n",
              "      <td>Former Interim Chief Executive Officer and Int...</td>\n",
              "      <td>Columbia University; Fordham University; Schoo...</td>\n",
              "      <td>Columbia University - Bachelor's Degree; Fordh...</td>\n",
              "      <td>-</td>\n",
              "      <td>-</td>\n",
              "      <td>United States and Canada (Primary)</td>\n",
              "      <td>Blackbird Capital Partners</td>\n",
              "      <td>Mr. John P. Vota serves as a Managing Partner ...</td>\n",
              "      <td>United States of America; Northeast; New York;...</td>\n",
              "      <td>76</td>\n",
              "      <td>John</td>\n",
              "      <td>Vota</td>\n",
              "      <td>P.</td>\n",
              "      <td>-</td>\n",
              "      <td>Mr.</td>\n",
              "      <td>-</td>\n",
              "      <td>NaN</td>\n",
              "      <td>-</td>\n",
              "      <td>1939</td>\n",
              "      <td>-</td>\n",
              "      <td>45776Q</td>\n",
              "      <td>US45776Q3074</td>\n",
              "      <td>-</td>\n",
              "      <td>-</td>\n",
              "      <td>Public Company</td>\n",
              "      <td>Chief Executive Officer (Prior)</td>\n",
              "    </tr>\n",
              "  </tbody>\n",
              "</table>\n",
              "</div>"
            ],
            "text/plain": [
              "                               Person Name  ... Professional Job Functions [Any Professional Record] [Current Matching Results]\n",
              "0  Schwarzman, Stephen Allen (Prior Board)  ...                    Chief Executive Officer (Prior)                             \n",
              "1          Bovender, Jack O. (Prior Board)  ...                    Chief Executive Officer (Prior)                             \n",
              "2            Mandaric, Milan (Prior Board)  ...                    Chief Executive Officer (Prior)                             \n",
              "3            Childs, John W. (Prior Board)  ...                    Chief Executive Officer (Prior)                             \n",
              "4                    Vota, John P. (Prior)  ...                    Chief Executive Officer (Prior)                             \n",
              "\n",
              "[5 rows x 30 columns]"
            ]
          },
          "metadata": {
            "tags": []
          },
          "execution_count": 59
        }
      ]
    },
    {
      "cell_type": "markdown",
      "metadata": {
        "id": "2JJboxa3w_c7"
      },
      "source": [
        "## Data Cleaning and Preprocessing"
      ]
    },
    {
      "cell_type": "code",
      "metadata": {
        "colab": {
          "base_uri": "https://localhost:8080/",
          "height": 606
        },
        "id": "2VCU3Nc43DJs",
        "outputId": "1ca88d0c-e73b-4edd-c5eb-ecbc51453d2f"
      },
      "source": [
        "# rename some of the columns and drop others\n",
        "new_columns = ['name', 'first_name', 'middle_name', 'nick_name', 'last_name', 'comp_name', 'ticker', 'education', 'prim_comp', 'biographies', 'age', 'isin', 'all_tickers']\n",
        "old_columns = ['Person Name', 'Person Name First', 'Person Name Middle', 'Person Name Nickname', 'Person Name Last', 'Company Name [Any Professional Record] [Current Matching Results]', \n",
        "               'Exchange:Ticker', 'Colleges/Universities', 'Primary Professional Record', 'Biographies', 'Person Age', \n",
        "               'Primary ISIN [Any Professional Record] [Current Matching Results]', 'Security Tickers [Any Professional Record] [Current Matching Results]']\n",
        "biographies_df = biographies_df[old_columns]\n",
        "biographies_df.rename(columns=dict(zip(old_columns, new_columns)), inplace=True)\n",
        "biographies_df\n"
      ],
      "execution_count": 60,
      "outputs": [
        {
          "output_type": "execute_result",
          "data": {
            "text/html": [
              "<div>\n",
              "<style scoped>\n",
              "    .dataframe tbody tr th:only-of-type {\n",
              "        vertical-align: middle;\n",
              "    }\n",
              "\n",
              "    .dataframe tbody tr th {\n",
              "        vertical-align: top;\n",
              "    }\n",
              "\n",
              "    .dataframe thead th {\n",
              "        text-align: right;\n",
              "    }\n",
              "</style>\n",
              "<table border=\"1\" class=\"dataframe\">\n",
              "  <thead>\n",
              "    <tr style=\"text-align: right;\">\n",
              "      <th></th>\n",
              "      <th>name</th>\n",
              "      <th>first_name</th>\n",
              "      <th>middle_name</th>\n",
              "      <th>nick_name</th>\n",
              "      <th>last_name</th>\n",
              "      <th>comp_name</th>\n",
              "      <th>ticker</th>\n",
              "      <th>education</th>\n",
              "      <th>prim_comp</th>\n",
              "      <th>biographies</th>\n",
              "      <th>age</th>\n",
              "      <th>isin</th>\n",
              "      <th>all_tickers</th>\n",
              "    </tr>\n",
              "  </thead>\n",
              "  <tbody>\n",
              "    <tr>\n",
              "      <th>0</th>\n",
              "      <td>Schwarzman, Stephen Allen (Prior Board)</td>\n",
              "      <td>Stephen</td>\n",
              "      <td>Allen</td>\n",
              "      <td>Steve</td>\n",
              "      <td>Schwarzman</td>\n",
              "      <td>PJT Partners Inc. (NYSE:PJT)</td>\n",
              "      <td>NYSE:PJT</td>\n",
              "      <td>Harvard Business School; Yale University; Quin...</td>\n",
              "      <td>The Blackstone Group L.P. (NYSE:BX) (Board)</td>\n",
              "      <td>Mr. Stephen Allen Schwarzman, also known as St...</td>\n",
              "      <td>68</td>\n",
              "      <td>US69343T1079</td>\n",
              "      <td>NYSE:PJT; BST:1PJ; DB:1PJ</td>\n",
              "    </tr>\n",
              "    <tr>\n",
              "      <th>1</th>\n",
              "      <td>Bovender, Jack O. (Prior Board)</td>\n",
              "      <td>Jack</td>\n",
              "      <td>O.</td>\n",
              "      <td>-</td>\n",
              "      <td>Bovender</td>\n",
              "      <td>HCA Holdings, Inc. (NYSE:HCA)</td>\n",
              "      <td>NYSE:HCA</td>\n",
              "      <td>Duke University</td>\n",
              "      <td>Duke University (Board)</td>\n",
              "      <td>Mr. Jack O. Bovender, Jr., served as the Chair...</td>\n",
              "      <td>70</td>\n",
              "      <td>US40412C1018</td>\n",
              "      <td>NYSE:HCA; BAYB:2BH</td>\n",
              "    </tr>\n",
              "    <tr>\n",
              "      <th>2</th>\n",
              "      <td>Mandaric, Milan (Prior Board)</td>\n",
              "      <td>Milan</td>\n",
              "      <td>-</td>\n",
              "      <td>-</td>\n",
              "      <td>Mandaric</td>\n",
              "      <td>Elexsys International</td>\n",
              "      <td>-</td>\n",
              "      <td>-</td>\n",
              "      <td>MM Holdings International, Inc. (Board)</td>\n",
              "      <td>Mr. Milan Mandaric serves as Chief Executive O...</td>\n",
              "      <td>77</td>\n",
              "      <td>-</td>\n",
              "      <td>-</td>\n",
              "    </tr>\n",
              "    <tr>\n",
              "      <th>3</th>\n",
              "      <td>Childs, John W. (Prior Board)</td>\n",
              "      <td>John</td>\n",
              "      <td>W.</td>\n",
              "      <td>-</td>\n",
              "      <td>Childs</td>\n",
              "      <td>JWC Acquisition Corp.</td>\n",
              "      <td>-</td>\n",
              "      <td>Yale University; Columbia University</td>\n",
              "      <td>J.W. Childs Associates, L.P. (Board)</td>\n",
              "      <td>Mr. John W. Childs serves as the Chairman and ...</td>\n",
              "      <td>73</td>\n",
              "      <td>US46634Y1029</td>\n",
              "      <td>-</td>\n",
              "    </tr>\n",
              "    <tr>\n",
              "      <th>4</th>\n",
              "      <td>Vota, John P. (Prior)</td>\n",
              "      <td>John</td>\n",
              "      <td>P.</td>\n",
              "      <td>-</td>\n",
              "      <td>Vota</td>\n",
              "      <td>Insight Management Corporation, Prior to Rever...</td>\n",
              "      <td>-</td>\n",
              "      <td>Columbia University; Fordham University; Schoo...</td>\n",
              "      <td>Blackbird Capital Partners</td>\n",
              "      <td>Mr. John P. Vota serves as a Managing Partner ...</td>\n",
              "      <td>76</td>\n",
              "      <td>US45776Q3074</td>\n",
              "      <td>-</td>\n",
              "    </tr>\n",
              "    <tr>\n",
              "      <th>...</th>\n",
              "      <td>...</td>\n",
              "      <td>...</td>\n",
              "      <td>...</td>\n",
              "      <td>...</td>\n",
              "      <td>...</td>\n",
              "      <td>...</td>\n",
              "      <td>...</td>\n",
              "      <td>...</td>\n",
              "      <td>...</td>\n",
              "      <td>...</td>\n",
              "      <td>...</td>\n",
              "      <td>...</td>\n",
              "      <td>...</td>\n",
              "    </tr>\n",
              "    <tr>\n",
              "      <th>38822</th>\n",
              "      <td>Falcone, Philip A. (Prior)</td>\n",
              "      <td>Philip</td>\n",
              "      <td>A.</td>\n",
              "      <td>-</td>\n",
              "      <td>Falcone</td>\n",
              "      <td>Fidelity &amp; Guaranty Life (NYSE:FGL)</td>\n",
              "      <td>NYSE:FGL</td>\n",
              "      <td>-</td>\n",
              "      <td>Fidelity &amp; Guaranty Life (NYSE:FGL) (Prior)</td>\n",
              "      <td>Mr. Philip A. Falcone served as the Chief Exec...</td>\n",
              "      <td>-</td>\n",
              "      <td>US3157851052</td>\n",
              "      <td>NYSE:FGL; DB:FGY</td>\n",
              "    </tr>\n",
              "    <tr>\n",
              "      <th>38823</th>\n",
              "      <td>Blum, Erik (Board)</td>\n",
              "      <td>Erik</td>\n",
              "      <td>-</td>\n",
              "      <td>-</td>\n",
              "      <td>Blum</td>\n",
              "      <td>Golden Global Corp. (OTCPK:GLDG)</td>\n",
              "      <td>OTCPK:GLDG</td>\n",
              "      <td>-</td>\n",
              "      <td>Golden Global Corp. (OTCPK:GLDG) (Board)</td>\n",
              "      <td>Mr. Erik Blum has been Chief Executive Officer...</td>\n",
              "      <td>48</td>\n",
              "      <td>US3810572079</td>\n",
              "      <td>OTCPK:GLDG</td>\n",
              "    </tr>\n",
              "    <tr>\n",
              "      <th>38824</th>\n",
              "      <td>Kelly, Christopher S.</td>\n",
              "      <td>Christopher</td>\n",
              "      <td>S.</td>\n",
              "      <td>-</td>\n",
              "      <td>Kelly</td>\n",
              "      <td>Carbon Sciences, Inc. (OTCPK:CABN)</td>\n",
              "      <td>OTCPK:CABN</td>\n",
              "      <td>University of Denver College of Law</td>\n",
              "      <td>Carbon Sciences, Inc. (OTCPK:CABN)</td>\n",
              "      <td>Mr. Christopher S. Kelly has been the Chief Ex...</td>\n",
              "      <td>-</td>\n",
              "      <td>US14115L2051</td>\n",
              "      <td>OTCPK:CABN</td>\n",
              "    </tr>\n",
              "    <tr>\n",
              "      <th>38825</th>\n",
              "      <td>Louth, Christy (Board)</td>\n",
              "      <td>Christy</td>\n",
              "      <td>-</td>\n",
              "      <td>-</td>\n",
              "      <td>Louth</td>\n",
              "      <td>Golden Secret Ventures Ltd. (TSXV:GGS)</td>\n",
              "      <td>TSXV:GGS</td>\n",
              "      <td>-</td>\n",
              "      <td>Golden Secret Ventures Ltd. (TSXV:GGS) (Board)</td>\n",
              "      <td>Christy Louth has been the Chief Executive Off...</td>\n",
              "      <td>-</td>\n",
              "      <td>CA38117P1045</td>\n",
              "      <td>TSXV:GGS</td>\n",
              "    </tr>\n",
              "    <tr>\n",
              "      <th>38826</th>\n",
              "      <td>McKenna, Christopher James (Board)</td>\n",
              "      <td>Christopher</td>\n",
              "      <td>James</td>\n",
              "      <td>-</td>\n",
              "      <td>McKenna</td>\n",
              "      <td>WGE Holdings Corp. (OTCPK:WGEE)</td>\n",
              "      <td>OTCPK:WGEE</td>\n",
              "      <td>Purdue University</td>\n",
              "      <td>WGE Holdings Corp. (OTCPK:WGEE) (Board)</td>\n",
              "      <td>Mr. Christopher James McKenna has been Chairma...</td>\n",
              "      <td>-</td>\n",
              "      <td>US92939T1097</td>\n",
              "      <td>OTCPK:WGEE</td>\n",
              "    </tr>\n",
              "  </tbody>\n",
              "</table>\n",
              "<p>38827 rows × 13 columns</p>\n",
              "</div>"
            ],
            "text/plain": [
              "                                          name  ...                all_tickers\n",
              "0      Schwarzman, Stephen Allen (Prior Board)  ...  NYSE:PJT; BST:1PJ; DB:1PJ\n",
              "1              Bovender, Jack O. (Prior Board)  ...         NYSE:HCA; BAYB:2BH\n",
              "2                Mandaric, Milan (Prior Board)  ...                          -\n",
              "3                Childs, John W. (Prior Board)  ...                          -\n",
              "4                        Vota, John P. (Prior)  ...                          -\n",
              "...                                        ...  ...                        ...\n",
              "38822               Falcone, Philip A. (Prior)  ...           NYSE:FGL; DB:FGY\n",
              "38823                       Blum, Erik (Board)  ...                 OTCPK:GLDG\n",
              "38824                    Kelly, Christopher S.  ...                 OTCPK:CABN\n",
              "38825                   Louth, Christy (Board)  ...                   TSXV:GGS\n",
              "38826       McKenna, Christopher James (Board)  ...                 OTCPK:WGEE\n",
              "\n",
              "[38827 rows x 13 columns]"
            ]
          },
          "metadata": {
            "tags": []
          },
          "execution_count": 60
        }
      ]
    },
    {
      "cell_type": "markdown",
      "metadata": {
        "id": "ndT0zjA_6SCl"
      },
      "source": [
        "In this biographies_df dataframe, I am really only interested in the biographies. I will keep the other columns as well because it may be a way to distinguish people with similar names based on their education, age, etc. However, I will keep duplicate biographies and only drop duplicate rows. The biographies may be the same, but other ISINs or company names might be used for the same person which might be valuable for the matching later on."
      ]
    },
    {
      "cell_type": "code",
      "metadata": {
        "id": "axj4yVSL6QLV",
        "colab": {
          "base_uri": "https://localhost:8080/"
        },
        "outputId": "a982ccce-97fc-4a1e-c707-5cb06d32fce3"
      },
      "source": [
        "# drop any rows that are duplicate\n",
        "print(biographies_df.shape)\n",
        "biographies_df.drop_duplicates(inplace=True)\n",
        "print(biographies_df.shape)\n"
      ],
      "execution_count": 61,
      "outputs": [
        {
          "output_type": "stream",
          "text": [
            "(38827, 13)\n",
            "(38827, 13)\n"
          ],
          "name": "stdout"
        }
      ]
    },
    {
      "cell_type": "code",
      "metadata": {
        "id": "c4c_m7cNo-l6"
      },
      "source": [
        "# create a copy of the uncleaned biographies_df\n",
        "biographies_old = biographies_df.copy()\n",
        "biographies_old['name'] = biographies_old['name'].apply(lambda x: x.lower() if not pd.isna(x) else x)\n"
      ],
      "execution_count": 62,
      "outputs": []
    },
    {
      "cell_type": "code",
      "metadata": {
        "id": "KpXe1ySKlRkv"
      },
      "source": [
        "def clean_names(df, bio=True):\n",
        "    '''\n",
        "    Function to clean up the director names so that they can be matched\n",
        "    Args: df = dataframe; containing director names\n",
        "          bio = bool; True if the biographies dataframe is added, False otherwise \n",
        "    Returns: df = dataframe\n",
        "    '''\n",
        "\n",
        "    df['org_name'] = df.iloc[:,0]\n",
        "\n",
        "    # change the strings to lower case\n",
        "    df.iloc[:,0] = df.iloc[:,0].apply(lambda x: x.lower())\n",
        "\n",
        "    # check if the names contain anything in parentheses and if so remove them and their content\n",
        "    df.iloc[:,0] = df.iloc[:,0].apply(lambda x: re.sub(r'\\([^()]*\\)', '', x))\n",
        "\n",
        "    # check if the names contain a title like ms. and mr. and if so remove them\n",
        "    df.iloc[:,0] = df.iloc[:,0].apply(lambda x: re.sub(r'^\\w{2,3}\\. ?', '', x))\n",
        "\n",
        "    # do two different things with the commas for the different dataframes\n",
        "    if bio:\n",
        "        # move the last name in the front of the comma to the back of the string and remove the comma\n",
        "        df.iloc[:,0] = df.iloc[:,0].apply(lambda x: ' '.join([x.split(',')[1], x.split(',')[0]]))\n",
        "    else:\n",
        "        # create a new column that contains all the words after a comma at the end\n",
        "        df['qualification'] = df.iloc[:,0].apply(lambda x: x.split(',')[-1] if len(x.split(',')) > 1 else None)\n",
        "        df.iloc[:,0] = df.iloc[:,0].apply(lambda x: x.split(',')[0])\n",
        "\n",
        "    # remove any initials or titles because they might be distracting when matching names\n",
        "    df.iloc[:,0] = df.iloc[:,0].apply(lambda x: ' '.join([name if '.' not in name else '' for name in x.split()]))\n",
        "\n",
        "    # remove 'the' substring from names\n",
        "    df.iloc[:,0] = df.iloc[:,0].apply(lambda x: re.sub(r'^the\\s', '', x))\n",
        "\n",
        "    # ensure that all white space is stripped\n",
        "    df.iloc[:,0] = df.iloc[:,0].apply(lambda x: re.sub(' +', ' ', x).strip())\n",
        "\n",
        "    return df\n"
      ],
      "execution_count": 63,
      "outputs": []
    },
    {
      "cell_type": "code",
      "metadata": {
        "id": "7xOwOxCby_an"
      },
      "source": [
        "# clean both dataframes\n",
        "all_directors_clean = clean_names(all_directors_df, bio=False)\n",
        "biographies_old_clean = clean_names(biographies_df, bio=True)\n"
      ],
      "execution_count": 64,
      "outputs": []
    },
    {
      "cell_type": "code",
      "metadata": {
        "colab": {
          "base_uri": "https://localhost:8080/",
          "height": 49
        },
        "id": "Xr6jR0Rco5Ku",
        "outputId": "0b5ea769-c7c7-42fa-e8f2-e186e9036a99"
      },
      "source": [
        "# I need to manually re-add names that got lost in the cleaning function\n",
        "index = all_directors_clean[all_directors_clean['name'] == ''].index\n",
        "new_names = ['david owen', 'donald riegle', 'thomas niles']\n",
        "for i in range(len(index)):\n",
        "    all_directors_clean.at[index[i], 'name'] = new_names[i]\n",
        "all_directors_clean[all_directors_clean['name'] == '']\n"
      ],
      "execution_count": 65,
      "outputs": [
        {
          "output_type": "execute_result",
          "data": {
            "text/html": [
              "<div>\n",
              "<style scoped>\n",
              "    .dataframe tbody tr th:only-of-type {\n",
              "        vertical-align: middle;\n",
              "    }\n",
              "\n",
              "    .dataframe tbody tr th {\n",
              "        vertical-align: top;\n",
              "    }\n",
              "\n",
              "    .dataframe thead th {\n",
              "        text-align: right;\n",
              "    }\n",
              "</style>\n",
              "<table border=\"1\" class=\"dataframe\">\n",
              "  <thead>\n",
              "    <tr style=\"text-align: right;\">\n",
              "      <th></th>\n",
              "      <th>name</th>\n",
              "      <th>age</th>\n",
              "      <th>last_position</th>\n",
              "      <th>director_start</th>\n",
              "      <th>director_end</th>\n",
              "      <th>executive_start</th>\n",
              "      <th>executive_end</th>\n",
              "      <th>comp_name</th>\n",
              "      <th>ticker</th>\n",
              "      <th>missing_start_date</th>\n",
              "      <th>2011</th>\n",
              "      <th>2012</th>\n",
              "      <th>2013</th>\n",
              "      <th>2014</th>\n",
              "      <th>2015</th>\n",
              "      <th>current_position</th>\n",
              "      <th>dir_exec</th>\n",
              "      <th>in_position</th>\n",
              "      <th>isin</th>\n",
              "      <th>org_name</th>\n",
              "      <th>qualification</th>\n",
              "    </tr>\n",
              "  </thead>\n",
              "  <tbody>\n",
              "  </tbody>\n",
              "</table>\n",
              "</div>"
            ],
            "text/plain": [
              "Empty DataFrame\n",
              "Columns: [name, age, last_position, director_start, director_end, executive_start, executive_end, comp_name, ticker, missing_start_date, 2011, 2012, 2013, 2014, 2015, current_position, dir_exec, in_position, isin, org_name, qualification]\n",
              "Index: []"
            ]
          },
          "metadata": {
            "tags": []
          },
          "execution_count": 65
        }
      ]
    },
    {
      "cell_type": "code",
      "metadata": {
        "colab": {
          "base_uri": "https://localhost:8080/",
          "height": 394
        },
        "id": "Ih0xgng29q7h",
        "outputId": "53d1c140-c36e-4bc3-c780-9baf4bddf330"
      },
      "source": [
        "# add last name column to dataframe\n",
        "all_directors_clean['last_name'] = all_directors_clean['name'].apply(lambda x: x.split(' ')[-1])\n",
        "# sort the dataframe by name column\n",
        "all_directors_clean.sort_values(by='name', ascending=True)\n",
        "all_directors_clean.head()\n"
      ],
      "execution_count": 66,
      "outputs": [
        {
          "output_type": "execute_result",
          "data": {
            "text/html": [
              "<div>\n",
              "<style scoped>\n",
              "    .dataframe tbody tr th:only-of-type {\n",
              "        vertical-align: middle;\n",
              "    }\n",
              "\n",
              "    .dataframe tbody tr th {\n",
              "        vertical-align: top;\n",
              "    }\n",
              "\n",
              "    .dataframe thead th {\n",
              "        text-align: right;\n",
              "    }\n",
              "</style>\n",
              "<table border=\"1\" class=\"dataframe\">\n",
              "  <thead>\n",
              "    <tr style=\"text-align: right;\">\n",
              "      <th></th>\n",
              "      <th>name</th>\n",
              "      <th>age</th>\n",
              "      <th>last_position</th>\n",
              "      <th>director_start</th>\n",
              "      <th>director_end</th>\n",
              "      <th>executive_start</th>\n",
              "      <th>executive_end</th>\n",
              "      <th>comp_name</th>\n",
              "      <th>ticker</th>\n",
              "      <th>missing_start_date</th>\n",
              "      <th>2011</th>\n",
              "      <th>2012</th>\n",
              "      <th>2013</th>\n",
              "      <th>2014</th>\n",
              "      <th>2015</th>\n",
              "      <th>current_position</th>\n",
              "      <th>dir_exec</th>\n",
              "      <th>in_position</th>\n",
              "      <th>isin</th>\n",
              "      <th>org_name</th>\n",
              "      <th>qualification</th>\n",
              "      <th>last_name</th>\n",
              "    </tr>\n",
              "  </thead>\n",
              "  <tbody>\n",
              "    <tr>\n",
              "      <th>0</th>\n",
              "      <td>christina gold</td>\n",
              "      <td>72.0</td>\n",
              "      <td>independent director</td>\n",
              "      <td>0.0</td>\n",
              "      <td>0.0</td>\n",
              "      <td>1997.0</td>\n",
              "      <td>2020.0</td>\n",
              "      <td>itt inc</td>\n",
              "      <td>itt</td>\n",
              "      <td>0.0</td>\n",
              "      <td>1.0</td>\n",
              "      <td>1.0</td>\n",
              "      <td>1.0</td>\n",
              "      <td>1.0</td>\n",
              "      <td>1.0</td>\n",
              "      <td>NaN</td>\n",
              "      <td>NaN</td>\n",
              "      <td>NaN</td>\n",
              "      <td>us45073v1089</td>\n",
              "      <td>ms. christina gold</td>\n",
              "      <td>None</td>\n",
              "      <td>gold</td>\n",
              "    </tr>\n",
              "    <tr>\n",
              "      <th>1</th>\n",
              "      <td>frank macinnis</td>\n",
              "      <td>72.0</td>\n",
              "      <td>independent chairman of the board</td>\n",
              "      <td>2011.0</td>\n",
              "      <td>2020.0</td>\n",
              "      <td>2001.0</td>\n",
              "      <td>2020.0</td>\n",
              "      <td>itt inc</td>\n",
              "      <td>itt</td>\n",
              "      <td>0.0</td>\n",
              "      <td>1.0</td>\n",
              "      <td>1.0</td>\n",
              "      <td>1.0</td>\n",
              "      <td>1.0</td>\n",
              "      <td>1.0</td>\n",
              "      <td>NaN</td>\n",
              "      <td>NaN</td>\n",
              "      <td>NaN</td>\n",
              "      <td>us45073v1089</td>\n",
              "      <td>mr. frank macinnis</td>\n",
              "      <td>None</td>\n",
              "      <td>macinnis</td>\n",
              "    </tr>\n",
              "    <tr>\n",
              "      <th>2</th>\n",
              "      <td>denise ramos</td>\n",
              "      <td>63.0</td>\n",
              "      <td>president, chief executive officer, director</td>\n",
              "      <td>2011.0</td>\n",
              "      <td>2019.0</td>\n",
              "      <td>2011.0</td>\n",
              "      <td>2019.0</td>\n",
              "      <td>itt inc</td>\n",
              "      <td>itt</td>\n",
              "      <td>0.0</td>\n",
              "      <td>1.0</td>\n",
              "      <td>1.0</td>\n",
              "      <td>1.0</td>\n",
              "      <td>1.0</td>\n",
              "      <td>1.0</td>\n",
              "      <td>NaN</td>\n",
              "      <td>NaN</td>\n",
              "      <td>NaN</td>\n",
              "      <td>us45073v1089</td>\n",
              "      <td>ms. denise ramos</td>\n",
              "      <td>None</td>\n",
              "      <td>ramos</td>\n",
              "    </tr>\n",
              "    <tr>\n",
              "      <th>3</th>\n",
              "      <td>karen larue</td>\n",
              "      <td>40.0</td>\n",
              "      <td>controller, executive director</td>\n",
              "      <td>0.0</td>\n",
              "      <td>2018.0</td>\n",
              "      <td>0.0</td>\n",
              "      <td>2018.0</td>\n",
              "      <td>itt inc</td>\n",
              "      <td>itt</td>\n",
              "      <td>1.0</td>\n",
              "      <td>0.0</td>\n",
              "      <td>0.0</td>\n",
              "      <td>0.0</td>\n",
              "      <td>0.0</td>\n",
              "      <td>0.0</td>\n",
              "      <td>NaN</td>\n",
              "      <td>NaN</td>\n",
              "      <td>NaN</td>\n",
              "      <td>us45073v1089</td>\n",
              "      <td>ms. karen larue</td>\n",
              "      <td>None</td>\n",
              "      <td>larue</td>\n",
              "    </tr>\n",
              "    <tr>\n",
              "      <th>4</th>\n",
              "      <td>peter d'aloia</td>\n",
              "      <td>NaN</td>\n",
              "      <td>independent director</td>\n",
              "      <td>0.0</td>\n",
              "      <td>0.0</td>\n",
              "      <td>0.0</td>\n",
              "      <td>2017.0</td>\n",
              "      <td>itt inc</td>\n",
              "      <td>itt</td>\n",
              "      <td>1.0</td>\n",
              "      <td>0.0</td>\n",
              "      <td>0.0</td>\n",
              "      <td>0.0</td>\n",
              "      <td>0.0</td>\n",
              "      <td>0.0</td>\n",
              "      <td>NaN</td>\n",
              "      <td>NaN</td>\n",
              "      <td>NaN</td>\n",
              "      <td>us45073v1089</td>\n",
              "      <td>mr. g. peter d'aloia</td>\n",
              "      <td>None</td>\n",
              "      <td>d'aloia</td>\n",
              "    </tr>\n",
              "  </tbody>\n",
              "</table>\n",
              "</div>"
            ],
            "text/plain": [
              "             name   age  ... qualification  last_name\n",
              "0  christina gold  72.0  ...          None       gold\n",
              "1  frank macinnis  72.0  ...          None   macinnis\n",
              "2    denise ramos  63.0  ...          None      ramos\n",
              "3     karen larue  40.0  ...          None      larue\n",
              "4   peter d'aloia   NaN  ...          None    d'aloia\n",
              "\n",
              "[5 rows x 22 columns]"
            ]
          },
          "metadata": {
            "tags": []
          },
          "execution_count": 66
        }
      ]
    },
    {
      "cell_type": "markdown",
      "metadata": {
        "id": "tpNq7IKirEN8"
      },
      "source": [
        "I will do some additional data cleaning to try to match more biographies to people"
      ]
    },
    {
      "cell_type": "code",
      "metadata": {
        "colab": {
          "base_uri": "https://localhost:8080/",
          "height": 306
        },
        "id": "ULFJfFLnq_Rl",
        "outputId": "0f1fc455-02b8-4b7c-e349-87ec725217d5"
      },
      "source": [
        "# additional data cleaning to merge more directors with biographies\n",
        "biographies_clean = biographies_old_clean.copy()\n",
        "biographies_clean = biographies_clean.applymap(lambda x: x.lower() if isinstance(x, str) else x)\n",
        "biographies_clean['ticker'] = biographies_clean['ticker'].apply(lambda x: x.split(':')[-1] if not pd.isna(x) else x)\n",
        "biographies_clean['isin'] = biographies_clean['isin'].apply(lambda x: x if not pd.isna(x) else x)\n",
        "biographies_clean['last_name'] = biographies_clean['last_name'].apply(lambda x: x if not pd.isna(x) else x)\n",
        "biographies_clean['all_tickers'] = biographies_clean['all_tickers'].apply(lambda x: [ticker.split(':')[-1].lower() if not pd.isna(x) else x for ticker in x.split(';')])\n",
        "biographies_clean['comp_name'] = biographies_clean['comp_name'].apply(lambda x: re.sub(r'\\([^()]*\\)', '', x))\n",
        "biographies_clean['prim_comp'] = biographies_clean['prim_comp'].apply(lambda x: re.sub(r'\\([^()]*\\)', '', x))\n",
        "# now add the ticker values of to the all_tickers list\n",
        "biographies_clean['all_tickers'] = biographies_clean.apply(lambda x: x['all_tickers'] + [x['ticker']] if x['all_tickers'][0] != '-' else x['all_tickers'], axis=1)\n",
        "\n",
        "# drop any biographies that are not populated\n",
        "biographies_clean = biographies_clean[biographies_clean['biographies'] != '-']\n",
        "\n",
        "biographies_clean.head()\n"
      ],
      "execution_count": 67,
      "outputs": [
        {
          "output_type": "execute_result",
          "data": {
            "text/html": [
              "<div>\n",
              "<style scoped>\n",
              "    .dataframe tbody tr th:only-of-type {\n",
              "        vertical-align: middle;\n",
              "    }\n",
              "\n",
              "    .dataframe tbody tr th {\n",
              "        vertical-align: top;\n",
              "    }\n",
              "\n",
              "    .dataframe thead th {\n",
              "        text-align: right;\n",
              "    }\n",
              "</style>\n",
              "<table border=\"1\" class=\"dataframe\">\n",
              "  <thead>\n",
              "    <tr style=\"text-align: right;\">\n",
              "      <th></th>\n",
              "      <th>name</th>\n",
              "      <th>first_name</th>\n",
              "      <th>middle_name</th>\n",
              "      <th>nick_name</th>\n",
              "      <th>last_name</th>\n",
              "      <th>comp_name</th>\n",
              "      <th>ticker</th>\n",
              "      <th>education</th>\n",
              "      <th>prim_comp</th>\n",
              "      <th>biographies</th>\n",
              "      <th>age</th>\n",
              "      <th>isin</th>\n",
              "      <th>all_tickers</th>\n",
              "      <th>org_name</th>\n",
              "    </tr>\n",
              "  </thead>\n",
              "  <tbody>\n",
              "    <tr>\n",
              "      <th>0</th>\n",
              "      <td>stephen allen schwarzman</td>\n",
              "      <td>stephen</td>\n",
              "      <td>allen</td>\n",
              "      <td>steve</td>\n",
              "      <td>schwarzman</td>\n",
              "      <td>pjt partners inc.</td>\n",
              "      <td>pjt</td>\n",
              "      <td>harvard business school; yale university; quin...</td>\n",
              "      <td>the blackstone group l.p.</td>\n",
              "      <td>mr. stephen allen schwarzman, also known as st...</td>\n",
              "      <td>68</td>\n",
              "      <td>us69343t1079</td>\n",
              "      <td>[pjt, 1pj, 1pj, pjt]</td>\n",
              "      <td>schwarzman, stephen allen (prior board)</td>\n",
              "    </tr>\n",
              "    <tr>\n",
              "      <th>1</th>\n",
              "      <td>jack bovender</td>\n",
              "      <td>jack</td>\n",
              "      <td>o.</td>\n",
              "      <td>-</td>\n",
              "      <td>bovender</td>\n",
              "      <td>hca holdings, inc.</td>\n",
              "      <td>hca</td>\n",
              "      <td>duke university</td>\n",
              "      <td>duke university</td>\n",
              "      <td>mr. jack o. bovender, jr., served as the chair...</td>\n",
              "      <td>70</td>\n",
              "      <td>us40412c1018</td>\n",
              "      <td>[hca, 2bh, hca]</td>\n",
              "      <td>bovender, jack o. (prior board)</td>\n",
              "    </tr>\n",
              "    <tr>\n",
              "      <th>2</th>\n",
              "      <td>milan mandaric</td>\n",
              "      <td>milan</td>\n",
              "      <td>-</td>\n",
              "      <td>-</td>\n",
              "      <td>mandaric</td>\n",
              "      <td>elexsys international</td>\n",
              "      <td>-</td>\n",
              "      <td>-</td>\n",
              "      <td>mm holdings international, inc.</td>\n",
              "      <td>mr. milan mandaric serves as chief executive o...</td>\n",
              "      <td>77</td>\n",
              "      <td>-</td>\n",
              "      <td>[-]</td>\n",
              "      <td>mandaric, milan (prior board)</td>\n",
              "    </tr>\n",
              "    <tr>\n",
              "      <th>3</th>\n",
              "      <td>john childs</td>\n",
              "      <td>john</td>\n",
              "      <td>w.</td>\n",
              "      <td>-</td>\n",
              "      <td>childs</td>\n",
              "      <td>jwc acquisition corp.</td>\n",
              "      <td>-</td>\n",
              "      <td>yale university; columbia university</td>\n",
              "      <td>j.w. childs associates, l.p.</td>\n",
              "      <td>mr. john w. childs serves as the chairman and ...</td>\n",
              "      <td>73</td>\n",
              "      <td>us46634y1029</td>\n",
              "      <td>[-]</td>\n",
              "      <td>childs, john w. (prior board)</td>\n",
              "    </tr>\n",
              "    <tr>\n",
              "      <th>4</th>\n",
              "      <td>john vota</td>\n",
              "      <td>john</td>\n",
              "      <td>p.</td>\n",
              "      <td>-</td>\n",
              "      <td>vota</td>\n",
              "      <td>insight management corporation, prior to rever...</td>\n",
              "      <td>-</td>\n",
              "      <td>columbia university; fordham university; schoo...</td>\n",
              "      <td>blackbird capital partners</td>\n",
              "      <td>mr. john p. vota serves as a managing partner ...</td>\n",
              "      <td>76</td>\n",
              "      <td>us45776q3074</td>\n",
              "      <td>[-]</td>\n",
              "      <td>vota, john p. (prior)</td>\n",
              "    </tr>\n",
              "  </tbody>\n",
              "</table>\n",
              "</div>"
            ],
            "text/plain": [
              "                       name  ...                                 org_name\n",
              "0  stephen allen schwarzman  ...  schwarzman, stephen allen (prior board)\n",
              "1             jack bovender  ...          bovender, jack o. (prior board)\n",
              "2            milan mandaric  ...            mandaric, milan (prior board)\n",
              "3               john childs  ...            childs, john w. (prior board)\n",
              "4                 john vota  ...                    vota, john p. (prior)\n",
              "\n",
              "[5 rows x 14 columns]"
            ]
          },
          "metadata": {
            "tags": []
          },
          "execution_count": 67
        }
      ]
    },
    {
      "cell_type": "markdown",
      "metadata": {
        "id": "QYfz0tdTSk7L"
      },
      "source": [
        "In order to be able to distinguish the directors and not create a duplicate effort because I research/review biographies for the same director twice because they are assigned to multiple companies, I will add a unique director ID based on the org_name (as displayed on the Reuters terminal) to the dataframe containing all directors. I will also add a unique id to the biographies_clean dataframe which considers the biographies to be unique."
      ]
    },
    {
      "cell_type": "code",
      "metadata": {
        "colab": {
          "base_uri": "https://localhost:8080/",
          "height": 394
        },
        "id": "FHNXHLTWSpI8",
        "outputId": "933adcad-9d35-42ba-936d-e098bebefe50"
      },
      "source": [
        "# assign unique director id based on org_name\n",
        "all_directors_clean['unique_dir_id'] = all_directors_clean.groupby(['org_name']).ngroup()\n",
        "all_directors_clean.head()\n"
      ],
      "execution_count": 68,
      "outputs": [
        {
          "output_type": "execute_result",
          "data": {
            "text/html": [
              "<div>\n",
              "<style scoped>\n",
              "    .dataframe tbody tr th:only-of-type {\n",
              "        vertical-align: middle;\n",
              "    }\n",
              "\n",
              "    .dataframe tbody tr th {\n",
              "        vertical-align: top;\n",
              "    }\n",
              "\n",
              "    .dataframe thead th {\n",
              "        text-align: right;\n",
              "    }\n",
              "</style>\n",
              "<table border=\"1\" class=\"dataframe\">\n",
              "  <thead>\n",
              "    <tr style=\"text-align: right;\">\n",
              "      <th></th>\n",
              "      <th>name</th>\n",
              "      <th>age</th>\n",
              "      <th>last_position</th>\n",
              "      <th>director_start</th>\n",
              "      <th>director_end</th>\n",
              "      <th>executive_start</th>\n",
              "      <th>executive_end</th>\n",
              "      <th>comp_name</th>\n",
              "      <th>ticker</th>\n",
              "      <th>missing_start_date</th>\n",
              "      <th>2011</th>\n",
              "      <th>2012</th>\n",
              "      <th>2013</th>\n",
              "      <th>2014</th>\n",
              "      <th>2015</th>\n",
              "      <th>current_position</th>\n",
              "      <th>dir_exec</th>\n",
              "      <th>in_position</th>\n",
              "      <th>isin</th>\n",
              "      <th>org_name</th>\n",
              "      <th>qualification</th>\n",
              "      <th>last_name</th>\n",
              "      <th>unique_dir_id</th>\n",
              "    </tr>\n",
              "  </thead>\n",
              "  <tbody>\n",
              "    <tr>\n",
              "      <th>0</th>\n",
              "      <td>christina gold</td>\n",
              "      <td>72.0</td>\n",
              "      <td>independent director</td>\n",
              "      <td>0.0</td>\n",
              "      <td>0.0</td>\n",
              "      <td>1997.0</td>\n",
              "      <td>2020.0</td>\n",
              "      <td>itt inc</td>\n",
              "      <td>itt</td>\n",
              "      <td>0.0</td>\n",
              "      <td>1.0</td>\n",
              "      <td>1.0</td>\n",
              "      <td>1.0</td>\n",
              "      <td>1.0</td>\n",
              "      <td>1.0</td>\n",
              "      <td>NaN</td>\n",
              "      <td>NaN</td>\n",
              "      <td>NaN</td>\n",
              "      <td>us45073v1089</td>\n",
              "      <td>ms. christina gold</td>\n",
              "      <td>None</td>\n",
              "      <td>gold</td>\n",
              "      <td>7917</td>\n",
              "    </tr>\n",
              "    <tr>\n",
              "      <th>1</th>\n",
              "      <td>frank macinnis</td>\n",
              "      <td>72.0</td>\n",
              "      <td>independent chairman of the board</td>\n",
              "      <td>2011.0</td>\n",
              "      <td>2020.0</td>\n",
              "      <td>2001.0</td>\n",
              "      <td>2020.0</td>\n",
              "      <td>itt inc</td>\n",
              "      <td>itt</td>\n",
              "      <td>0.0</td>\n",
              "      <td>1.0</td>\n",
              "      <td>1.0</td>\n",
              "      <td>1.0</td>\n",
              "      <td>1.0</td>\n",
              "      <td>1.0</td>\n",
              "      <td>NaN</td>\n",
              "      <td>NaN</td>\n",
              "      <td>NaN</td>\n",
              "      <td>us45073v1089</td>\n",
              "      <td>mr. frank macinnis</td>\n",
              "      <td>None</td>\n",
              "      <td>macinnis</td>\n",
              "      <td>3325</td>\n",
              "    </tr>\n",
              "    <tr>\n",
              "      <th>2</th>\n",
              "      <td>denise ramos</td>\n",
              "      <td>63.0</td>\n",
              "      <td>president, chief executive officer, director</td>\n",
              "      <td>2011.0</td>\n",
              "      <td>2019.0</td>\n",
              "      <td>2011.0</td>\n",
              "      <td>2019.0</td>\n",
              "      <td>itt inc</td>\n",
              "      <td>itt</td>\n",
              "      <td>0.0</td>\n",
              "      <td>1.0</td>\n",
              "      <td>1.0</td>\n",
              "      <td>1.0</td>\n",
              "      <td>1.0</td>\n",
              "      <td>1.0</td>\n",
              "      <td>NaN</td>\n",
              "      <td>NaN</td>\n",
              "      <td>NaN</td>\n",
              "      <td>us45073v1089</td>\n",
              "      <td>ms. denise ramos</td>\n",
              "      <td>None</td>\n",
              "      <td>ramos</td>\n",
              "      <td>7996</td>\n",
              "    </tr>\n",
              "    <tr>\n",
              "      <th>3</th>\n",
              "      <td>karen larue</td>\n",
              "      <td>40.0</td>\n",
              "      <td>controller, executive director</td>\n",
              "      <td>0.0</td>\n",
              "      <td>2018.0</td>\n",
              "      <td>0.0</td>\n",
              "      <td>2018.0</td>\n",
              "      <td>itt inc</td>\n",
              "      <td>itt</td>\n",
              "      <td>1.0</td>\n",
              "      <td>0.0</td>\n",
              "      <td>0.0</td>\n",
              "      <td>0.0</td>\n",
              "      <td>0.0</td>\n",
              "      <td>0.0</td>\n",
              "      <td>NaN</td>\n",
              "      <td>NaN</td>\n",
              "      <td>NaN</td>\n",
              "      <td>us45073v1089</td>\n",
              "      <td>ms. karen larue</td>\n",
              "      <td>None</td>\n",
              "      <td>larue</td>\n",
              "      <td>8250</td>\n",
              "    </tr>\n",
              "    <tr>\n",
              "      <th>4</th>\n",
              "      <td>peter d'aloia</td>\n",
              "      <td>NaN</td>\n",
              "      <td>independent director</td>\n",
              "      <td>0.0</td>\n",
              "      <td>0.0</td>\n",
              "      <td>0.0</td>\n",
              "      <td>2017.0</td>\n",
              "      <td>itt inc</td>\n",
              "      <td>itt</td>\n",
              "      <td>1.0</td>\n",
              "      <td>0.0</td>\n",
              "      <td>0.0</td>\n",
              "      <td>0.0</td>\n",
              "      <td>0.0</td>\n",
              "      <td>0.0</td>\n",
              "      <td>NaN</td>\n",
              "      <td>NaN</td>\n",
              "      <td>NaN</td>\n",
              "      <td>us45073v1089</td>\n",
              "      <td>mr. g. peter d'aloia</td>\n",
              "      <td>None</td>\n",
              "      <td>d'aloia</td>\n",
              "      <td>3393</td>\n",
              "    </tr>\n",
              "  </tbody>\n",
              "</table>\n",
              "</div>"
            ],
            "text/plain": [
              "             name   age  ... last_name  unique_dir_id\n",
              "0  christina gold  72.0  ...      gold           7917\n",
              "1  frank macinnis  72.0  ...  macinnis           3325\n",
              "2    denise ramos  63.0  ...     ramos           7996\n",
              "3     karen larue  40.0  ...     larue           8250\n",
              "4   peter d'aloia   NaN  ...   d'aloia           3393\n",
              "\n",
              "[5 rows x 23 columns]"
            ]
          },
          "metadata": {
            "tags": []
          },
          "execution_count": 68
        }
      ]
    },
    {
      "cell_type": "code",
      "metadata": {
        "colab": {
          "base_uri": "https://localhost:8080/",
          "height": 306
        },
        "id": "M2NrwZNqWc_J",
        "outputId": "7c6d8952-234a-45de-950e-c4f649425f68"
      },
      "source": [
        "# assign unique director id based on org_name\n",
        "biographies_clean['unique_bio_id'] = biographies_clean.groupby(['biographies']).ngroup()\n",
        "biographies_clean.head()\n"
      ],
      "execution_count": 69,
      "outputs": [
        {
          "output_type": "execute_result",
          "data": {
            "text/html": [
              "<div>\n",
              "<style scoped>\n",
              "    .dataframe tbody tr th:only-of-type {\n",
              "        vertical-align: middle;\n",
              "    }\n",
              "\n",
              "    .dataframe tbody tr th {\n",
              "        vertical-align: top;\n",
              "    }\n",
              "\n",
              "    .dataframe thead th {\n",
              "        text-align: right;\n",
              "    }\n",
              "</style>\n",
              "<table border=\"1\" class=\"dataframe\">\n",
              "  <thead>\n",
              "    <tr style=\"text-align: right;\">\n",
              "      <th></th>\n",
              "      <th>name</th>\n",
              "      <th>first_name</th>\n",
              "      <th>middle_name</th>\n",
              "      <th>nick_name</th>\n",
              "      <th>last_name</th>\n",
              "      <th>comp_name</th>\n",
              "      <th>ticker</th>\n",
              "      <th>education</th>\n",
              "      <th>prim_comp</th>\n",
              "      <th>biographies</th>\n",
              "      <th>age</th>\n",
              "      <th>isin</th>\n",
              "      <th>all_tickers</th>\n",
              "      <th>org_name</th>\n",
              "      <th>unique_bio_id</th>\n",
              "    </tr>\n",
              "  </thead>\n",
              "  <tbody>\n",
              "    <tr>\n",
              "      <th>0</th>\n",
              "      <td>stephen allen schwarzman</td>\n",
              "      <td>stephen</td>\n",
              "      <td>allen</td>\n",
              "      <td>steve</td>\n",
              "      <td>schwarzman</td>\n",
              "      <td>pjt partners inc.</td>\n",
              "      <td>pjt</td>\n",
              "      <td>harvard business school; yale university; quin...</td>\n",
              "      <td>the blackstone group l.p.</td>\n",
              "      <td>mr. stephen allen schwarzman, also known as st...</td>\n",
              "      <td>68</td>\n",
              "      <td>us69343t1079</td>\n",
              "      <td>[pjt, 1pj, 1pj, pjt]</td>\n",
              "      <td>schwarzman, stephen allen (prior board)</td>\n",
              "      <td>26212</td>\n",
              "    </tr>\n",
              "    <tr>\n",
              "      <th>1</th>\n",
              "      <td>jack bovender</td>\n",
              "      <td>jack</td>\n",
              "      <td>o.</td>\n",
              "      <td>-</td>\n",
              "      <td>bovender</td>\n",
              "      <td>hca holdings, inc.</td>\n",
              "      <td>hca</td>\n",
              "      <td>duke university</td>\n",
              "      <td>duke university</td>\n",
              "      <td>mr. jack o. bovender, jr., served as the chair...</td>\n",
              "      <td>70</td>\n",
              "      <td>us40412c1018</td>\n",
              "      <td>[hca, 2bh, hca]</td>\n",
              "      <td>bovender, jack o. (prior board)</td>\n",
              "      <td>14284</td>\n",
              "    </tr>\n",
              "    <tr>\n",
              "      <th>2</th>\n",
              "      <td>milan mandaric</td>\n",
              "      <td>milan</td>\n",
              "      <td>-</td>\n",
              "      <td>-</td>\n",
              "      <td>mandaric</td>\n",
              "      <td>elexsys international</td>\n",
              "      <td>-</td>\n",
              "      <td>-</td>\n",
              "      <td>mm holdings international, inc.</td>\n",
              "      <td>mr. milan mandaric serves as chief executive o...</td>\n",
              "      <td>77</td>\n",
              "      <td>-</td>\n",
              "      <td>[-]</td>\n",
              "      <td>mandaric, milan (prior board)</td>\n",
              "      <td>21079</td>\n",
              "    </tr>\n",
              "    <tr>\n",
              "      <th>3</th>\n",
              "      <td>john childs</td>\n",
              "      <td>john</td>\n",
              "      <td>w.</td>\n",
              "      <td>-</td>\n",
              "      <td>childs</td>\n",
              "      <td>jwc acquisition corp.</td>\n",
              "      <td>-</td>\n",
              "      <td>yale university; columbia university</td>\n",
              "      <td>j.w. childs associates, l.p.</td>\n",
              "      <td>mr. john w. childs serves as the chairman and ...</td>\n",
              "      <td>73</td>\n",
              "      <td>us46634y1029</td>\n",
              "      <td>[-]</td>\n",
              "      <td>childs, john w. (prior board)</td>\n",
              "      <td>16996</td>\n",
              "    </tr>\n",
              "    <tr>\n",
              "      <th>4</th>\n",
              "      <td>john vota</td>\n",
              "      <td>john</td>\n",
              "      <td>p.</td>\n",
              "      <td>-</td>\n",
              "      <td>vota</td>\n",
              "      <td>insight management corporation, prior to rever...</td>\n",
              "      <td>-</td>\n",
              "      <td>columbia university; fordham university; schoo...</td>\n",
              "      <td>blackbird capital partners</td>\n",
              "      <td>mr. john p. vota serves as a managing partner ...</td>\n",
              "      <td>76</td>\n",
              "      <td>us45776q3074</td>\n",
              "      <td>[-]</td>\n",
              "      <td>vota, john p. (prior)</td>\n",
              "      <td>16758</td>\n",
              "    </tr>\n",
              "  </tbody>\n",
              "</table>\n",
              "</div>"
            ],
            "text/plain": [
              "                       name  ... unique_bio_id\n",
              "0  stephen allen schwarzman  ...         26212\n",
              "1             jack bovender  ...         14284\n",
              "2            milan mandaric  ...         21079\n",
              "3               john childs  ...         16996\n",
              "4                 john vota  ...         16758\n",
              "\n",
              "[5 rows x 15 columns]"
            ]
          },
          "metadata": {
            "tags": []
          },
          "execution_count": 69
        }
      ]
    },
    {
      "cell_type": "code",
      "metadata": {
        "colab": {
          "base_uri": "https://localhost:8080/"
        },
        "id": "4u1SNh3Dwp5T",
        "outputId": "4f7e503b-a007-47be-a052-a455a7e9dbba"
      },
      "source": [
        "# drop any directors that do not have any of the years populated\n",
        "all_directors_clean['all_years'] = all_directors_clean.apply(lambda x: 'yes' if (x[['2011', '2012', '2013', '2014', '2015']] == 0).all() else 'no', axis=1)\n",
        "all_directors_rel = all_directors_clean[all_directors_clean['all_years'] == 'no'].copy()\n",
        "\n",
        "print(all_directors_rel.shape)\n",
        "print(all_directors_clean.shape)\n"
      ],
      "execution_count": 70,
      "outputs": [
        {
          "output_type": "stream",
          "text": [
            "(6888, 24)\n",
            "(12466, 24)\n"
          ],
          "name": "stdout"
        }
      ]
    },
    {
      "cell_type": "code",
      "metadata": {
        "id": "VDa2LsmItaPo"
      },
      "source": [
        "# manual name replacements to connect the right entries\n",
        "index = biographies_clean[biographies_clean['name'] == 'ahmet kent'].index\n",
        "biographies_clean.at[index, 'name'] = 'muhtar kent'\n",
        "\n",
        "index = all_directors_rel[all_directors_rel['name'] == 'ahmet kent'].index\n",
        "all_directors_rel.at[index, 'name'] = 'muhtar kent'\n",
        "all_directors_rel.at[index, 'org_name'] = 'mr. muhtar kent'\n"
      ],
      "execution_count": 71,
      "outputs": []
    },
    {
      "cell_type": "code",
      "metadata": {
        "id": "5VdXO2tlK5Ea"
      },
      "source": [
        "# write all relevant directors to a csv file\n",
        "all_directors_rel.to_csv('/content/drive/My Drive/director-csr/all_directors_rel.csv')\n"
      ],
      "execution_count": 72,
      "outputs": []
    },
    {
      "cell_type": "code",
      "metadata": {
        "colab": {
          "base_uri": "https://localhost:8080/"
        },
        "id": "kQC6plVmw6_0",
        "outputId": "dee9a83d-48b2-4d2a-f521-2b8a182706e0"
      },
      "source": [
        "# this many unique directors are contained in my dataset\n",
        "print(all_directors_rel['unique_dir_id'].nunique())\n",
        "\n",
        "# get only the unique names\n",
        "names_directors = all_directors_rel[['unique_dir_id']].copy()\n"
      ],
      "execution_count": 73,
      "outputs": [
        {
          "output_type": "stream",
          "text": [
            "5500\n"
          ],
          "name": "stdout"
        }
      ]
    },
    {
      "cell_type": "code",
      "metadata": {
        "colab": {
          "base_uri": "https://localhost:8080/",
          "height": 306
        },
        "id": "ei_14-NxdIQy",
        "outputId": "fb3d4b84-6b1c-47f1-a15c-174307b6e873"
      },
      "source": [
        "# show any duplicate biography entries in the biographies_clean dataframe\n",
        "dupe_bios_df = biographies_clean[biographies_clean.duplicated(subset='biographies', keep=False)].copy()\n",
        "print(dupe_bios_df.shape)\n",
        "dupe_bios_df.head()\n"
      ],
      "execution_count": 74,
      "outputs": [
        {
          "output_type": "stream",
          "text": [
            "(10900, 15)\n"
          ],
          "name": "stdout"
        },
        {
          "output_type": "execute_result",
          "data": {
            "text/html": [
              "<div>\n",
              "<style scoped>\n",
              "    .dataframe tbody tr th:only-of-type {\n",
              "        vertical-align: middle;\n",
              "    }\n",
              "\n",
              "    .dataframe tbody tr th {\n",
              "        vertical-align: top;\n",
              "    }\n",
              "\n",
              "    .dataframe thead th {\n",
              "        text-align: right;\n",
              "    }\n",
              "</style>\n",
              "<table border=\"1\" class=\"dataframe\">\n",
              "  <thead>\n",
              "    <tr style=\"text-align: right;\">\n",
              "      <th></th>\n",
              "      <th>name</th>\n",
              "      <th>first_name</th>\n",
              "      <th>middle_name</th>\n",
              "      <th>nick_name</th>\n",
              "      <th>last_name</th>\n",
              "      <th>comp_name</th>\n",
              "      <th>ticker</th>\n",
              "      <th>education</th>\n",
              "      <th>prim_comp</th>\n",
              "      <th>biographies</th>\n",
              "      <th>age</th>\n",
              "      <th>isin</th>\n",
              "      <th>all_tickers</th>\n",
              "      <th>org_name</th>\n",
              "      <th>unique_bio_id</th>\n",
              "    </tr>\n",
              "  </thead>\n",
              "  <tbody>\n",
              "    <tr>\n",
              "      <th>7</th>\n",
              "      <td>alan donenfeld</td>\n",
              "      <td>alan</td>\n",
              "      <td>p.</td>\n",
              "      <td>-</td>\n",
              "      <td>donenfeld</td>\n",
              "      <td>paneltech international holdings, inc.</td>\n",
              "      <td>pnlt</td>\n",
              "      <td>the fuqua school of business; tufts university</td>\n",
              "      <td>bristol investment group, inc.</td>\n",
              "      <td>mr. alan p. donenfeld serves as the managing m...</td>\n",
              "      <td>58</td>\n",
              "      <td>us69841h1005</td>\n",
              "      <td>[pnlt, pnlt]</td>\n",
              "      <td>donenfeld, alan p. (prior board)</td>\n",
              "      <td>5911</td>\n",
              "    </tr>\n",
              "    <tr>\n",
              "      <th>8</th>\n",
              "      <td>alan donenfeld</td>\n",
              "      <td>alan</td>\n",
              "      <td>p.</td>\n",
              "      <td>-</td>\n",
              "      <td>donenfeld</td>\n",
              "      <td>timberjack sporting supplies inc.</td>\n",
              "      <td>-</td>\n",
              "      <td>the fuqua school of business; tufts university</td>\n",
              "      <td>bristol investment group, inc.</td>\n",
              "      <td>mr. alan p. donenfeld serves as the managing m...</td>\n",
              "      <td>58</td>\n",
              "      <td>us88708t1060</td>\n",
              "      <td>[-]</td>\n",
              "      <td>donenfeld, alan p. (prior board)</td>\n",
              "      <td>5911</td>\n",
              "    </tr>\n",
              "    <tr>\n",
              "      <th>9</th>\n",
              "      <td>alan donenfeld</td>\n",
              "      <td>alan</td>\n",
              "      <td>p.</td>\n",
              "      <td>-</td>\n",
              "      <td>donenfeld</td>\n",
              "      <td>charleston basics, inc.</td>\n",
              "      <td>-</td>\n",
              "      <td>the fuqua school of business; tufts university</td>\n",
              "      <td>bristol investment group, inc.</td>\n",
              "      <td>mr. alan p. donenfeld serves as the managing m...</td>\n",
              "      <td>58</td>\n",
              "      <td>us1600561070</td>\n",
              "      <td>[-]</td>\n",
              "      <td>donenfeld, alan p. (prior board)</td>\n",
              "      <td>5911</td>\n",
              "    </tr>\n",
              "    <tr>\n",
              "      <th>10</th>\n",
              "      <td>mark meller</td>\n",
              "      <td>mark</td>\n",
              "      <td>-</td>\n",
              "      <td>-</td>\n",
              "      <td>meller</td>\n",
              "      <td>wien group inc.</td>\n",
              "      <td>-</td>\n",
              "      <td>baruch college; state university of new york a...</td>\n",
              "      <td>silversun technologies, inc.</td>\n",
              "      <td>mr. mark meller has been president of silversu...</td>\n",
              "      <td>55</td>\n",
              "      <td>us9676361010</td>\n",
              "      <td>[-]</td>\n",
              "      <td>meller, mark (prior board)</td>\n",
              "      <td>19595</td>\n",
              "    </tr>\n",
              "    <tr>\n",
              "      <th>11</th>\n",
              "      <td>mark meller</td>\n",
              "      <td>mark</td>\n",
              "      <td>-</td>\n",
              "      <td>-</td>\n",
              "      <td>meller</td>\n",
              "      <td>silversun technologies, inc., prior to reverse...</td>\n",
              "      <td>-</td>\n",
              "      <td>baruch college; state university of new york a...</td>\n",
              "      <td>silversun technologies, inc.</td>\n",
              "      <td>mr. mark meller has been president of silversu...</td>\n",
              "      <td>55</td>\n",
              "      <td>us82846h1086</td>\n",
              "      <td>[-]</td>\n",
              "      <td>meller, mark (prior board)</td>\n",
              "      <td>19595</td>\n",
              "    </tr>\n",
              "  </tbody>\n",
              "</table>\n",
              "</div>"
            ],
            "text/plain": [
              "              name first_name  ...                          org_name unique_bio_id\n",
              "7   alan donenfeld       alan  ...  donenfeld, alan p. (prior board)          5911\n",
              "8   alan donenfeld       alan  ...  donenfeld, alan p. (prior board)          5911\n",
              "9   alan donenfeld       alan  ...  donenfeld, alan p. (prior board)          5911\n",
              "10     mark meller       mark  ...        meller, mark (prior board)         19595\n",
              "11     mark meller       mark  ...        meller, mark (prior board)         19595\n",
              "\n",
              "[5 rows x 15 columns]"
            ]
          },
          "metadata": {
            "tags": []
          },
          "execution_count": 74
        }
      ]
    },
    {
      "cell_type": "code",
      "metadata": {
        "colab": {
          "base_uri": "https://localhost:8080/"
        },
        "id": "U5EB-m2KtOJl",
        "outputId": "3f709a38-9165-487b-c190-dd125ea13b4c"
      },
      "source": [
        "# check whether there are any instances where the bio is the same but the name is different\n",
        "unique_names_df = dupe_bios_df.groupby('unique_bio_id')['name'].apply(lambda x: x.unique()).reset_index()\n",
        "unique_names_df['multiple_names'] = unique_names_df['name'].apply(lambda x: 'yes' if len(x) > 1 else 'no')\n",
        "issue_df = unique_names_df[unique_names_df['multiple_names'] == 'yes']\n",
        "print(issue_df.shape)\n"
      ],
      "execution_count": 75,
      "outputs": [
        {
          "output_type": "stream",
          "text": [
            "(0, 3)\n"
          ],
          "name": "stdout"
        }
      ]
    },
    {
      "cell_type": "markdown",
      "metadata": {
        "id": "ix6TksFLrpwe"
      },
      "source": [
        "I will keep these duplicates and include them when matching the directors with the biographies. I can then later remove any duplicates."
      ]
    },
    {
      "cell_type": "markdown",
      "metadata": {
        "id": "oS8x4TpXvnpM"
      },
      "source": [
        "## Biography matching\n",
        "Unfortunately, the biography and director data does not match well. I can only use the names of the directors to merge the two datasets. But the way the names are shown differs greatly, something including middle names or nick names and sometimes not and differing between the two dataset for the same person. Therefore, I will use several steps to merge the datasets together. After each step, I will do a rough manual scan whether this method works and then move the correctly matched pairs to a separate dataframe. With the rest, I will do another merging step and then repeat this process multiple times.\n",
        "\n",
        "I hope this method will save me some time that I would otherwise have to invest in gathering ~4000 bios manually from DEF 14As."
      ]
    },
    {
      "cell_type": "code",
      "metadata": {
        "id": "uBec8Cm2yYLM"
      },
      "source": [
        "def review_and_match(df_dir, df_bio, merge_on, sanity='ticker'):\n",
        "    '''\n",
        "    Function to run some checks and then add potentially correct matches to\n",
        "    a final dataframe\n",
        "    Args: df_dir = df\n",
        "          df_bio = df\n",
        "          merge_on = list\n",
        "    Returns: df_matched = df\n",
        "             df_review = df\n",
        "    '''\n",
        "\n",
        "    # merge both dataframes on specified columns\n",
        "    df_step = pd.merge(df_dir, df_bio, how='inner', on=merge_on, suffixes=['_dir', '_bio'])\n",
        "\n",
        "    # assign column signifying how this director bio match was created\n",
        "    df_step['_'.join(merge_on)+'_match'] = 1\n",
        "\n",
        "    # check whether this list contains any duplicates\n",
        "    df_review = df_step[df_step.duplicated(subset=merge_on, keep=False)].copy()\n",
        "\n",
        "    # do the sanity check based on the entered value\n",
        "    if sanity == 'ticker':\n",
        "        df_step['ticker_match'] = df_step.apply(lambda x: int(x['ticker_dir'] in x['all_tickers']), axis=1)\n",
        "        # add ticker issues to df_review\n",
        "        df_review = df_step[df_step['ticker_match'] == 0].copy()\n",
        "\n",
        "    elif sanity == 'age':\n",
        "        df_step['age_dir'] = df_step['age_dir'].apply(lambda x: 0 if pd.isna(x) else x)\n",
        "        df_step['age_bio'] = df_step['age_bio'].apply(lambda x: 0 if x == '-' else x)\n",
        "        df_step['age_match'] = df_step.apply(lambda x: 1 if abs(x['age_dir'] - x['age_bio']) \n",
        "                                                            <= 5 else 0, axis=1)\n",
        "        # add ticker issues to df_review\n",
        "        df_review = df_step[df_step['age_match'] == 0].copy()\n",
        "\n",
        "    # remove the duplicates from the merged dataframe\n",
        "    indices = df_review['unique_dir_id']\n",
        "    df_step = df_step[~df_step['unique_dir_id'].isin(indices)]\n",
        "\n",
        "    # define the dataframe with all the probably correct matches\n",
        "    df_matched = df_step.copy()\n",
        "\n",
        "    return df_matched, df_review\n"
      ],
      "execution_count": 76,
      "outputs": []
    },
    {
      "cell_type": "markdown",
      "metadata": {
        "id": "MkcwUEevxRMj"
      },
      "source": [
        "### Merging on name and isin\n",
        "\n",
        "I will check the results with the tickers and review any duplicates of last names and isins.\n"
      ]
    },
    {
      "cell_type": "code",
      "metadata": {
        "colab": {
          "base_uri": "https://localhost:8080/"
        },
        "id": "jdTY70_csasO",
        "outputId": "b1cd8653-b876-41ef-c3f1-ec61dbb1e80c"
      },
      "source": [
        "# match both datasets on name and isin\n",
        "df_matched_name_isin, df_review_name_isin = review_and_match(all_directors_rel, biographies_clean, ['name', 'isin'], sanity='ticker')\n",
        "\n",
        "# this many matches were generated\n",
        "print(df_matched_name_isin.shape)\n",
        "# this many samples need to be reviewed\n",
        "print(df_review_name_isin.shape)\n"
      ],
      "execution_count": 77,
      "outputs": [
        {
          "output_type": "stream",
          "text": [
            "(501, 39)\n",
            "(8, 39)\n"
          ],
          "name": "stdout"
        }
      ]
    },
    {
      "cell_type": "markdown",
      "metadata": {
        "id": "z_pmoXhoRMJ9"
      },
      "source": [
        "### Merging on last_name and isin"
      ]
    },
    {
      "cell_type": "code",
      "metadata": {
        "colab": {
          "base_uri": "https://localhost:8080/"
        },
        "id": "0qgUgdSg2H-j",
        "outputId": "dc1dece6-9092-480d-e4b3-9442f5d8c477"
      },
      "source": [
        "# match both datasets on last_name and isin\n",
        "df_matched_last_name_isin, df_review_last_name_isin = review_and_match(all_directors_rel, biographies_clean, ['last_name', 'isin'], sanity='ticker')\n",
        "\n",
        "# this many matches were generated\n",
        "print(df_matched_last_name_isin.shape)\n",
        "# this many samples need to be reviewed\n",
        "print(df_review_last_name_isin.shape)\n"
      ],
      "execution_count": 78,
      "outputs": [
        {
          "output_type": "stream",
          "text": [
            "(582, 39)\n",
            "(10, 39)\n"
          ],
          "name": "stdout"
        }
      ]
    },
    {
      "cell_type": "markdown",
      "metadata": {
        "id": "6y0YW8jDXRCz"
      },
      "source": [
        "### Merging on last_name and ticker"
      ]
    },
    {
      "cell_type": "code",
      "metadata": {
        "colab": {
          "base_uri": "https://localhost:8080/"
        },
        "id": "kJVYadtoXU98",
        "outputId": "5dcb09c9-4a6c-4d17-97f1-4e67c4e01a50"
      },
      "source": [
        "# match both datasets on last_name and isin\n",
        "df_matched_last_name_ticker, df_review_last_name_ticker = review_and_match(all_directors_rel, biographies_clean, ['last_name', 'ticker'], sanity=None)\n",
        "\n",
        "# this many matches were generated\n",
        "print(df_matched_last_name_ticker.shape)\n",
        "# this many samples need to be reviewed\n",
        "print(df_review_last_name_ticker.shape)\n"
      ],
      "execution_count": 79,
      "outputs": [
        {
          "output_type": "stream",
          "text": [
            "(544, 38)\n",
            "(49, 38)\n"
          ],
          "name": "stdout"
        }
      ]
    },
    {
      "cell_type": "markdown",
      "metadata": {
        "id": "tjJasL3GyVGM"
      },
      "source": [
        "### Merging on name and do sanity check with ticker"
      ]
    },
    {
      "cell_type": "code",
      "metadata": {
        "colab": {
          "base_uri": "https://localhost:8080/"
        },
        "id": "hNR9_wo5yiCc",
        "outputId": "70b981ef-c099-469d-f223-44f46e08975e"
      },
      "source": [
        "# match both datasets on name and ticker\n",
        "df_matched_name, df_review_name = review_and_match(all_directors_rel, biographies_clean, ['name'], sanity='ticker')\n",
        "\n",
        "# this many matches were generated\n",
        "print(df_matched_name.shape)\n",
        "# this many samples need to be reviewed\n",
        "print(df_review_name.shape)\n"
      ],
      "execution_count": 80,
      "outputs": [
        {
          "output_type": "stream",
          "text": [
            "(238, 40)\n",
            "(2381, 40)\n"
          ],
          "name": "stdout"
        }
      ]
    },
    {
      "cell_type": "markdown",
      "metadata": {
        "id": "ik-6IJy15jEb"
      },
      "source": [
        "### Merging on name with age sanity check\n",
        "\n"
      ]
    },
    {
      "cell_type": "code",
      "metadata": {
        "colab": {
          "base_uri": "https://localhost:8080/"
        },
        "id": "VGbG7RUp-A17",
        "outputId": "469fd7c8-8888-4a99-c933-347338835796"
      },
      "source": [
        "# match both datasets on name and do age sanity check\n",
        "df_matched_name_age, df_review_name_age = review_and_match(all_directors_rel, biographies_clean, ['name'], sanity='age')\n",
        "\n",
        "# this many matches were generated\n",
        "print(df_matched_name_age.shape)\n",
        "# this many samples need to be reviewed\n",
        "print(df_review_name_age.shape)\n"
      ],
      "execution_count": 81,
      "outputs": [
        {
          "output_type": "stream",
          "text": [
            "(1676, 40)\n",
            "(910, 40)\n"
          ],
          "name": "stdout"
        }
      ]
    },
    {
      "cell_type": "markdown",
      "metadata": {
        "id": "-peOweq2YMEM"
      },
      "source": [
        "### Merging only on name\n",
        "I will not add the results of this merger to the other dataframes, but rather, I will check which ones are already included in the matched and review dataframes and the remaining ones I will add to the review dataframe."
      ]
    },
    {
      "cell_type": "code",
      "metadata": {
        "colab": {
          "base_uri": "https://localhost:8080/"
        },
        "id": "apMme0FdYMWM",
        "outputId": "dae1dddd-8ea4-4cda-d1ea-6831e04b3674"
      },
      "source": [
        "# match both datasets on name and do age sanity check\n",
        "df_matched_name_none, df_review_name_none = review_and_match(all_directors_rel, biographies_clean, ['name'], sanity=None)\n",
        "\n",
        "# this many matches were generated\n",
        "print(df_matched_name_none.shape)\n",
        "# this many samples need to be reviewed\n",
        "print(df_review_name_none.shape)"
      ],
      "execution_count": 82,
      "outputs": [
        {
          "output_type": "stream",
          "text": [
            "(772, 39)\n",
            "(2122, 39)\n"
          ],
          "name": "stdout"
        }
      ]
    },
    {
      "cell_type": "markdown",
      "metadata": {
        "id": "JO6v3evDB9_w"
      },
      "source": [
        "### Putting the individual matching dataframes together"
      ]
    },
    {
      "cell_type": "code",
      "metadata": {
        "id": "JjS76NZGQ8eV"
      },
      "source": [
        "# drop the columns that are not in every dataframe\n",
        "same_cols = list(set(df_matched_name_isin) & set(df_matched_last_name_isin) & set(df_matched_name) & set(df_matched_name_age) & set(df_matched_last_name_ticker))\n",
        "df_matched_name_isin = df_matched_name_isin[same_cols].copy()\n",
        "df_matched_last_name_isin = df_matched_last_name_isin[same_cols].copy()\n",
        "df_matched_name = df_matched_name[same_cols].copy()\n",
        "df_matched_name_age = df_matched_name_age[same_cols].copy()\n",
        "df_matched_last_name_ticker = df_matched_last_name_ticker[same_cols].copy()\n",
        "df_matched_name_none = df_matched_name_none[same_cols].copy()\n",
        "\n",
        "same_cols = list(set(df_review_name_isin) & set(df_review_last_name_isin) & set(df_review_name) & set(df_review_name_age) & set(df_review_last_name_ticker))\n",
        "df_review_name_isin = df_review_name_isin[same_cols].copy()\n",
        "df_review_last_name_isin = df_review_last_name_isin[same_cols].copy()\n",
        "df_review_name = df_review_name[same_cols].copy()\n",
        "df_review_name_age = df_review_name_age[same_cols].copy()\n",
        "df_review_last_name_ticker = df_review_last_name_ticker[same_cols].copy()\n",
        "df_review_name_none = df_review_name_none[same_cols].copy()\n"
      ],
      "execution_count": 83,
      "outputs": []
    },
    {
      "cell_type": "code",
      "metadata": {
        "colab": {
          "base_uri": "https://localhost:8080/"
        },
        "id": "sXXcvo2509qk",
        "outputId": "7f6777ae-3a6b-482d-84da-97752b14206c"
      },
      "source": [
        " # append both matched data frames\n",
        "df_matched_all = df_matched_name.append([df_matched_last_name_isin, df_matched_name_isin, df_matched_name_age, df_matched_last_name_ticker])\n",
        "df_matched_all.drop_duplicates(subset=['unique_dir_id', 'unique_bio_id'], inplace=True)\n",
        "print(df_matched_all.shape)\n"
      ],
      "execution_count": 84,
      "outputs": [
        {
          "output_type": "stream",
          "text": [
            "(1223, 31)\n"
          ],
          "name": "stdout"
        }
      ]
    },
    {
      "cell_type": "markdown",
      "metadata": {
        "id": "rdpAid3fYrUT"
      },
      "source": [
        "I will check which ones of the df_matched_name_none dataframe samples are included in the df_matched_all dataframe\n"
      ]
    },
    {
      "cell_type": "code",
      "metadata": {
        "colab": {
          "base_uri": "https://localhost:8080/"
        },
        "id": "DtuWtzu2Y0LD",
        "outputId": "4ccb8565-e231-409f-f7b9-8f3e3a207fc7"
      },
      "source": [
        "# which of the samles matched only on name are already included in the all matched dataframe\n",
        "indices = df_matched_all['unique_dir_id']\n",
        "df_manual_review = df_matched_name_none[~df_matched_name_none['unique_dir_id'].isin(indices)]\n",
        "\n",
        "# add the entries not in the df_matched_all dataframe to the review dataframe\n",
        "df_review_name_none = df_review_name_none.append(df_manual_review)\n",
        "df_review_name_none.drop_duplicates(subset=['unique_dir_id', 'unique_bio_id'], inplace=True)\n",
        "df_review_name_none.shape\n"
      ],
      "execution_count": 85,
      "outputs": [
        {
          "output_type": "execute_result",
          "data": {
            "text/plain": [
              "(1168, 31)"
            ]
          },
          "metadata": {
            "tags": []
          },
          "execution_count": 85
        }
      ]
    },
    {
      "cell_type": "code",
      "metadata": {
        "id": "85jpL9WQ30m8"
      },
      "source": [
        "# append all review dataframes\n",
        "df_review_all = df_review_name_isin.append([df_review_last_name_isin, df_review_name, df_review_name_age, df_review_last_name_ticker, df_review_name_none])\n",
        "df_review_all.drop_duplicates(subset=['unique_dir_id', 'unique_bio_id'], inplace=True)\n"
      ],
      "execution_count": 86,
      "outputs": []
    },
    {
      "cell_type": "code",
      "metadata": {
        "colab": {
          "base_uri": "https://localhost:8080/"
        },
        "id": "srdCKMd1DlLp",
        "outputId": "c3874695-fe06-4324-9822-612c1a6de415"
      },
      "source": [
        "# remove any entries from the review data set that are already in the matched dataset\n",
        "indices = df_matched_all['unique_dir_id']\n",
        "df_review_all = df_review_all[~df_review_all['unique_dir_id'].isin(indices)]\n",
        "\n",
        "df_review_all.shape\n"
      ],
      "execution_count": 87,
      "outputs": [
        {
          "output_type": "execute_result",
          "data": {
            "text/plain": [
              "(615, 31)"
            ]
          },
          "metadata": {
            "tags": []
          },
          "execution_count": 87
        }
      ]
    },
    {
      "cell_type": "markdown",
      "metadata": {
        "id": "oLOB1yPnB2YB"
      },
      "source": [
        "### Manually reviewing the flagged matches in the review dataframe"
      ]
    },
    {
      "cell_type": "code",
      "metadata": {
        "id": "Hhse2vxdCuhI"
      },
      "source": [
        "# sort the dataframe by original director name\n",
        "df_review_all.sort_values(by=['org_name_dir'], inplace=True)\n"
      ],
      "execution_count": 88,
      "outputs": []
    },
    {
      "cell_type": "code",
      "metadata": {
        "id": "xMbdWXaYbMMb"
      },
      "source": [
        "# add ticker, isin, last_name, and name columns again\n",
        "df_review_merged = pd.merge(all_directors_rel[['name', 'ticker', 'last_name', 'isin', 'unique_dir_id']], df_review_all, how='right', on='unique_dir_id', suffixes=['_dir', '_review'])\n",
        "df_review_merged = pd.merge(biographies_clean[['name', 'ticker', 'last_name', 'isin', 'unique_bio_id']], df_review_merged, how='right', on='unique_bio_id', suffixes=['_bio', '_review'])\n"
      ],
      "execution_count": 89,
      "outputs": []
    },
    {
      "cell_type": "code",
      "metadata": {
        "id": "FdKHr2JYdoNJ"
      },
      "source": [
        "# rearrange the columns\n",
        "new_order = ['name_review', 'last_name_review', 'org_name_dir', 'comp_name_dir', 'ticker_review', \n",
        "             'org_name_bio', 'comp_name_bio', 'prim_comp', 'age_bio', 'age_dir','biographies', 'unique_dir_id', 'unique_bio_id',\n",
        "             'first_name', 'nick_name', 'middle_name', 'last_name_bio']\n",
        "rest_cols = [x for x in df_review_merged.columns if x not in new_order]\n",
        "all_cols = new_order + rest_cols\n",
        "df_review_merged = df_review_merged[all_cols]\n"
      ],
      "execution_count": 90,
      "outputs": []
    },
    {
      "cell_type": "code",
      "metadata": {
        "colab": {
          "base_uri": "https://localhost:8080/"
        },
        "id": "6SVYa6bDglF5",
        "outputId": "e98981f6-6f92-41ee-8955-a4d199ee725f"
      },
      "source": [
        "df_review_all.shape"
      ],
      "execution_count": 91,
      "outputs": [
        {
          "output_type": "execute_result",
          "data": {
            "text/plain": [
              "(615, 31)"
            ]
          },
          "metadata": {
            "tags": []
          },
          "execution_count": 91
        }
      ]
    },
    {
      "cell_type": "code",
      "metadata": {
        "id": "iC3s8tm9CLyA"
      },
      "source": [
        "# write this dataframe to excel file for manual review\n",
        "df_review_merged.to_excel('/content/drive/My Drive/director-csr/dir_bio_manual_review.xlsx',\n",
        "                                sheet_name='review')\n"
      ],
      "execution_count": 92,
      "outputs": []
    },
    {
      "cell_type": "markdown",
      "metadata": {
        "id": "FQ4O1E-8hpDS"
      },
      "source": [
        "I started to review these 615 directors, however, most of them were not a match. Therefore, I will continue my manual research of the biographies."
      ]
    },
    {
      "cell_type": "markdown",
      "metadata": {
        "id": "eAo9UmqIhggg"
      },
      "source": [
        "## Writing the basic matching on name column to excel"
      ]
    },
    {
      "cell_type": "code",
      "metadata": {
        "colab": {
          "base_uri": "https://localhost:8080/",
          "height": 114
        },
        "id": "jyKuo9e_oooy",
        "outputId": "88372457-ddc2-4d3b-a83c-7b8a7820a695"
      },
      "source": [
        "# check the old uncleaned biographies for name\n",
        "biographies_old[biographies_old['name'].str.contains('schwarzman')]\n"
      ],
      "execution_count": 93,
      "outputs": [
        {
          "output_type": "execute_result",
          "data": {
            "text/html": [
              "<div>\n",
              "<style scoped>\n",
              "    .dataframe tbody tr th:only-of-type {\n",
              "        vertical-align: middle;\n",
              "    }\n",
              "\n",
              "    .dataframe tbody tr th {\n",
              "        vertical-align: top;\n",
              "    }\n",
              "\n",
              "    .dataframe thead th {\n",
              "        text-align: right;\n",
              "    }\n",
              "</style>\n",
              "<table border=\"1\" class=\"dataframe\">\n",
              "  <thead>\n",
              "    <tr style=\"text-align: right;\">\n",
              "      <th></th>\n",
              "      <th>name</th>\n",
              "      <th>first_name</th>\n",
              "      <th>middle_name</th>\n",
              "      <th>nick_name</th>\n",
              "      <th>last_name</th>\n",
              "      <th>comp_name</th>\n",
              "      <th>ticker</th>\n",
              "      <th>education</th>\n",
              "      <th>prim_comp</th>\n",
              "      <th>biographies</th>\n",
              "      <th>age</th>\n",
              "      <th>isin</th>\n",
              "      <th>all_tickers</th>\n",
              "    </tr>\n",
              "  </thead>\n",
              "  <tbody>\n",
              "    <tr>\n",
              "      <th>0</th>\n",
              "      <td>schwarzman, stephen allen (prior board)</td>\n",
              "      <td>Stephen</td>\n",
              "      <td>Allen</td>\n",
              "      <td>Steve</td>\n",
              "      <td>Schwarzman</td>\n",
              "      <td>PJT Partners Inc. (NYSE:PJT)</td>\n",
              "      <td>NYSE:PJT</td>\n",
              "      <td>Harvard Business School; Yale University; Quin...</td>\n",
              "      <td>The Blackstone Group L.P. (NYSE:BX) (Board)</td>\n",
              "      <td>Mr. Stephen Allen Schwarzman, also known as St...</td>\n",
              "      <td>68</td>\n",
              "      <td>US69343T1079</td>\n",
              "      <td>NYSE:PJT; BST:1PJ; DB:1PJ</td>\n",
              "    </tr>\n",
              "  </tbody>\n",
              "</table>\n",
              "</div>"
            ],
            "text/plain": [
              "                                      name  ...                all_tickers\n",
              "0  schwarzman, stephen allen (prior board)  ...  NYSE:PJT; BST:1PJ; DB:1PJ\n",
              "\n",
              "[1 rows x 13 columns]"
            ]
          },
          "metadata": {
            "tags": []
          },
          "execution_count": 93
        }
      ]
    },
    {
      "cell_type": "code",
      "metadata": {
        "colab": {
          "base_uri": "https://localhost:8080/",
          "height": 145
        },
        "id": "WacR5erfk2Y7",
        "outputId": "8ea6501e-b276-447d-8053-9b5582035daa"
      },
      "source": [
        "# check the cleaned biographies for name\n",
        "biographies_old_clean[biographies_old_clean['name'] == 'wayne daley']\n"
      ],
      "execution_count": 94,
      "outputs": [
        {
          "output_type": "execute_result",
          "data": {
            "text/html": [
              "<div>\n",
              "<style scoped>\n",
              "    .dataframe tbody tr th:only-of-type {\n",
              "        vertical-align: middle;\n",
              "    }\n",
              "\n",
              "    .dataframe tbody tr th {\n",
              "        vertical-align: top;\n",
              "    }\n",
              "\n",
              "    .dataframe thead th {\n",
              "        text-align: right;\n",
              "    }\n",
              "</style>\n",
              "<table border=\"1\" class=\"dataframe\">\n",
              "  <thead>\n",
              "    <tr style=\"text-align: right;\">\n",
              "      <th></th>\n",
              "      <th>name</th>\n",
              "      <th>first_name</th>\n",
              "      <th>middle_name</th>\n",
              "      <th>nick_name</th>\n",
              "      <th>last_name</th>\n",
              "      <th>comp_name</th>\n",
              "      <th>ticker</th>\n",
              "      <th>education</th>\n",
              "      <th>prim_comp</th>\n",
              "      <th>biographies</th>\n",
              "      <th>age</th>\n",
              "      <th>isin</th>\n",
              "      <th>all_tickers</th>\n",
              "      <th>org_name</th>\n",
              "    </tr>\n",
              "  </thead>\n",
              "  <tbody>\n",
              "    <tr>\n",
              "      <th>16019</th>\n",
              "      <td>wayne daley</td>\n",
              "      <td>Wayne</td>\n",
              "      <td>-</td>\n",
              "      <td>-</td>\n",
              "      <td>Daley</td>\n",
              "      <td>Cascade Mountain Mining Co. Inc.</td>\n",
              "      <td>-</td>\n",
              "      <td>-</td>\n",
              "      <td>BioStem Inc. (Prior Board)</td>\n",
              "      <td>Wayne B. Daley served as President and Chief E...</td>\n",
              "      <td>51</td>\n",
              "      <td>US1473301042</td>\n",
              "      <td>-</td>\n",
              "      <td>Daley, Wayne (Prior Board)</td>\n",
              "    </tr>\n",
              "    <tr>\n",
              "      <th>16020</th>\n",
              "      <td>wayne daley</td>\n",
              "      <td>Wayne</td>\n",
              "      <td>-</td>\n",
              "      <td>-</td>\n",
              "      <td>Daley</td>\n",
              "      <td>BioStem Inc.</td>\n",
              "      <td>-</td>\n",
              "      <td>-</td>\n",
              "      <td>BioStem Inc. (Prior Board)</td>\n",
              "      <td>Wayne B. Daley served as President and Chief E...</td>\n",
              "      <td>51</td>\n",
              "      <td>US48122Q1040</td>\n",
              "      <td>-</td>\n",
              "      <td>Daley, Wayne (Prior Board)</td>\n",
              "    </tr>\n",
              "  </tbody>\n",
              "</table>\n",
              "</div>"
            ],
            "text/plain": [
              "              name first_name  ... all_tickers                    org_name\n",
              "16019  wayne daley      Wayne  ...           -  Daley, Wayne (Prior Board)\n",
              "16020  wayne daley      Wayne  ...           -  Daley, Wayne (Prior Board)\n",
              "\n",
              "[2 rows x 14 columns]"
            ]
          },
          "metadata": {
            "tags": []
          },
          "execution_count": 94
        }
      ]
    },
    {
      "cell_type": "code",
      "metadata": {
        "colab": {
          "base_uri": "https://localhost:8080/"
        },
        "id": "4wsKgOLnouPI",
        "outputId": "5b335fd1-1250-4278-c216-9a33574a212c"
      },
      "source": [
        "# merge both dataframes on the name column\n",
        "dir_bio_df = pd.merge(all_directors_rel, biographies_old_clean, how='left', on='name')\n",
        "print(dir_bio_df['biographies'].isnull().sum(), 'are entries without biographies')\n",
        "print(dir_bio_df.shape)\n"
      ],
      "execution_count": 95,
      "outputs": [
        {
          "output_type": "stream",
          "text": [
            "4867 are entries without biographies\n",
            "(7761, 37)\n"
          ],
          "name": "stdout"
        }
      ]
    },
    {
      "cell_type": "markdown",
      "metadata": {
        "id": "przocFYoAtgj"
      },
      "source": [
        "It is important to note that these 4867 directors are not necessarily really unique. In the case of director 'thomas brown', there are three different people with this name and different biographies. However, because I cannot (easily) distinguish which one of these really belongs to a specific company, all three people will be added per company and I need to manually determine which ones of these is the correct biography. I will do this during the process of reviewing DEF 14As for missing biographies and csr committees."
      ]
    },
    {
      "cell_type": "code",
      "metadata": {
        "colab": {
          "base_uri": "https://localhost:8080/"
        },
        "id": "9kXOkGsoBvhD",
        "outputId": "9e6a46b8-c01c-4d68-b0db-2bb647a8a858"
      },
      "source": [
        "# check how many directors (incl. duplicates) are sitting on the company boards\n",
        "unique_bios = dir_bio_df.drop_duplicates(subset=['org_name_x', 'comp_name_x'])\n",
        "unique_bios.shape\n"
      ],
      "execution_count": 96,
      "outputs": [
        {
          "output_type": "execute_result",
          "data": {
            "text/plain": [
              "(6877, 37)"
            ]
          },
          "metadata": {
            "tags": []
          },
          "execution_count": 96
        }
      ]
    },
    {
      "cell_type": "code",
      "metadata": {
        "colab": {
          "base_uri": "https://localhost:8080/"
        },
        "id": "pzLz5Ga-K0MD",
        "outputId": "5b2d33c3-d02b-4ce0-897e-a0a5e71c4a14"
      },
      "source": [
        "# number of unique biographies which are available\n",
        "unique_bios = unique_bios.drop_duplicates(subset='biographies')\n",
        "unique_bios.shape\n"
      ],
      "execution_count": 97,
      "outputs": [
        {
          "output_type": "execute_result",
          "data": {
            "text/plain": [
              "(1405, 37)"
            ]
          },
          "metadata": {
            "tags": []
          },
          "execution_count": 97
        }
      ]
    },
    {
      "cell_type": "markdown",
      "metadata": {
        "id": "V5D4Is7RI4ID"
      },
      "source": [
        "This sample includes two companies which are not relevant for my investigation because they were only part of the S&P 500 in 2010. Therefore, I will remove them just to see how many biographies relate to all relevant companies. But I will keep them in the dir_bio_df dataframe in order not to alter the code that is based on this dataframe in other notebooks. The irrelevant companies are itt and mdp (those are their tickers)."
      ]
    },
    {
      "cell_type": "code",
      "metadata": {
        "colab": {
          "base_uri": "https://localhost:8080/"
        },
        "id": "q4hODzobJOil",
        "outputId": "4cf11df6-9414-42fe-e316-a4bf10de8b74"
      },
      "source": [
        "# check how many biographies are included in the S&P Capital IQ dataset without\n",
        "# the irrelevant companies included\n",
        "unique_bios[~unique_bios['ticker_x'].isin(['itt', 'mdp'])].shape\n"
      ],
      "execution_count": 98,
      "outputs": [
        {
          "output_type": "execute_result",
          "data": {
            "text/plain": [
              "(1395, 37)"
            ]
          },
          "metadata": {
            "tags": []
          },
          "execution_count": 98
        }
      ]
    },
    {
      "cell_type": "code",
      "metadata": {
        "colab": {
          "base_uri": "https://localhost:8080/"
        },
        "id": "OtRSp559f6WI",
        "outputId": "e3e77ded-68cf-468b-8901-8453152b63b4"
      },
      "source": [
        "# remove any duplicate entries where the name, biography and comp_name are the same\n",
        "dir_bio_df = dir_bio_df[~dir_bio_df.duplicated(subset=['name', 'biographies', 'comp_name_x'])]\n",
        "dir_bio_df.shape\n"
      ],
      "execution_count": 99,
      "outputs": [
        {
          "output_type": "execute_result",
          "data": {
            "text/plain": [
              "(7409, 37)"
            ]
          },
          "metadata": {
            "tags": []
          },
          "execution_count": 99
        }
      ]
    },
    {
      "cell_type": "code",
      "metadata": {
        "id": "dF1pXVMH9PCn",
        "colab": {
          "base_uri": "https://localhost:8080/",
          "height": 496
        },
        "outputId": "5835dfc5-f0bf-4fff-c521-f084a7772f8f"
      },
      "source": [
        "dir_bio_df.head()"
      ],
      "execution_count": 100,
      "outputs": [
        {
          "output_type": "execute_result",
          "data": {
            "text/html": [
              "<div>\n",
              "<style scoped>\n",
              "    .dataframe tbody tr th:only-of-type {\n",
              "        vertical-align: middle;\n",
              "    }\n",
              "\n",
              "    .dataframe tbody tr th {\n",
              "        vertical-align: top;\n",
              "    }\n",
              "\n",
              "    .dataframe thead th {\n",
              "        text-align: right;\n",
              "    }\n",
              "</style>\n",
              "<table border=\"1\" class=\"dataframe\">\n",
              "  <thead>\n",
              "    <tr style=\"text-align: right;\">\n",
              "      <th></th>\n",
              "      <th>name</th>\n",
              "      <th>age_x</th>\n",
              "      <th>last_position</th>\n",
              "      <th>director_start</th>\n",
              "      <th>director_end</th>\n",
              "      <th>executive_start</th>\n",
              "      <th>executive_end</th>\n",
              "      <th>comp_name_x</th>\n",
              "      <th>ticker_x</th>\n",
              "      <th>missing_start_date</th>\n",
              "      <th>2011</th>\n",
              "      <th>2012</th>\n",
              "      <th>2013</th>\n",
              "      <th>2014</th>\n",
              "      <th>2015</th>\n",
              "      <th>current_position</th>\n",
              "      <th>dir_exec</th>\n",
              "      <th>in_position</th>\n",
              "      <th>isin_x</th>\n",
              "      <th>org_name_x</th>\n",
              "      <th>qualification</th>\n",
              "      <th>last_name_x</th>\n",
              "      <th>unique_dir_id</th>\n",
              "      <th>all_years</th>\n",
              "      <th>first_name</th>\n",
              "      <th>middle_name</th>\n",
              "      <th>nick_name</th>\n",
              "      <th>last_name_y</th>\n",
              "      <th>comp_name_y</th>\n",
              "      <th>ticker_y</th>\n",
              "      <th>education</th>\n",
              "      <th>prim_comp</th>\n",
              "      <th>biographies</th>\n",
              "      <th>age_y</th>\n",
              "      <th>isin_y</th>\n",
              "      <th>all_tickers</th>\n",
              "      <th>org_name_y</th>\n",
              "    </tr>\n",
              "  </thead>\n",
              "  <tbody>\n",
              "    <tr>\n",
              "      <th>0</th>\n",
              "      <td>christina gold</td>\n",
              "      <td>72.0</td>\n",
              "      <td>independent director</td>\n",
              "      <td>0.0</td>\n",
              "      <td>0.0</td>\n",
              "      <td>1997.0</td>\n",
              "      <td>2020.0</td>\n",
              "      <td>itt inc</td>\n",
              "      <td>itt</td>\n",
              "      <td>0.0</td>\n",
              "      <td>1.0</td>\n",
              "      <td>1.0</td>\n",
              "      <td>1.0</td>\n",
              "      <td>1.0</td>\n",
              "      <td>1.0</td>\n",
              "      <td>NaN</td>\n",
              "      <td>NaN</td>\n",
              "      <td>NaN</td>\n",
              "      <td>us45073v1089</td>\n",
              "      <td>ms. christina gold</td>\n",
              "      <td>None</td>\n",
              "      <td>gold</td>\n",
              "      <td>7917</td>\n",
              "      <td>no</td>\n",
              "      <td>Christina</td>\n",
              "      <td>A.</td>\n",
              "      <td>-</td>\n",
              "      <td>Gold</td>\n",
              "      <td>The Western Union Company (NYSE:WU)</td>\n",
              "      <td>NYSE:WU</td>\n",
              "      <td>Ecole des Hautes Etudes Commerciales de Montre...</td>\n",
              "      <td>First Data Merchant Services Corporation</td>\n",
              "      <td>Mrs. Christina A. Gold has been the Chief Exec...</td>\n",
              "      <td>67</td>\n",
              "      <td>US9598021098</td>\n",
              "      <td>NYSE:WU; BMV:WU *; BOVESPA:WUNI34; DB:W3U</td>\n",
              "      <td>Gold, Christina A. (Prior Board)</td>\n",
              "    </tr>\n",
              "    <tr>\n",
              "      <th>1</th>\n",
              "      <td>frank macinnis</td>\n",
              "      <td>72.0</td>\n",
              "      <td>independent chairman of the board</td>\n",
              "      <td>2011.0</td>\n",
              "      <td>2020.0</td>\n",
              "      <td>2001.0</td>\n",
              "      <td>2020.0</td>\n",
              "      <td>itt inc</td>\n",
              "      <td>itt</td>\n",
              "      <td>0.0</td>\n",
              "      <td>1.0</td>\n",
              "      <td>1.0</td>\n",
              "      <td>1.0</td>\n",
              "      <td>1.0</td>\n",
              "      <td>1.0</td>\n",
              "      <td>NaN</td>\n",
              "      <td>NaN</td>\n",
              "      <td>NaN</td>\n",
              "      <td>us45073v1089</td>\n",
              "      <td>mr. frank macinnis</td>\n",
              "      <td>None</td>\n",
              "      <td>macinnis</td>\n",
              "      <td>3325</td>\n",
              "      <td>no</td>\n",
              "      <td>Frank</td>\n",
              "      <td>T.</td>\n",
              "      <td>-</td>\n",
              "      <td>MacInnis</td>\n",
              "      <td>EMCOR Group Inc. (NYSE:EME)</td>\n",
              "      <td>NYSE:EME</td>\n",
              "      <td>University of Alberta; University Of Alberta L...</td>\n",
              "      <td>MES Holdings Corporation</td>\n",
              "      <td>Mr. Frank T. MacInnis serves as the President ...</td>\n",
              "      <td>68</td>\n",
              "      <td>US29084Q1004</td>\n",
              "      <td>NYSE:EME; DB:EM4</td>\n",
              "      <td>MacInnis, Frank T. (Prior Board)</td>\n",
              "    </tr>\n",
              "    <tr>\n",
              "      <th>2</th>\n",
              "      <td>denise ramos</td>\n",
              "      <td>63.0</td>\n",
              "      <td>president, chief executive officer, director</td>\n",
              "      <td>2011.0</td>\n",
              "      <td>2019.0</td>\n",
              "      <td>2011.0</td>\n",
              "      <td>2019.0</td>\n",
              "      <td>itt inc</td>\n",
              "      <td>itt</td>\n",
              "      <td>0.0</td>\n",
              "      <td>1.0</td>\n",
              "      <td>1.0</td>\n",
              "      <td>1.0</td>\n",
              "      <td>1.0</td>\n",
              "      <td>1.0</td>\n",
              "      <td>NaN</td>\n",
              "      <td>NaN</td>\n",
              "      <td>NaN</td>\n",
              "      <td>us45073v1089</td>\n",
              "      <td>ms. denise ramos</td>\n",
              "      <td>None</td>\n",
              "      <td>ramos</td>\n",
              "      <td>7996</td>\n",
              "      <td>no</td>\n",
              "      <td>Denise</td>\n",
              "      <td>L.</td>\n",
              "      <td>-</td>\n",
              "      <td>Ramos</td>\n",
              "      <td>ITT Corporation (NYSE:ITT)</td>\n",
              "      <td>NYSE:ITT</td>\n",
              "      <td>The University of Chicago; Purdue University</td>\n",
              "      <td>ITT Corporation (NYSE:ITT) (Board)</td>\n",
              "      <td>Ms. Denise L. Ramos serves as the Chief Execut...</td>\n",
              "      <td>58</td>\n",
              "      <td>US4509112011</td>\n",
              "      <td>NYSE:ITT; DB:ITTA</td>\n",
              "      <td>Ramos, Denise L. (Board)</td>\n",
              "    </tr>\n",
              "    <tr>\n",
              "      <th>3</th>\n",
              "      <td>orlando ashford</td>\n",
              "      <td>51.0</td>\n",
              "      <td>NaN</td>\n",
              "      <td>NaN</td>\n",
              "      <td>NaN</td>\n",
              "      <td>NaN</td>\n",
              "      <td>NaN</td>\n",
              "      <td>itt inc</td>\n",
              "      <td>itt</td>\n",
              "      <td>NaN</td>\n",
              "      <td>0.0</td>\n",
              "      <td>1.0</td>\n",
              "      <td>1.0</td>\n",
              "      <td>1.0</td>\n",
              "      <td>1.0</td>\n",
              "      <td>independent director</td>\n",
              "      <td>2012.0</td>\n",
              "      <td>2012.0</td>\n",
              "      <td>us45073v1089</td>\n",
              "      <td>mr. orlando ashford</td>\n",
              "      <td>None</td>\n",
              "      <td>ashford</td>\n",
              "      <td>5733</td>\n",
              "      <td>no</td>\n",
              "      <td>NaN</td>\n",
              "      <td>NaN</td>\n",
              "      <td>NaN</td>\n",
              "      <td>NaN</td>\n",
              "      <td>NaN</td>\n",
              "      <td>NaN</td>\n",
              "      <td>NaN</td>\n",
              "      <td>NaN</td>\n",
              "      <td>NaN</td>\n",
              "      <td>NaN</td>\n",
              "      <td>NaN</td>\n",
              "      <td>NaN</td>\n",
              "      <td>NaN</td>\n",
              "    </tr>\n",
              "    <tr>\n",
              "      <th>4</th>\n",
              "      <td>donald defosset</td>\n",
              "      <td>72.0</td>\n",
              "      <td>NaN</td>\n",
              "      <td>NaN</td>\n",
              "      <td>NaN</td>\n",
              "      <td>NaN</td>\n",
              "      <td>NaN</td>\n",
              "      <td>itt inc</td>\n",
              "      <td>itt</td>\n",
              "      <td>NaN</td>\n",
              "      <td>0.0</td>\n",
              "      <td>1.0</td>\n",
              "      <td>1.0</td>\n",
              "      <td>1.0</td>\n",
              "      <td>1.0</td>\n",
              "      <td>independent director</td>\n",
              "      <td>2012.0</td>\n",
              "      <td>2012.0</td>\n",
              "      <td>us45073v1089</td>\n",
              "      <td>mr. donald (don) defosset , jr.</td>\n",
              "      <td>jr.</td>\n",
              "      <td>defosset</td>\n",
              "      <td>2984</td>\n",
              "      <td>no</td>\n",
              "      <td>Donald</td>\n",
              "      <td>-</td>\n",
              "      <td>Don</td>\n",
              "      <td>DeFosset</td>\n",
              "      <td>Walter Energy, Inc.</td>\n",
              "      <td>-</td>\n",
              "      <td>Harvard Business School; Purdue University</td>\n",
              "      <td>ATL Partners</td>\n",
              "      <td>Mr. Donald DeFosset, Jr., also known as Don, B...</td>\n",
              "      <td>66</td>\n",
              "      <td>US93317Q1058</td>\n",
              "      <td>OTCPK:WLTG.Q</td>\n",
              "      <td>DeFosset, Donald (Prior Board)</td>\n",
              "    </tr>\n",
              "  </tbody>\n",
              "</table>\n",
              "</div>"
            ],
            "text/plain": [
              "              name  ...                        org_name_y\n",
              "0   christina gold  ...  Gold, Christina A. (Prior Board)\n",
              "1   frank macinnis  ...  MacInnis, Frank T. (Prior Board)\n",
              "2     denise ramos  ...          Ramos, Denise L. (Board)\n",
              "3  orlando ashford  ...                               NaN\n",
              "4  donald defosset  ...    DeFosset, Donald (Prior Board)\n",
              "\n",
              "[5 rows x 37 columns]"
            ]
          },
          "metadata": {
            "tags": []
          },
          "execution_count": 100
        }
      ]
    },
    {
      "cell_type": "code",
      "metadata": {
        "id": "svqQVwJ9bYoC"
      },
      "source": [
        "# write the dir_bio_df dataframe to an excel file\n",
        "dir_bio_df.to_excel('/content/drive/My Drive/director-csr/director_bios_all.xlsx',\n",
        "                                sheet_name='bios')\n"
      ],
      "execution_count": 101,
      "outputs": []
    },
    {
      "cell_type": "code",
      "metadata": {
        "id": "tgQSvaztz7oA"
      },
      "source": [
        ""
      ],
      "execution_count": 101,
      "outputs": []
    }
  ]
}