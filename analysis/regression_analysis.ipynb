{
  "nbformat": 4,
  "nbformat_minor": 0,
  "metadata": {
    "colab": {
      "name": "regression_analysis.ipynb",
      "provenance": [],
      "collapsed_sections": [],
      "authorship_tag": "ABX9TyOqBM/FZ5eS4hMpvo1nMxJ0",
      "include_colab_link": true
    },
    "kernelspec": {
      "name": "python3",
      "display_name": "Python 3"
    },
    "language_info": {
      "name": "python"
    }
  },
  "cells": [
    {
      "cell_type": "markdown",
      "metadata": {
        "id": "view-in-github",
        "colab_type": "text"
      },
      "source": [
        "<a href=\"https://colab.research.google.com/github/julianikulski/director-experience/blob/main/analysis/regression_analysis.ipynb\" target=\"_parent\"><img src=\"https://colab.research.google.com/assets/colab-badge.svg\" alt=\"Open In Colab\"/></a>"
      ]
    },
    {
      "cell_type": "markdown",
      "metadata": {
        "id": "_sYUvLwHfzU6"
      },
      "source": [
        "# Regression analysis\n",
        "The datasets created by the `exploratory data analysis` notebook are used in this notebook to conduct fixed effects regression analysis."
      ]
    },
    {
      "cell_type": "code",
      "metadata": {
        "colab": {
          "base_uri": "https://localhost:8080/"
        },
        "id": "L31gmkz3hIv3",
        "outputId": "73e11b54-a19c-45bb-e783-3420fd111be6"
      },
      "source": [
        "# connecting to Google Drive to access files\n",
        "from google.colab import drive\n",
        "drive.mount('/content/drive')\n"
      ],
      "execution_count": 1,
      "outputs": [
        {
          "output_type": "stream",
          "text": [
            "Drive already mounted at /content/drive; to attempt to forcibly remount, call drive.mount(\"/content/drive\", force_remount=True).\n"
          ],
          "name": "stdout"
        }
      ]
    },
    {
      "cell_type": "code",
      "metadata": {
        "id": "oucZdRYvhaYU"
      },
      "source": [
        "# install the linearmodels package\n",
        "!pip install linearmodels &> /dev/null\n"
      ],
      "execution_count": 2,
      "outputs": []
    },
    {
      "cell_type": "code",
      "metadata": {
        "id": "M3TicBv5hTio"
      },
      "source": [
        "import pandas as pd\n",
        "import numpy as np\n",
        "\n",
        "import linearmodels as lm\n",
        "from linearmodels.panel.data import PanelData\n",
        "from sklearn.linear_model import HuberRegressor\n",
        "import statsmodels.api as sm\n",
        "\n"
      ],
      "execution_count": 3,
      "outputs": []
    },
    {
      "cell_type": "code",
      "metadata": {
        "colab": {
          "base_uri": "https://localhost:8080/",
          "height": 411
        },
        "id": "-kOarx_vhnLk",
        "outputId": "a52bb985-9b28-4333-8b2d-5ac8982a8164"
      },
      "source": [
        "# read in the datasets\n",
        "env_df = pd.read_csv('/content/drive/My Drive/director-csr/env_score_dataset.csv')\n",
        "soc_df = pd.read_csv('/content/drive/My Drive/director-csr/soc_score_dataset.csv')\n",
        "env_df.drop(columns=['Unnamed: 0'], inplace=True)\n",
        "soc_df.drop(columns=['Unnamed: 0'], inplace=True)\n",
        "env_df.head()\n"
      ],
      "execution_count": 4,
      "outputs": [
        {
          "output_type": "execute_result",
          "data": {
            "text/html": [
              "<div>\n",
              "<style scoped>\n",
              "    .dataframe tbody tr th:only-of-type {\n",
              "        vertical-align: middle;\n",
              "    }\n",
              "\n",
              "    .dataframe tbody tr th {\n",
              "        vertical-align: top;\n",
              "    }\n",
              "\n",
              "    .dataframe thead th {\n",
              "        text-align: right;\n",
              "    }\n",
              "</style>\n",
              "<table border=\"1\" class=\"dataframe\">\n",
              "  <thead>\n",
              "    <tr style=\"text-align: right;\">\n",
              "      <th></th>\n",
              "      <th>ticker</th>\n",
              "      <th>comp_name</th>\n",
              "      <th>isin</th>\n",
              "      <th>env_score</th>\n",
              "      <th>year_score</th>\n",
              "      <th>independent_dirs</th>\n",
              "      <th>board_size</th>\n",
              "      <th>roa</th>\n",
              "      <th>leverage</th>\n",
              "      <th>slack</th>\n",
              "      <th>board_tenure</th>\n",
              "      <th>control_year</th>\n",
              "      <th>supersector</th>\n",
              "      <th>environmental_exp</th>\n",
              "      <th>environmental_comm_exp</th>\n",
              "      <th>ceo_duality</th>\n",
              "      <th>banks</th>\n",
              "      <th>basic resources</th>\n",
              "      <th>chemicals</th>\n",
              "      <th>construction and materials</th>\n",
              "      <th>consumer products and services</th>\n",
              "      <th>energy</th>\n",
              "      <th>financial services</th>\n",
              "      <th>food, beverage and tobacco</th>\n",
              "      <th>health care</th>\n",
              "      <th>industrial goods and services</th>\n",
              "      <th>insurance</th>\n",
              "      <th>media</th>\n",
              "      <th>personal care, drug and grocery stores</th>\n",
              "      <th>real estate</th>\n",
              "      <th>retailers</th>\n",
              "      <th>technology</th>\n",
              "      <th>telecommunications</th>\n",
              "      <th>travel and leisure</th>\n",
              "      <th>utilities</th>\n",
              "      <th>2013</th>\n",
              "      <th>2014</th>\n",
              "      <th>2015</th>\n",
              "      <th>2016</th>\n",
              "    </tr>\n",
              "  </thead>\n",
              "  <tbody>\n",
              "    <tr>\n",
              "      <th>0</th>\n",
              "      <td>mmm</td>\n",
              "      <td>3m co</td>\n",
              "      <td>us88579y1010</td>\n",
              "      <td>83.891263</td>\n",
              "      <td>2012</td>\n",
              "      <td>90.00</td>\n",
              "      <td>10.0</td>\n",
              "      <td>14.65</td>\n",
              "      <td>16.88</td>\n",
              "      <td>20.07</td>\n",
              "      <td>9.38</td>\n",
              "      <td>2011</td>\n",
              "      <td>industrial goods and services</td>\n",
              "      <td>0.400000</td>\n",
              "      <td>0.0</td>\n",
              "      <td>0</td>\n",
              "      <td>0</td>\n",
              "      <td>0</td>\n",
              "      <td>0</td>\n",
              "      <td>0</td>\n",
              "      <td>0</td>\n",
              "      <td>0</td>\n",
              "      <td>0</td>\n",
              "      <td>0</td>\n",
              "      <td>0</td>\n",
              "      <td>1</td>\n",
              "      <td>0</td>\n",
              "      <td>0</td>\n",
              "      <td>0</td>\n",
              "      <td>0</td>\n",
              "      <td>0</td>\n",
              "      <td>0</td>\n",
              "      <td>0</td>\n",
              "      <td>0</td>\n",
              "      <td>0</td>\n",
              "      <td>0</td>\n",
              "      <td>0</td>\n",
              "      <td>0</td>\n",
              "      <td>0</td>\n",
              "    </tr>\n",
              "    <tr>\n",
              "      <th>1</th>\n",
              "      <td>abt</td>\n",
              "      <td>abbott laboratories</td>\n",
              "      <td>us0028241000</td>\n",
              "      <td>52.133087</td>\n",
              "      <td>2012</td>\n",
              "      <td>88.24</td>\n",
              "      <td>13.0</td>\n",
              "      <td>9.20</td>\n",
              "      <td>25.27</td>\n",
              "      <td>23.09</td>\n",
              "      <td>8.91</td>\n",
              "      <td>2011</td>\n",
              "      <td>health care</td>\n",
              "      <td>0.461538</td>\n",
              "      <td>0.0</td>\n",
              "      <td>0</td>\n",
              "      <td>0</td>\n",
              "      <td>0</td>\n",
              "      <td>0</td>\n",
              "      <td>0</td>\n",
              "      <td>0</td>\n",
              "      <td>0</td>\n",
              "      <td>0</td>\n",
              "      <td>0</td>\n",
              "      <td>1</td>\n",
              "      <td>0</td>\n",
              "      <td>0</td>\n",
              "      <td>0</td>\n",
              "      <td>0</td>\n",
              "      <td>0</td>\n",
              "      <td>0</td>\n",
              "      <td>0</td>\n",
              "      <td>0</td>\n",
              "      <td>0</td>\n",
              "      <td>0</td>\n",
              "      <td>0</td>\n",
              "      <td>0</td>\n",
              "      <td>0</td>\n",
              "      <td>0</td>\n",
              "    </tr>\n",
              "    <tr>\n",
              "      <th>2</th>\n",
              "      <td>atvi</td>\n",
              "      <td>activision blizzard inc</td>\n",
              "      <td>us00507v1098</td>\n",
              "      <td>0.000000</td>\n",
              "      <td>2012</td>\n",
              "      <td>23.08</td>\n",
              "      <td>12.0</td>\n",
              "      <td>8.02</td>\n",
              "      <td>0.00</td>\n",
              "      <td>35.54</td>\n",
              "      <td>7.29</td>\n",
              "      <td>2011</td>\n",
              "      <td>consumer products and services</td>\n",
              "      <td>0.090909</td>\n",
              "      <td>0.0</td>\n",
              "      <td>1</td>\n",
              "      <td>0</td>\n",
              "      <td>0</td>\n",
              "      <td>0</td>\n",
              "      <td>0</td>\n",
              "      <td>1</td>\n",
              "      <td>0</td>\n",
              "      <td>0</td>\n",
              "      <td>0</td>\n",
              "      <td>0</td>\n",
              "      <td>0</td>\n",
              "      <td>0</td>\n",
              "      <td>0</td>\n",
              "      <td>0</td>\n",
              "      <td>0</td>\n",
              "      <td>0</td>\n",
              "      <td>0</td>\n",
              "      <td>0</td>\n",
              "      <td>0</td>\n",
              "      <td>0</td>\n",
              "      <td>0</td>\n",
              "      <td>0</td>\n",
              "      <td>0</td>\n",
              "      <td>0</td>\n",
              "    </tr>\n",
              "    <tr>\n",
              "      <th>3</th>\n",
              "      <td>adbe</td>\n",
              "      <td>adobe inc</td>\n",
              "      <td>us00724f1012</td>\n",
              "      <td>80.082004</td>\n",
              "      <td>2012</td>\n",
              "      <td>90.00</td>\n",
              "      <td>9.0</td>\n",
              "      <td>10.23</td>\n",
              "      <td>16.84</td>\n",
              "      <td>34.79</td>\n",
              "      <td>13.23</td>\n",
              "      <td>2011</td>\n",
              "      <td>technology</td>\n",
              "      <td>0.111111</td>\n",
              "      <td>0.0</td>\n",
              "      <td>0</td>\n",
              "      <td>0</td>\n",
              "      <td>0</td>\n",
              "      <td>0</td>\n",
              "      <td>0</td>\n",
              "      <td>0</td>\n",
              "      <td>0</td>\n",
              "      <td>0</td>\n",
              "      <td>0</td>\n",
              "      <td>0</td>\n",
              "      <td>0</td>\n",
              "      <td>0</td>\n",
              "      <td>0</td>\n",
              "      <td>0</td>\n",
              "      <td>0</td>\n",
              "      <td>0</td>\n",
              "      <td>1</td>\n",
              "      <td>0</td>\n",
              "      <td>0</td>\n",
              "      <td>0</td>\n",
              "      <td>0</td>\n",
              "      <td>0</td>\n",
              "      <td>0</td>\n",
              "      <td>0</td>\n",
              "    </tr>\n",
              "    <tr>\n",
              "      <th>4</th>\n",
              "      <td>aap</td>\n",
              "      <td>advance auto parts inc</td>\n",
              "      <td>us00751y1064</td>\n",
              "      <td>7.411255</td>\n",
              "      <td>2012</td>\n",
              "      <td>81.82</td>\n",
              "      <td>10.0</td>\n",
              "      <td>11.72</td>\n",
              "      <td>11.82</td>\n",
              "      <td>10.37</td>\n",
              "      <td>5.36</td>\n",
              "      <td>2011</td>\n",
              "      <td>retailers</td>\n",
              "      <td>0.181818</td>\n",
              "      <td>0.0</td>\n",
              "      <td>1</td>\n",
              "      <td>0</td>\n",
              "      <td>0</td>\n",
              "      <td>0</td>\n",
              "      <td>0</td>\n",
              "      <td>0</td>\n",
              "      <td>0</td>\n",
              "      <td>0</td>\n",
              "      <td>0</td>\n",
              "      <td>0</td>\n",
              "      <td>0</td>\n",
              "      <td>0</td>\n",
              "      <td>0</td>\n",
              "      <td>0</td>\n",
              "      <td>0</td>\n",
              "      <td>1</td>\n",
              "      <td>0</td>\n",
              "      <td>0</td>\n",
              "      <td>0</td>\n",
              "      <td>0</td>\n",
              "      <td>0</td>\n",
              "      <td>0</td>\n",
              "      <td>0</td>\n",
              "      <td>0</td>\n",
              "    </tr>\n",
              "  </tbody>\n",
              "</table>\n",
              "</div>"
            ],
            "text/plain": [
              "  ticker                comp_name          isin  ...  2014  2015  2016\n",
              "0    mmm                    3m co  us88579y1010  ...     0     0     0\n",
              "1    abt      abbott laboratories  us0028241000  ...     0     0     0\n",
              "2   atvi  activision blizzard inc  us00507v1098  ...     0     0     0\n",
              "3   adbe                adobe inc  us00724f1012  ...     0     0     0\n",
              "4    aap   advance auto parts inc  us00751y1064  ...     0     0     0\n",
              "\n",
              "[5 rows x 39 columns]"
            ]
          },
          "metadata": {
            "tags": []
          },
          "execution_count": 4
        }
      ]
    },
    {
      "cell_type": "code",
      "metadata": {
        "colab": {
          "base_uri": "https://localhost:8080/"
        },
        "id": "e39B6w2MJalK",
        "outputId": "007458d9-b2ed-421d-8468-cfcba46f43e7"
      },
      "source": [
        "# get the names of the industries\n",
        "industries = list(env_df['supersector'].unique())\n",
        "industries\n"
      ],
      "execution_count": 5,
      "outputs": [
        {
          "output_type": "execute_result",
          "data": {
            "text/plain": [
              "['industrial goods and services',\n",
              " 'health care',\n",
              " 'consumer products and services',\n",
              " 'technology',\n",
              " 'retailers',\n",
              " 'utilities',\n",
              " 'insurance',\n",
              " 'real estate',\n",
              " 'chemicals',\n",
              " 'financial services',\n",
              " 'food, beverage and tobacco',\n",
              " 'travel and leisure',\n",
              " 'personal care, drug and grocery stores',\n",
              " 'automobiles and parts',\n",
              " 'telecommunications',\n",
              " 'basic resources',\n",
              " 'energy',\n",
              " 'banks',\n",
              " 'media',\n",
              " 'construction and materials']"
            ]
          },
          "metadata": {
            "tags": []
          },
          "execution_count": 5
        }
      ]
    },
    {
      "cell_type": "code",
      "metadata": {
        "id": "ajysaQkkT_bu"
      },
      "source": [
        "def prep_data(df, dep_var, ind_var, effect):\n",
        "    '''\n",
        "    Function to split the data into X and y and create indices\n",
        "    to prepare for estimation\n",
        "    Args: df = dataframe\n",
        "          dep_var = str; dependent variable name\n",
        "          ind_var = str; independent variable name\n",
        "          effect = str; name of effect\n",
        "    Returns: X, y = dataframes\n",
        "    '''\n",
        "    if 'comm' in ind_var:\n",
        "        var_to_be_removed = ind_var.replace('_comm', '')\n",
        "    else:\n",
        "        var_to_be_removed = ind_var.replace('exp', '')\n",
        "        var_to_be_removed = var_to_be_removed+'comm_exp'\n",
        "\n",
        "    if effect == 'industry':\n",
        "        index_col = 'supersector'\n",
        "        effect_to_be_removed = 'ticker'\n",
        "    elif effect == 'entity':\n",
        "        index_col = 'ticker'\n",
        "        effect_to_be_removed = 'supersector'\n",
        "\n",
        "    # define the variables\n",
        "    df.rename(columns={'year_score':'time'}, inplace=True)\n",
        "    new_df = df.set_index([index_col, 'time']).copy()\n",
        "    y = new_df[[dep_var]].copy()\n",
        "    # add all columns to be dropped together\n",
        "    dummies = list(new_df.columns)[14:]\n",
        "    dummies.extend(['comp_name', 'isin', dep_var,\n",
        "                    var_to_be_removed, 'control_year'])\n",
        "    dummies.append(effect_to_be_removed)\n",
        "    X = new_df.drop(columns=dummies) \n",
        "\n",
        "    return X, y\n"
      ],
      "execution_count": 6,
      "outputs": []
    },
    {
      "cell_type": "code",
      "metadata": {
        "id": "ycZDpKetVlu1"
      },
      "source": [
        "# define X and y\n",
        "X_soc_exp, y_soc_exp = prep_data(soc_df, 'soc_score', 'social_exp', 'industry')\n",
        "# add a constant\n",
        "X_soc_exp = sm.add_constant(X_soc_exp)\n",
        "X_soc_comm, y_soc_comm = prep_data(soc_df, 'soc_score', 'social_comm_exp', 'industry')\n",
        "# add a constant\n",
        "X_soc_comm = sm.add_constant(X_soc_comm)\n",
        "X_env_exp, y_env_exp = prep_data(env_df, 'env_score', 'environmental_exp', 'industry')\n",
        "# add a constant\n",
        "X_env_exp = sm.add_constant(X_env_exp)\n",
        "X_env_comm, y_env_comm = prep_data(env_df, 'env_score', 'environmental_comm_exp', 'industry')\n",
        "# add a constant\n",
        "X_env_comm = sm.add_constant(X_env_comm)\n"
      ],
      "execution_count": 7,
      "outputs": []
    },
    {
      "cell_type": "code",
      "metadata": {
        "colab": {
          "base_uri": "https://localhost:8080/"
        },
        "id": "MCJnDqIbCK1U",
        "outputId": "2a294dce-bf35-40f5-9a17-257db99ab11f"
      },
      "source": [
        "# shapes of X and y\n",
        "print(X_env_comm.shape)\n",
        "print(y_env_comm.shape)\n"
      ],
      "execution_count": 8,
      "outputs": [
        {
          "output_type": "stream",
          "text": [
            "(2201, 9)\n",
            "(2201, 1)\n"
          ],
          "name": "stdout"
        }
      ]
    },
    {
      "cell_type": "markdown",
      "metadata": {
        "id": "-RRMP9kbixx6"
      },
      "source": [
        "An explanation of how the covariance type `clustered` is calculated by linearmodels is given here: https://github.com/bashtage/linearmodels/blob/5c2b663314d6bd337eb601afb378927468fc9a5e/linearmodels/panel/covariance.py"
      ]
    },
    {
      "cell_type": "code",
      "metadata": {
        "colab": {
          "base_uri": "https://localhost:8080/",
          "height": 741
        },
        "id": "4eN-AOWkh5Hn",
        "outputId": "e83f906f-dbe3-4b83-e10f-a51f6d4b347e"
      },
      "source": [
        "# fixed effects regression \n",
        "# time and entity\n",
        "mod = lm.PanelOLS(y_env_comm, X_env_comm, time_effects=True, entity_effects=True)\n",
        "res = mod.fit(cov_type='clustered', cluster_time=True, cluster_entity=True)\n",
        "res\n"
      ],
      "execution_count": 9,
      "outputs": [
        {
          "output_type": "execute_result",
          "data": {
            "text/html": [
              "<table class=\"simpletable\">\n",
              "<caption>PanelOLS Estimation Summary</caption>\n",
              "<tr>\n",
              "  <th>Dep. Variable:</th>        <td>env_score</td>    <th>  R-squared:         </th>     <td>0.1803</td>  \n",
              "</tr>\n",
              "<tr>\n",
              "  <th>Estimator:</th>            <td>PanelOLS</td>     <th>  R-squared (Between):</th>    <td>-0.1899</td> \n",
              "</tr>\n",
              "<tr>\n",
              "  <th>No. Observations:</th>       <td>2201</td>       <th>  R-squared (Within):</th>     <td>0.1813</td>  \n",
              "</tr>\n",
              "<tr>\n",
              "  <th>Date:</th>             <td>Thu, Apr 29 2021</td> <th>  R-squared (Overall):</th>    <td>0.1174</td>  \n",
              "</tr>\n",
              "<tr>\n",
              "  <th>Time:</th>                 <td>14:38:02</td>     <th>  Log-likelihood     </th>   <td>-1.009e+04</td>\n",
              "</tr>\n",
              "<tr>\n",
              "  <th>Cov. Estimator:</th>       <td>Clustered</td>    <th>                     </th>        <td></td>     \n",
              "</tr>\n",
              "<tr>\n",
              "  <th></th>                          <td></td>         <th>  F-statistic:       </th>     <td>59.648</td>  \n",
              "</tr>\n",
              "<tr>\n",
              "  <th>Entities:</th>                <td>20</td>        <th>  P-value            </th>     <td>0.0000</td>  \n",
              "</tr>\n",
              "<tr>\n",
              "  <th>Avg Obs:</th>               <td>110.05</td>      <th>  Distribution:      </th>    <td>F(8,2169)</td>\n",
              "</tr>\n",
              "<tr>\n",
              "  <th>Min Obs:</th>               <td>35.000</td>      <th>                     </th>        <td></td>     \n",
              "</tr>\n",
              "<tr>\n",
              "  <th>Max Obs:</th>               <td>300.00</td>      <th>  F-statistic (robust):</th>   <td>23.906</td>  \n",
              "</tr>\n",
              "<tr>\n",
              "  <th></th>                          <td></td>         <th>  P-value            </th>     <td>0.0000</td>  \n",
              "</tr>\n",
              "<tr>\n",
              "  <th>Time periods:</th>             <td>5</td>        <th>  Distribution:      </th>    <td>F(8,2169)</td>\n",
              "</tr>\n",
              "<tr>\n",
              "  <th>Avg Obs:</th>               <td>440.20</td>      <th>                     </th>        <td></td>     \n",
              "</tr>\n",
              "<tr>\n",
              "  <th>Min Obs:</th>               <td>429.00</td>      <th>                     </th>        <td></td>     \n",
              "</tr>\n",
              "<tr>\n",
              "  <th>Max Obs:</th>               <td>451.00</td>      <th>                     </th>        <td></td>     \n",
              "</tr>\n",
              "<tr>\n",
              "  <th></th>                          <td></td>         <th>                     </th>        <td></td>     \n",
              "</tr>\n",
              "</table>\n",
              "<table class=\"simpletable\">\n",
              "<caption>Parameter Estimates</caption>\n",
              "<tr>\n",
              "             <td></td>            <th>Parameter</th> <th>Std. Err.</th> <th>T-stat</th>  <th>P-value</th> <th>Lower CI</th> <th>Upper CI</th>\n",
              "</tr>\n",
              "<tr>\n",
              "  <th>const</th>                   <td>-24.091</td>   <td>11.133</td>   <td>-2.1639</td> <td>0.0306</td>   <td>-45.923</td>  <td>-2.2584</td>\n",
              "</tr>\n",
              "<tr>\n",
              "  <th>independent_dirs</th>        <td>0.5152</td>    <td>0.0959</td>   <td>5.3741</td>  <td>0.0000</td>   <td>0.3272</td>   <td>0.7031</td> \n",
              "</tr>\n",
              "<tr>\n",
              "  <th>board_size</th>              <td>3.1347</td>    <td>0.6649</td>   <td>4.7147</td>  <td>0.0000</td>   <td>1.8308</td>   <td>4.4386</td> \n",
              "</tr>\n",
              "<tr>\n",
              "  <th>roa</th>                     <td>0.1423</td>    <td>0.1253</td>   <td>1.1356</td>  <td>0.2562</td>   <td>-0.1034</td>  <td>0.3880</td> \n",
              "</tr>\n",
              "<tr>\n",
              "  <th>leverage</th>                <td>-0.0403</td>   <td>0.0700</td>   <td>-0.5757</td> <td>0.5649</td>   <td>-0.1776</td>  <td>0.0970</td> \n",
              "</tr>\n",
              "<tr>\n",
              "  <th>slack</th>                   <td>-0.2806</td>   <td>0.0924</td>   <td>-3.0370</td> <td>0.0024</td>   <td>-0.4618</td>  <td>-0.0994</td>\n",
              "</tr>\n",
              "<tr>\n",
              "  <th>board_tenure</th>            <td>-0.2136</td>   <td>0.3330</td>   <td>-0.6413</td> <td>0.5214</td>   <td>-0.8666</td>  <td>0.4395</td> \n",
              "</tr>\n",
              "<tr>\n",
              "  <th>environmental_comm_exp</th>  <td>38.997</td>    <td>11.832</td>   <td>3.2959</td>  <td>0.0010</td>   <td>15.794</td>   <td>62.200</td> \n",
              "</tr>\n",
              "<tr>\n",
              "  <th>ceo_duality</th>             <td>-5.0408</td>   <td>1.9273</td>   <td>-2.6155</td> <td>0.0090</td>   <td>-8.8203</td>  <td>-1.2612</td>\n",
              "</tr>\n",
              "</table><br/><br/>F-test for Poolability: 18.142<br/>P-value: 0.0000<br/>Distribution: F(23,2169)<br/><br/>Included effects: Entity, Time<br/>id: 0x7fd8c2b02050"
            ],
            "text/plain": [
              "                          PanelOLS Estimation Summary                           \n",
              "================================================================================\n",
              "Dep. Variable:              env_score   R-squared:                        0.1803\n",
              "Estimator:                   PanelOLS   R-squared (Between):             -0.1899\n",
              "No. Observations:                2201   R-squared (Within):               0.1813\n",
              "Date:                Thu, Apr 29 2021   R-squared (Overall):              0.1174\n",
              "Time:                        14:38:02   Log-likelihood                -1.009e+04\n",
              "Cov. Estimator:             Clustered                                           \n",
              "                                        F-statistic:                      59.648\n",
              "Entities:                          20   P-value                           0.0000\n",
              "Avg Obs:                       110.05   Distribution:                  F(8,2169)\n",
              "Min Obs:                       35.000                                           \n",
              "Max Obs:                       300.00   F-statistic (robust):             23.906\n",
              "                                        P-value                           0.0000\n",
              "Time periods:                       5   Distribution:                  F(8,2169)\n",
              "Avg Obs:                       440.20                                           \n",
              "Min Obs:                       429.00                                           \n",
              "Max Obs:                       451.00                                           \n",
              "                                                                                \n",
              "                                   Parameter Estimates                                    \n",
              "==========================================================================================\n",
              "                        Parameter  Std. Err.     T-stat    P-value    Lower CI    Upper CI\n",
              "------------------------------------------------------------------------------------------\n",
              "const                     -24.091     11.133    -2.1639     0.0306     -45.923     -2.2584\n",
              "independent_dirs           0.5152     0.0959     5.3741     0.0000      0.3272      0.7031\n",
              "board_size                 3.1347     0.6649     4.7147     0.0000      1.8308      4.4386\n",
              "roa                        0.1423     0.1253     1.1356     0.2562     -0.1034      0.3880\n",
              "leverage                  -0.0403     0.0700    -0.5757     0.5649     -0.1776      0.0970\n",
              "slack                     -0.2806     0.0924    -3.0370     0.0024     -0.4618     -0.0994\n",
              "board_tenure              -0.2136     0.3330    -0.6413     0.5214     -0.8666      0.4395\n",
              "environmental_comm_exp     38.997     11.832     3.2959     0.0010      15.794      62.200\n",
              "ceo_duality               -5.0408     1.9273    -2.6155     0.0090     -8.8203     -1.2612\n",
              "==========================================================================================\n",
              "\n",
              "F-test for Poolability: 18.142\n",
              "P-value: 0.0000\n",
              "Distribution: F(23,2169)\n",
              "\n",
              "Included effects: Entity, Time\n",
              "PanelEffectsResults, id: 0x7fd8c2b02050"
            ]
          },
          "metadata": {
            "tags": []
          },
          "execution_count": 9
        }
      ]
    },
    {
      "cell_type": "code",
      "metadata": {
        "colab": {
          "base_uri": "https://localhost:8080/"
        },
        "id": "Ko_BTMDbBQAe",
        "outputId": "754ef873-6f2a-45ec-eec0-9da6c5926423"
      },
      "source": [
        "# calculate the adjusted \n",
        "r2 = res.rsquared_within\n",
        "\n",
        "adjusted_r2 = (1 - (1 - r2))*((X_env_comm.shape[0] - 1) / (X_env_comm.shape[0] - (X_env_comm.shape[1]-1) -1))\n",
        "adjusted_r2\n"
      ],
      "execution_count": 10,
      "outputs": [
        {
          "output_type": "execute_result",
          "data": {
            "text/plain": [
              "0.18192336269500148"
            ]
          },
          "metadata": {
            "tags": []
          },
          "execution_count": 10
        }
      ]
    },
    {
      "cell_type": "code",
      "metadata": {
        "colab": {
          "base_uri": "https://localhost:8080/",
          "height": 741
        },
        "id": "1H1nePlc_7nW",
        "outputId": "ee896677-a59b-4c83-f5ea-7fed2113245b"
      },
      "source": [
        "# fixed effects regression \n",
        "# time and entity\n",
        "mod = lm.PanelOLS(y_env_exp, X_env_exp, time_effects=True, entity_effects=True)\n",
        "res = mod.fit(cov_type='clustered', cluster_time=True, cluster_entity=True)\n",
        "res\n"
      ],
      "execution_count": 11,
      "outputs": [
        {
          "output_type": "execute_result",
          "data": {
            "text/html": [
              "<table class=\"simpletable\">\n",
              "<caption>PanelOLS Estimation Summary</caption>\n",
              "<tr>\n",
              "  <th>Dep. Variable:</th>        <td>env_score</td>    <th>  R-squared:         </th>     <td>0.1648</td>  \n",
              "</tr>\n",
              "<tr>\n",
              "  <th>Estimator:</th>            <td>PanelOLS</td>     <th>  R-squared (Between):</th>    <td>-0.3203</td> \n",
              "</tr>\n",
              "<tr>\n",
              "  <th>No. Observations:</th>       <td>2201</td>       <th>  R-squared (Within):</th>     <td>0.1653</td>  \n",
              "</tr>\n",
              "<tr>\n",
              "  <th>Date:</th>             <td>Thu, Apr 29 2021</td> <th>  R-squared (Overall):</th>    <td>0.0849</td>  \n",
              "</tr>\n",
              "<tr>\n",
              "  <th>Time:</th>                 <td>14:38:03</td>     <th>  Log-likelihood     </th>   <td>-1.011e+04</td>\n",
              "</tr>\n",
              "<tr>\n",
              "  <th>Cov. Estimator:</th>       <td>Clustered</td>    <th>                     </th>        <td></td>     \n",
              "</tr>\n",
              "<tr>\n",
              "  <th></th>                          <td></td>         <th>  F-statistic:       </th>     <td>53.485</td>  \n",
              "</tr>\n",
              "<tr>\n",
              "  <th>Entities:</th>                <td>20</td>        <th>  P-value            </th>     <td>0.0000</td>  \n",
              "</tr>\n",
              "<tr>\n",
              "  <th>Avg Obs:</th>               <td>110.05</td>      <th>  Distribution:      </th>    <td>F(8,2169)</td>\n",
              "</tr>\n",
              "<tr>\n",
              "  <th>Min Obs:</th>               <td>35.000</td>      <th>                     </th>        <td></td>     \n",
              "</tr>\n",
              "<tr>\n",
              "  <th>Max Obs:</th>               <td>300.00</td>      <th>  F-statistic (robust):</th>   <td>21.372</td>  \n",
              "</tr>\n",
              "<tr>\n",
              "  <th></th>                          <td></td>         <th>  P-value            </th>     <td>0.0000</td>  \n",
              "</tr>\n",
              "<tr>\n",
              "  <th>Time periods:</th>             <td>5</td>        <th>  Distribution:      </th>    <td>F(8,2169)</td>\n",
              "</tr>\n",
              "<tr>\n",
              "  <th>Avg Obs:</th>               <td>440.20</td>      <th>                     </th>        <td></td>     \n",
              "</tr>\n",
              "<tr>\n",
              "  <th>Min Obs:</th>               <td>429.00</td>      <th>                     </th>        <td></td>     \n",
              "</tr>\n",
              "<tr>\n",
              "  <th>Max Obs:</th>               <td>451.00</td>      <th>                     </th>        <td></td>     \n",
              "</tr>\n",
              "<tr>\n",
              "  <th></th>                          <td></td>         <th>                     </th>        <td></td>     \n",
              "</tr>\n",
              "</table>\n",
              "<table class=\"simpletable\">\n",
              "<caption>Parameter Estimates</caption>\n",
              "<tr>\n",
              "          <td></td>          <th>Parameter</th> <th>Std. Err.</th> <th>T-stat</th>  <th>P-value</th> <th>Lower CI</th> <th>Upper CI</th>\n",
              "</tr>\n",
              "<tr>\n",
              "  <th>const</th>              <td>-28.111</td>   <td>10.629</td>   <td>-2.6447</td> <td>0.0082</td>   <td>-48.956</td>  <td>-7.2663</td>\n",
              "</tr>\n",
              "<tr>\n",
              "  <th>independent_dirs</th>   <td>0.5261</td>    <td>0.0902</td>   <td>5.8328</td>  <td>0.0000</td>   <td>0.3492</td>   <td>0.7030</td> \n",
              "</tr>\n",
              "<tr>\n",
              "  <th>board_size</th>         <td>3.2760</td>    <td>0.6501</td>   <td>5.0394</td>  <td>0.0000</td>   <td>2.0012</td>   <td>4.5508</td> \n",
              "</tr>\n",
              "<tr>\n",
              "  <th>roa</th>                <td>0.1420</td>    <td>0.1256</td>   <td>1.1311</td>  <td>0.2581</td>   <td>-0.1042</td>  <td>0.3883</td> \n",
              "</tr>\n",
              "<tr>\n",
              "  <th>leverage</th>           <td>-0.0432</td>   <td>0.0701</td>   <td>-0.6156</td> <td>0.5382</td>   <td>-0.1807</td>  <td>0.0944</td> \n",
              "</tr>\n",
              "<tr>\n",
              "  <th>slack</th>              <td>-0.2948</td>   <td>0.0958</td>   <td>-3.0762</td> <td>0.0021</td>   <td>-0.4827</td>  <td>-0.1069</td>\n",
              "</tr>\n",
              "<tr>\n",
              "  <th>board_tenure</th>       <td>-0.2234</td>   <td>0.3375</td>   <td>-0.6619</td> <td>0.5081</td>   <td>-0.8853</td>  <td>0.4385</td> \n",
              "</tr>\n",
              "<tr>\n",
              "  <th>environmental_exp</th>  <td>18.163</td>    <td>6.4685</td>   <td>2.8079</td>  <td>0.0050</td>   <td>5.4775</td>   <td>30.848</td> \n",
              "</tr>\n",
              "<tr>\n",
              "  <th>ceo_duality</th>        <td>-4.0083</td>   <td>2.0397</td>   <td>-1.9651</td> <td>0.0495</td>   <td>-8.0082</td>  <td>-0.0083</td>\n",
              "</tr>\n",
              "</table><br/><br/>F-test for Poolability: 19.816<br/>P-value: 0.0000<br/>Distribution: F(23,2169)<br/><br/>Included effects: Entity, Time<br/>id: 0x7fd8c280cf10"
            ],
            "text/plain": [
              "                          PanelOLS Estimation Summary                           \n",
              "================================================================================\n",
              "Dep. Variable:              env_score   R-squared:                        0.1648\n",
              "Estimator:                   PanelOLS   R-squared (Between):             -0.3203\n",
              "No. Observations:                2201   R-squared (Within):               0.1653\n",
              "Date:                Thu, Apr 29 2021   R-squared (Overall):              0.0849\n",
              "Time:                        14:38:03   Log-likelihood                -1.011e+04\n",
              "Cov. Estimator:             Clustered                                           \n",
              "                                        F-statistic:                      53.485\n",
              "Entities:                          20   P-value                           0.0000\n",
              "Avg Obs:                       110.05   Distribution:                  F(8,2169)\n",
              "Min Obs:                       35.000                                           \n",
              "Max Obs:                       300.00   F-statistic (robust):             21.372\n",
              "                                        P-value                           0.0000\n",
              "Time periods:                       5   Distribution:                  F(8,2169)\n",
              "Avg Obs:                       440.20                                           \n",
              "Min Obs:                       429.00                                           \n",
              "Max Obs:                       451.00                                           \n",
              "                                                                                \n",
              "                                 Parameter Estimates                                 \n",
              "=====================================================================================\n",
              "                   Parameter  Std. Err.     T-stat    P-value    Lower CI    Upper CI\n",
              "-------------------------------------------------------------------------------------\n",
              "const                -28.111     10.629    -2.6447     0.0082     -48.956     -7.2663\n",
              "independent_dirs      0.5261     0.0902     5.8328     0.0000      0.3492      0.7030\n",
              "board_size            3.2760     0.6501     5.0394     0.0000      2.0012      4.5508\n",
              "roa                   0.1420     0.1256     1.1311     0.2581     -0.1042      0.3883\n",
              "leverage             -0.0432     0.0701    -0.6156     0.5382     -0.1807      0.0944\n",
              "slack                -0.2948     0.0958    -3.0762     0.0021     -0.4827     -0.1069\n",
              "board_tenure         -0.2234     0.3375    -0.6619     0.5081     -0.8853      0.4385\n",
              "environmental_exp     18.163     6.4685     2.8079     0.0050      5.4775      30.848\n",
              "ceo_duality          -4.0083     2.0397    -1.9651     0.0495     -8.0082     -0.0083\n",
              "=====================================================================================\n",
              "\n",
              "F-test for Poolability: 19.816\n",
              "P-value: 0.0000\n",
              "Distribution: F(23,2169)\n",
              "\n",
              "Included effects: Entity, Time\n",
              "PanelEffectsResults, id: 0x7fd8c280cf10"
            ]
          },
          "metadata": {
            "tags": []
          },
          "execution_count": 11
        }
      ]
    },
    {
      "cell_type": "code",
      "metadata": {
        "colab": {
          "base_uri": "https://localhost:8080/"
        },
        "id": "7a4MC3QIDQb2",
        "outputId": "559c9d01-26af-4709-80f7-cce15cceb1e4"
      },
      "source": [
        "# calculate the adjusted \n",
        "r2 = res.rsquared_within\n",
        "\n",
        "adjusted_r2 = (1 - (1 - r2))*((X_env_exp.shape[0] - 1) / (X_env_exp.shape[0] - (X_env_exp.shape[1]-1) -1))\n",
        "adjusted_r2\n"
      ],
      "execution_count": 12,
      "outputs": [
        {
          "output_type": "execute_result",
          "data": {
            "text/plain": [
              "0.16595216537008417"
            ]
          },
          "metadata": {
            "tags": []
          },
          "execution_count": 12
        }
      ]
    },
    {
      "cell_type": "code",
      "metadata": {
        "colab": {
          "base_uri": "https://localhost:8080/",
          "height": 741
        },
        "id": "KoKH9SEPy5ah",
        "outputId": "4189230b-c38d-441a-90e3-bd669e07c2b4"
      },
      "source": [
        "# fixed effects regression \n",
        "# time and entity\n",
        "mod = lm.PanelOLS(y_soc_exp, X_soc_exp, time_effects=True, entity_effects=True)\n",
        "res = mod.fit(cov_type='clustered', cluster_time=True, cluster_entity=True)\n",
        "res\n"
      ],
      "execution_count": 13,
      "outputs": [
        {
          "output_type": "execute_result",
          "data": {
            "text/html": [
              "<table class=\"simpletable\">\n",
              "<caption>PanelOLS Estimation Summary</caption>\n",
              "<tr>\n",
              "  <th>Dep. Variable:</th>        <td>soc_score</td>    <th>  R-squared:         </th>    <td>0.1881</td>  \n",
              "</tr>\n",
              "<tr>\n",
              "  <th>Estimator:</th>            <td>PanelOLS</td>     <th>  R-squared (Between):</th>   <td>-0.1703</td> \n",
              "</tr>\n",
              "<tr>\n",
              "  <th>No. Observations:</th>       <td>2201</td>       <th>  R-squared (Within):</th>    <td>0.1874</td>  \n",
              "</tr>\n",
              "<tr>\n",
              "  <th>Date:</th>             <td>Thu, Apr 29 2021</td> <th>  R-squared (Overall):</th>   <td>0.1323</td>  \n",
              "</tr>\n",
              "<tr>\n",
              "  <th>Time:</th>                 <td>14:38:03</td>     <th>  Log-likelihood     </th>    <td>-9377.4</td> \n",
              "</tr>\n",
              "<tr>\n",
              "  <th>Cov. Estimator:</th>       <td>Clustered</td>    <th>                     </th>       <td></td>     \n",
              "</tr>\n",
              "<tr>\n",
              "  <th></th>                          <td></td>         <th>  F-statistic:       </th>    <td>62.833</td>  \n",
              "</tr>\n",
              "<tr>\n",
              "  <th>Entities:</th>                <td>20</td>        <th>  P-value            </th>    <td>0.0000</td>  \n",
              "</tr>\n",
              "<tr>\n",
              "  <th>Avg Obs:</th>               <td>110.05</td>      <th>  Distribution:      </th>   <td>F(8,2169)</td>\n",
              "</tr>\n",
              "<tr>\n",
              "  <th>Min Obs:</th>               <td>35.000</td>      <th>                     </th>       <td></td>     \n",
              "</tr>\n",
              "<tr>\n",
              "  <th>Max Obs:</th>               <td>300.00</td>      <th>  F-statistic (robust):</th>  <td>28.770</td>  \n",
              "</tr>\n",
              "<tr>\n",
              "  <th></th>                          <td></td>         <th>  P-value            </th>    <td>0.0000</td>  \n",
              "</tr>\n",
              "<tr>\n",
              "  <th>Time periods:</th>             <td>5</td>        <th>  Distribution:      </th>   <td>F(8,2169)</td>\n",
              "</tr>\n",
              "<tr>\n",
              "  <th>Avg Obs:</th>               <td>440.20</td>      <th>                     </th>       <td></td>     \n",
              "</tr>\n",
              "<tr>\n",
              "  <th>Min Obs:</th>               <td>429.00</td>      <th>                     </th>       <td></td>     \n",
              "</tr>\n",
              "<tr>\n",
              "  <th>Max Obs:</th>               <td>451.00</td>      <th>                     </th>       <td></td>     \n",
              "</tr>\n",
              "<tr>\n",
              "  <th></th>                          <td></td>         <th>                     </th>       <td></td>     \n",
              "</tr>\n",
              "</table>\n",
              "<table class=\"simpletable\">\n",
              "<caption>Parameter Estimates</caption>\n",
              "<tr>\n",
              "          <td></td>         <th>Parameter</th> <th>Std. Err.</th> <th>T-stat</th>  <th>P-value</th> <th>Lower CI</th> <th>Upper CI</th>\n",
              "</tr>\n",
              "<tr>\n",
              "  <th>const</th>             <td>-3.5981</td>   <td>6.8497</td>   <td>-0.5253</td> <td>0.5994</td>   <td>-17.031</td>  <td>9.8346</td> \n",
              "</tr>\n",
              "<tr>\n",
              "  <th>independent_dirs</th>  <td>0.4488</td>    <td>0.0645</td>   <td>6.9595</td>  <td>0.0000</td>   <td>0.3223</td>   <td>0.5753</td> \n",
              "</tr>\n",
              "<tr>\n",
              "  <th>board_size</th>        <td>2.0490</td>    <td>0.3018</td>   <td>6.7904</td>  <td>0.0000</td>   <td>1.4573</td>   <td>2.6408</td> \n",
              "</tr>\n",
              "<tr>\n",
              "  <th>roa</th>               <td>0.1896</td>    <td>0.0940</td>   <td>2.0172</td>  <td>0.0438</td>   <td>0.0053</td>   <td>0.3740</td> \n",
              "</tr>\n",
              "<tr>\n",
              "  <th>leverage</th>          <td>-0.0120</td>   <td>0.0556</td>   <td>-0.2151</td> <td>0.8297</td>   <td>-0.1210</td>  <td>0.0971</td> \n",
              "</tr>\n",
              "<tr>\n",
              "  <th>slack</th>             <td>-0.1657</td>   <td>0.0654</td>   <td>-2.5326</td> <td>0.0114</td>   <td>-0.2941</td>  <td>-0.0374</td>\n",
              "</tr>\n",
              "<tr>\n",
              "  <th>board_tenure</th>      <td>-0.3523</td>   <td>0.1733</td>   <td>-2.0325</td> <td>0.0422</td>   <td>-0.6923</td>  <td>-0.0124</td>\n",
              "</tr>\n",
              "<tr>\n",
              "  <th>social_exp</th>        <td>17.966</td>    <td>3.8292</td>   <td>4.6919</td>  <td>0.0000</td>   <td>10.457</td>   <td>25.475</td> \n",
              "</tr>\n",
              "<tr>\n",
              "  <th>ceo_duality</th>       <td>-2.8959</td>   <td>1.4486</td>   <td>-1.9991</td> <td>0.0457</td>   <td>-5.7366</td>  <td>-0.0552</td>\n",
              "</tr>\n",
              "</table><br/><br/>F-test for Poolability: 15.344<br/>P-value: 0.0000<br/>Distribution: F(23,2169)<br/><br/>Included effects: Entity, Time<br/>id: 0x7fd8b774ab10"
            ],
            "text/plain": [
              "                          PanelOLS Estimation Summary                           \n",
              "================================================================================\n",
              "Dep. Variable:              soc_score   R-squared:                        0.1881\n",
              "Estimator:                   PanelOLS   R-squared (Between):             -0.1703\n",
              "No. Observations:                2201   R-squared (Within):               0.1874\n",
              "Date:                Thu, Apr 29 2021   R-squared (Overall):              0.1323\n",
              "Time:                        14:38:03   Log-likelihood                   -9377.4\n",
              "Cov. Estimator:             Clustered                                           \n",
              "                                        F-statistic:                      62.833\n",
              "Entities:                          20   P-value                           0.0000\n",
              "Avg Obs:                       110.05   Distribution:                  F(8,2169)\n",
              "Min Obs:                       35.000                                           \n",
              "Max Obs:                       300.00   F-statistic (robust):             28.770\n",
              "                                        P-value                           0.0000\n",
              "Time periods:                       5   Distribution:                  F(8,2169)\n",
              "Avg Obs:                       440.20                                           \n",
              "Min Obs:                       429.00                                           \n",
              "Max Obs:                       451.00                                           \n",
              "                                                                                \n",
              "                                Parameter Estimates                                 \n",
              "====================================================================================\n",
              "                  Parameter  Std. Err.     T-stat    P-value    Lower CI    Upper CI\n",
              "------------------------------------------------------------------------------------\n",
              "const               -3.5981     6.8497    -0.5253     0.5994     -17.031      9.8346\n",
              "independent_dirs     0.4488     0.0645     6.9595     0.0000      0.3223      0.5753\n",
              "board_size           2.0490     0.3018     6.7904     0.0000      1.4573      2.6408\n",
              "roa                  0.1896     0.0940     2.0172     0.0438      0.0053      0.3740\n",
              "leverage            -0.0120     0.0556    -0.2151     0.8297     -0.1210      0.0971\n",
              "slack               -0.1657     0.0654    -2.5326     0.0114     -0.2941     -0.0374\n",
              "board_tenure        -0.3523     0.1733    -2.0325     0.0422     -0.6923     -0.0124\n",
              "social_exp           17.966     3.8292     4.6919     0.0000      10.457      25.475\n",
              "ceo_duality         -2.8959     1.4486    -1.9991     0.0457     -5.7366     -0.0552\n",
              "====================================================================================\n",
              "\n",
              "F-test for Poolability: 15.344\n",
              "P-value: 0.0000\n",
              "Distribution: F(23,2169)\n",
              "\n",
              "Included effects: Entity, Time\n",
              "PanelEffectsResults, id: 0x7fd8b774ab10"
            ]
          },
          "metadata": {
            "tags": []
          },
          "execution_count": 13
        }
      ]
    },
    {
      "cell_type": "code",
      "metadata": {
        "colab": {
          "base_uri": "https://localhost:8080/"
        },
        "id": "VOVPlUtMDWBW",
        "outputId": "9e8ca2a3-92f4-47a9-8307-351679e8158d"
      },
      "source": [
        "# calculate the adjusted \n",
        "r2 = res.rsquared_within\n",
        "\n",
        "adjusted_r2 = (1 - (1 - r2))*((X_soc_exp.shape[0] - 1) / (X_soc_exp.shape[0] - (X_soc_exp.shape[1]-1) -1))\n",
        "adjusted_r2\n"
      ],
      "execution_count": 14,
      "outputs": [
        {
          "output_type": "execute_result",
          "data": {
            "text/plain": [
              "0.18812297005401551"
            ]
          },
          "metadata": {
            "tags": []
          },
          "execution_count": 14
        }
      ]
    },
    {
      "cell_type": "code",
      "metadata": {
        "colab": {
          "base_uri": "https://localhost:8080/",
          "height": 741
        },
        "id": "BWVYZNLEz5gg",
        "outputId": "8cc17de8-5bb7-44c3-d4f4-e8d6afc9fd36"
      },
      "source": [
        "# fixed effects regression \n",
        "# time and entity\n",
        "mod = lm.PanelOLS(y_soc_comm, X_soc_comm, time_effects=True, entity_effects=True)\n",
        "res = mod.fit(cov_type='clustered', cluster_time=True, cluster_entity=True)\n",
        "res\n"
      ],
      "execution_count": 15,
      "outputs": [
        {
          "output_type": "execute_result",
          "data": {
            "text/html": [
              "<table class=\"simpletable\">\n",
              "<caption>PanelOLS Estimation Summary</caption>\n",
              "<tr>\n",
              "  <th>Dep. Variable:</th>        <td>soc_score</td>    <th>  R-squared:         </th>    <td>0.2070</td>  \n",
              "</tr>\n",
              "<tr>\n",
              "  <th>Estimator:</th>            <td>PanelOLS</td>     <th>  R-squared (Between):</th>   <td>-0.1166</td> \n",
              "</tr>\n",
              "<tr>\n",
              "  <th>No. Observations:</th>       <td>2201</td>       <th>  R-squared (Within):</th>    <td>0.2066</td>  \n",
              "</tr>\n",
              "<tr>\n",
              "  <th>Date:</th>             <td>Thu, Apr 29 2021</td> <th>  R-squared (Overall):</th>   <td>0.1582</td>  \n",
              "</tr>\n",
              "<tr>\n",
              "  <th>Time:</th>                 <td>14:38:03</td>     <th>  Log-likelihood     </th>    <td>-9351.4</td> \n",
              "</tr>\n",
              "<tr>\n",
              "  <th>Cov. Estimator:</th>       <td>Clustered</td>    <th>                     </th>       <td></td>     \n",
              "</tr>\n",
              "<tr>\n",
              "  <th></th>                          <td></td>         <th>  F-statistic:       </th>    <td>70.792</td>  \n",
              "</tr>\n",
              "<tr>\n",
              "  <th>Entities:</th>                <td>20</td>        <th>  P-value            </th>    <td>0.0000</td>  \n",
              "</tr>\n",
              "<tr>\n",
              "  <th>Avg Obs:</th>               <td>110.05</td>      <th>  Distribution:      </th>   <td>F(8,2169)</td>\n",
              "</tr>\n",
              "<tr>\n",
              "  <th>Min Obs:</th>               <td>35.000</td>      <th>                     </th>       <td></td>     \n",
              "</tr>\n",
              "<tr>\n",
              "  <th>Max Obs:</th>               <td>300.00</td>      <th>  F-statistic (robust):</th>  <td>35.838</td>  \n",
              "</tr>\n",
              "<tr>\n",
              "  <th></th>                          <td></td>         <th>  P-value            </th>    <td>0.0000</td>  \n",
              "</tr>\n",
              "<tr>\n",
              "  <th>Time periods:</th>             <td>5</td>        <th>  Distribution:      </th>   <td>F(8,2169)</td>\n",
              "</tr>\n",
              "<tr>\n",
              "  <th>Avg Obs:</th>               <td>440.20</td>      <th>                     </th>       <td></td>     \n",
              "</tr>\n",
              "<tr>\n",
              "  <th>Min Obs:</th>               <td>429.00</td>      <th>                     </th>       <td></td>     \n",
              "</tr>\n",
              "<tr>\n",
              "  <th>Max Obs:</th>               <td>451.00</td>      <th>                     </th>       <td></td>     \n",
              "</tr>\n",
              "<tr>\n",
              "  <th></th>                          <td></td>         <th>                     </th>       <td></td>     \n",
              "</tr>\n",
              "</table>\n",
              "<table class=\"simpletable\">\n",
              "<caption>Parameter Estimates</caption>\n",
              "<tr>\n",
              "          <td></td>         <th>Parameter</th> <th>Std. Err.</th> <th>T-stat</th>  <th>P-value</th> <th>Lower CI</th> <th>Upper CI</th>\n",
              "</tr>\n",
              "<tr>\n",
              "  <th>const</th>             <td>2.1283</td>    <td>7.1177</td>   <td>0.2990</td>  <td>0.7650</td>   <td>-11.830</td>  <td>16.087</td> \n",
              "</tr>\n",
              "<tr>\n",
              "  <th>independent_dirs</th>  <td>0.4346</td>    <td>0.0625</td>   <td>6.9574</td>  <td>0.0000</td>   <td>0.3121</td>   <td>0.5571</td> \n",
              "</tr>\n",
              "<tr>\n",
              "  <th>board_size</th>        <td>1.9678</td>    <td>0.3315</td>   <td>5.9356</td>  <td>0.0000</td>   <td>1.3177</td>   <td>2.6180</td> \n",
              "</tr>\n",
              "<tr>\n",
              "  <th>roa</th>               <td>0.2002</td>    <td>0.0876</td>   <td>2.2866</td>  <td>0.0223</td>   <td>0.0285</td>   <td>0.3719</td> \n",
              "</tr>\n",
              "<tr>\n",
              "  <th>leverage</th>          <td>-0.0145</td>   <td>0.0546</td>   <td>-0.2655</td> <td>0.7907</td>   <td>-0.1215</td>  <td>0.0925</td> \n",
              "</tr>\n",
              "<tr>\n",
              "  <th>slack</th>             <td>-0.1525</td>   <td>0.0652</td>   <td>-2.3372</td> <td>0.0195</td>   <td>-0.2804</td>  <td>-0.0245</td>\n",
              "</tr>\n",
              "<tr>\n",
              "  <th>board_tenure</th>      <td>-0.3758</td>   <td>0.1724</td>   <td>-2.1797</td> <td>0.0294</td>   <td>-0.7140</td>  <td>-0.0377</td>\n",
              "</tr>\n",
              "<tr>\n",
              "  <th>social_comm_exp</th>   <td>28.069</td>    <td>4.8337</td>   <td>5.8068</td>  <td>0.0000</td>   <td>18.589</td>   <td>37.548</td> \n",
              "</tr>\n",
              "<tr>\n",
              "  <th>ceo_duality</th>       <td>-3.6763</td>   <td>1.3072</td>   <td>-2.8123</td> <td>0.0050</td>   <td>-6.2399</td>  <td>-1.1128</td>\n",
              "</tr>\n",
              "</table><br/><br/>F-test for Poolability: 14.989<br/>P-value: 0.0000<br/>Distribution: F(23,2169)<br/><br/>Included effects: Entity, Time<br/>id: 0x7fd8b777ff90"
            ],
            "text/plain": [
              "                          PanelOLS Estimation Summary                           \n",
              "================================================================================\n",
              "Dep. Variable:              soc_score   R-squared:                        0.2070\n",
              "Estimator:                   PanelOLS   R-squared (Between):             -0.1166\n",
              "No. Observations:                2201   R-squared (Within):               0.2066\n",
              "Date:                Thu, Apr 29 2021   R-squared (Overall):              0.1582\n",
              "Time:                        14:38:03   Log-likelihood                   -9351.4\n",
              "Cov. Estimator:             Clustered                                           \n",
              "                                        F-statistic:                      70.792\n",
              "Entities:                          20   P-value                           0.0000\n",
              "Avg Obs:                       110.05   Distribution:                  F(8,2169)\n",
              "Min Obs:                       35.000                                           \n",
              "Max Obs:                       300.00   F-statistic (robust):             35.838\n",
              "                                        P-value                           0.0000\n",
              "Time periods:                       5   Distribution:                  F(8,2169)\n",
              "Avg Obs:                       440.20                                           \n",
              "Min Obs:                       429.00                                           \n",
              "Max Obs:                       451.00                                           \n",
              "                                                                                \n",
              "                                Parameter Estimates                                 \n",
              "====================================================================================\n",
              "                  Parameter  Std. Err.     T-stat    P-value    Lower CI    Upper CI\n",
              "------------------------------------------------------------------------------------\n",
              "const                2.1283     7.1177     0.2990     0.7650     -11.830      16.087\n",
              "independent_dirs     0.4346     0.0625     6.9574     0.0000      0.3121      0.5571\n",
              "board_size           1.9678     0.3315     5.9356     0.0000      1.3177      2.6180\n",
              "roa                  0.2002     0.0876     2.2866     0.0223      0.0285      0.3719\n",
              "leverage            -0.0145     0.0546    -0.2655     0.7907     -0.1215      0.0925\n",
              "slack               -0.1525     0.0652    -2.3372     0.0195     -0.2804     -0.0245\n",
              "board_tenure        -0.3758     0.1724    -2.1797     0.0294     -0.7140     -0.0377\n",
              "social_comm_exp      28.069     4.8337     5.8068     0.0000      18.589      37.548\n",
              "ceo_duality         -3.6763     1.3072    -2.8123     0.0050     -6.2399     -1.1128\n",
              "====================================================================================\n",
              "\n",
              "F-test for Poolability: 14.989\n",
              "P-value: 0.0000\n",
              "Distribution: F(23,2169)\n",
              "\n",
              "Included effects: Entity, Time\n",
              "PanelEffectsResults, id: 0x7fd8b777ff90"
            ]
          },
          "metadata": {
            "tags": []
          },
          "execution_count": 15
        }
      ]
    },
    {
      "cell_type": "code",
      "metadata": {
        "colab": {
          "base_uri": "https://localhost:8080/"
        },
        "id": "gY5qUvnSDbF2",
        "outputId": "9d6d72cf-dbbf-4a59-b474-b0640cdb3aef"
      },
      "source": [
        "# calculate the adjusted \n",
        "r2 = res.rsquared_within\n",
        "\n",
        "adjusted_r2 = (1 - (1 - r2))*((X_soc_comm.shape[0] - 1) / (X_soc_comm.shape[0] - (X_soc_comm.shape[1]-1) - 1))\n",
        "adjusted_r2\n"
      ],
      "execution_count": 16,
      "outputs": [
        {
          "output_type": "execute_result",
          "data": {
            "text/plain": [
              "0.2073961000641916"
            ]
          },
          "metadata": {
            "tags": []
          },
          "execution_count": 16
        }
      ]
    },
    {
      "cell_type": "markdown",
      "metadata": {
        "id": "M2gyemcRz6eP"
      },
      "source": [
        "# Robustness check\n",
        "\n"
      ]
    },
    {
      "cell_type": "markdown",
      "metadata": {
        "id": "-ticMCqYM4b0"
      },
      "source": [
        "## Removed outliers\n",
        "\n",
        "Outliers were truncated at the 1st and 99th percentile"
      ]
    },
    {
      "cell_type": "code",
      "metadata": {
        "colab": {
          "base_uri": "https://localhost:8080/",
          "height": 204
        },
        "id": "U4j6sIM6SXT1",
        "outputId": "a8394517-c834-40fd-b1c7-5a85d1609a42"
      },
      "source": [
        "# read in the datasets without outliers\n",
        "env_df = pd.read_csv('/content/drive/My Drive/director-csr/no_outliers_env.csv')\n",
        "soc_df = pd.read_csv('/content/drive/My Drive/director-csr/no_outliers_soc.csv')\n",
        "env_df.drop(columns=['Unnamed: 0'], inplace=True)\n",
        "soc_df.drop(columns=['Unnamed: 0'], inplace=True)\n",
        "env_df.head()\n"
      ],
      "execution_count": 17,
      "outputs": [
        {
          "output_type": "execute_result",
          "data": {
            "text/html": [
              "<div>\n",
              "<style scoped>\n",
              "    .dataframe tbody tr th:only-of-type {\n",
              "        vertical-align: middle;\n",
              "    }\n",
              "\n",
              "    .dataframe tbody tr th {\n",
              "        vertical-align: top;\n",
              "    }\n",
              "\n",
              "    .dataframe thead th {\n",
              "        text-align: right;\n",
              "    }\n",
              "</style>\n",
              "<table border=\"1\" class=\"dataframe\">\n",
              "  <thead>\n",
              "    <tr style=\"text-align: right;\">\n",
              "      <th></th>\n",
              "      <th>env_score</th>\n",
              "      <th>independent_dirs</th>\n",
              "      <th>board_size</th>\n",
              "      <th>roa</th>\n",
              "      <th>leverage</th>\n",
              "      <th>slack</th>\n",
              "      <th>board_tenure</th>\n",
              "      <th>environmental_exp</th>\n",
              "      <th>environmental_comm_exp</th>\n",
              "      <th>ticker</th>\n",
              "      <th>comp_name</th>\n",
              "      <th>isin</th>\n",
              "      <th>year_score</th>\n",
              "      <th>control_year</th>\n",
              "      <th>supersector</th>\n",
              "      <th>ceo_duality</th>\n",
              "    </tr>\n",
              "  </thead>\n",
              "  <tbody>\n",
              "    <tr>\n",
              "      <th>0</th>\n",
              "      <td>83.891263</td>\n",
              "      <td>90.00</td>\n",
              "      <td>10.0</td>\n",
              "      <td>14.65</td>\n",
              "      <td>16.88</td>\n",
              "      <td>20.07</td>\n",
              "      <td>9.38</td>\n",
              "      <td>0.400000</td>\n",
              "      <td>0.0</td>\n",
              "      <td>mmm</td>\n",
              "      <td>3m co</td>\n",
              "      <td>us88579y1010</td>\n",
              "      <td>2012</td>\n",
              "      <td>2011</td>\n",
              "      <td>industrial goods and services</td>\n",
              "      <td>0</td>\n",
              "    </tr>\n",
              "    <tr>\n",
              "      <th>1</th>\n",
              "      <td>52.133087</td>\n",
              "      <td>88.24</td>\n",
              "      <td>13.0</td>\n",
              "      <td>9.20</td>\n",
              "      <td>25.27</td>\n",
              "      <td>23.09</td>\n",
              "      <td>8.91</td>\n",
              "      <td>0.461538</td>\n",
              "      <td>0.0</td>\n",
              "      <td>abt</td>\n",
              "      <td>abbott laboratories</td>\n",
              "      <td>us0028241000</td>\n",
              "      <td>2012</td>\n",
              "      <td>2011</td>\n",
              "      <td>health care</td>\n",
              "      <td>0</td>\n",
              "    </tr>\n",
              "    <tr>\n",
              "      <th>2</th>\n",
              "      <td>80.082004</td>\n",
              "      <td>90.00</td>\n",
              "      <td>9.0</td>\n",
              "      <td>10.23</td>\n",
              "      <td>16.84</td>\n",
              "      <td>34.79</td>\n",
              "      <td>13.23</td>\n",
              "      <td>0.111111</td>\n",
              "      <td>0.0</td>\n",
              "      <td>adbe</td>\n",
              "      <td>adobe inc</td>\n",
              "      <td>us00724f1012</td>\n",
              "      <td>2012</td>\n",
              "      <td>2011</td>\n",
              "      <td>technology</td>\n",
              "      <td>0</td>\n",
              "    </tr>\n",
              "    <tr>\n",
              "      <th>3</th>\n",
              "      <td>7.411255</td>\n",
              "      <td>81.82</td>\n",
              "      <td>10.0</td>\n",
              "      <td>11.72</td>\n",
              "      <td>11.82</td>\n",
              "      <td>10.37</td>\n",
              "      <td>5.36</td>\n",
              "      <td>0.181818</td>\n",
              "      <td>0.0</td>\n",
              "      <td>aap</td>\n",
              "      <td>advance auto parts inc</td>\n",
              "      <td>us00751y1064</td>\n",
              "      <td>2012</td>\n",
              "      <td>2011</td>\n",
              "      <td>retailers</td>\n",
              "      <td>1</td>\n",
              "    </tr>\n",
              "    <tr>\n",
              "      <th>4</th>\n",
              "      <td>57.980280</td>\n",
              "      <td>87.50</td>\n",
              "      <td>13.0</td>\n",
              "      <td>4.85</td>\n",
              "      <td>34.79</td>\n",
              "      <td>21.86</td>\n",
              "      <td>7.41</td>\n",
              "      <td>0.200000</td>\n",
              "      <td>0.0</td>\n",
              "      <td>aep</td>\n",
              "      <td>NaN</td>\n",
              "      <td>us0255371017</td>\n",
              "      <td>2012</td>\n",
              "      <td>2011</td>\n",
              "      <td>utilities</td>\n",
              "      <td>0</td>\n",
              "    </tr>\n",
              "  </tbody>\n",
              "</table>\n",
              "</div>"
            ],
            "text/plain": [
              "   env_score  independent_dirs  ...                    supersector  ceo_duality\n",
              "0  83.891263             90.00  ...  industrial goods and services            0\n",
              "1  52.133087             88.24  ...                    health care            0\n",
              "2  80.082004             90.00  ...                     technology            0\n",
              "3   7.411255             81.82  ...                      retailers            1\n",
              "4  57.980280             87.50  ...                      utilities            0\n",
              "\n",
              "[5 rows x 16 columns]"
            ]
          },
          "metadata": {
            "tags": []
          },
          "execution_count": 17
        }
      ]
    },
    {
      "cell_type": "code",
      "metadata": {
        "colab": {
          "base_uri": "https://localhost:8080/"
        },
        "id": "7hEIuwm5Sqd2",
        "outputId": "d2d992c0-e91b-41a9-db83-e4dfd682fae4"
      },
      "source": [
        "# get the names of the industries\n",
        "industries = list(env_df['supersector'].unique())\n",
        "industries\n"
      ],
      "execution_count": 18,
      "outputs": [
        {
          "output_type": "execute_result",
          "data": {
            "text/plain": [
              "['industrial goods and services',\n",
              " 'health care',\n",
              " 'technology',\n",
              " 'retailers',\n",
              " 'utilities',\n",
              " 'insurance',\n",
              " 'real estate',\n",
              " 'chemicals',\n",
              " 'financial services',\n",
              " 'food, beverage and tobacco',\n",
              " 'travel and leisure',\n",
              " 'telecommunications',\n",
              " 'basic resources',\n",
              " 'energy',\n",
              " 'banks',\n",
              " 'automobiles and parts',\n",
              " 'personal care, drug and grocery stores',\n",
              " 'media',\n",
              " 'consumer products and services',\n",
              " 'construction and materials']"
            ]
          },
          "metadata": {
            "tags": []
          },
          "execution_count": 18
        }
      ]
    },
    {
      "cell_type": "code",
      "metadata": {
        "id": "XsvxOjPGSqiO"
      },
      "source": [
        "# define X and y\n",
        "X_soc_exp, y_soc_exp = prep_data(soc_df, 'soc_score', 'social_exp', 'industry')\n",
        "# add a constant\n",
        "X_soc_exp = sm.add_constant(X_soc_exp)\n",
        "X_soc_comm, y_soc_comm = prep_data(soc_df, 'soc_score', 'social_comm_exp', 'industry')\n",
        "# add a constant\n",
        "X_soc_comm = sm.add_constant(X_soc_comm)\n",
        "X_env_exp, y_env_exp = prep_data(env_df, 'env_score', 'environmental_exp', 'industry')\n",
        "# add a constant\n",
        "X_env_exp = sm.add_constant(X_env_exp)\n",
        "X_env_comm, y_env_comm = prep_data(env_df, 'env_score', 'environmental_comm_exp', 'industry')\n",
        "# add a constant\n",
        "X_env_comm = sm.add_constant(X_env_comm)\n"
      ],
      "execution_count": 19,
      "outputs": []
    },
    {
      "cell_type": "code",
      "metadata": {
        "colab": {
          "base_uri": "https://localhost:8080/",
          "height": 741
        },
        "id": "nDkD7WwzS55n",
        "outputId": "f7d91762-ab7a-468a-f294-051b3f27cd6a"
      },
      "source": [
        "# fixed effects regression removed outliers\n",
        "# time and entity\n",
        "mod = lm.PanelOLS(y_env_comm, X_env_comm, time_effects=True, entity_effects=True)\n",
        "res = mod.fit(cov_type='clustered', cluster_time=True, cluster_entity=True)\n",
        "res\n"
      ],
      "execution_count": 20,
      "outputs": [
        {
          "output_type": "execute_result",
          "data": {
            "text/html": [
              "<table class=\"simpletable\">\n",
              "<caption>PanelOLS Estimation Summary</caption>\n",
              "<tr>\n",
              "  <th>Dep. Variable:</th>        <td>env_score</td>    <th>  R-squared:         </th>    <td>0.1382</td>  \n",
              "</tr>\n",
              "<tr>\n",
              "  <th>Estimator:</th>            <td>PanelOLS</td>     <th>  R-squared (Between):</th>   <td>-0.0539</td> \n",
              "</tr>\n",
              "<tr>\n",
              "  <th>No. Observations:</th>       <td>1397</td>       <th>  R-squared (Within):</th>    <td>0.1354</td>  \n",
              "</tr>\n",
              "<tr>\n",
              "  <th>Date:</th>             <td>Thu, Apr 29 2021</td> <th>  R-squared (Overall):</th>   <td>0.0813</td>  \n",
              "</tr>\n",
              "<tr>\n",
              "  <th>Time:</th>                 <td>14:38:04</td>     <th>  Log-likelihood     </th>    <td>-6201.5</td> \n",
              "</tr>\n",
              "<tr>\n",
              "  <th>Cov. Estimator:</th>       <td>Clustered</td>    <th>                     </th>       <td></td>     \n",
              "</tr>\n",
              "<tr>\n",
              "  <th></th>                          <td></td>         <th>  F-statistic:       </th>    <td>27.363</td>  \n",
              "</tr>\n",
              "<tr>\n",
              "  <th>Entities:</th>                <td>20</td>        <th>  P-value            </th>    <td>0.0000</td>  \n",
              "</tr>\n",
              "<tr>\n",
              "  <th>Avg Obs:</th>               <td>69.850</td>      <th>  Distribution:      </th>   <td>F(8,1365)</td>\n",
              "</tr>\n",
              "<tr>\n",
              "  <th>Min Obs:</th>               <td>18.000</td>      <th>                     </th>       <td></td>     \n",
              "</tr>\n",
              "<tr>\n",
              "  <th>Max Obs:</th>               <td>198.00</td>      <th>  F-statistic (robust):</th>  <td>12.909</td>  \n",
              "</tr>\n",
              "<tr>\n",
              "  <th></th>                          <td></td>         <th>  P-value            </th>    <td>0.0000</td>  \n",
              "</tr>\n",
              "<tr>\n",
              "  <th>Time periods:</th>             <td>5</td>        <th>  Distribution:      </th>   <td>F(8,1365)</td>\n",
              "</tr>\n",
              "<tr>\n",
              "  <th>Avg Obs:</th>               <td>279.40</td>      <th>                     </th>       <td></td>     \n",
              "</tr>\n",
              "<tr>\n",
              "  <th>Min Obs:</th>               <td>266.00</td>      <th>                     </th>       <td></td>     \n",
              "</tr>\n",
              "<tr>\n",
              "  <th>Max Obs:</th>               <td>296.00</td>      <th>                     </th>       <td></td>     \n",
              "</tr>\n",
              "<tr>\n",
              "  <th></th>                          <td></td>         <th>                     </th>       <td></td>     \n",
              "</tr>\n",
              "</table>\n",
              "<table class=\"simpletable\">\n",
              "<caption>Parameter Estimates</caption>\n",
              "<tr>\n",
              "             <td></td>            <th>Parameter</th> <th>Std. Err.</th> <th>T-stat</th>  <th>P-value</th> <th>Lower CI</th> <th>Upper CI</th>\n",
              "</tr>\n",
              "<tr>\n",
              "  <th>const</th>                   <td>-2.9711</td>   <td>11.012</td>   <td>-0.2698</td> <td>0.7874</td>   <td>-24.574</td>  <td>18.632</td> \n",
              "</tr>\n",
              "<tr>\n",
              "  <th>independent_dirs</th>        <td>0.2826</td>    <td>0.0993</td>   <td>2.8443</td>  <td>0.0045</td>   <td>0.0877</td>   <td>0.4774</td> \n",
              "</tr>\n",
              "<tr>\n",
              "  <th>board_size</th>              <td>3.2033</td>    <td>0.5263</td>   <td>6.0860</td>  <td>0.0000</td>   <td>2.1708</td>   <td>4.2359</td> \n",
              "</tr>\n",
              "<tr>\n",
              "  <th>roa</th>                     <td>0.3230</td>    <td>0.1661</td>   <td>1.9452</td>  <td>0.0520</td>   <td>-0.0027</td>  <td>0.6488</td> \n",
              "</tr>\n",
              "<tr>\n",
              "  <th>leverage</th>                <td>-0.0994</td>   <td>0.0686</td>   <td>-1.4494</td> <td>0.1474</td>   <td>-0.2339</td>  <td>0.0351</td> \n",
              "</tr>\n",
              "<tr>\n",
              "  <th>slack</th>                   <td>-0.1718</td>   <td>0.0834</td>   <td>-2.0609</td> <td>0.0395</td>   <td>-0.3354</td>  <td>-0.0083</td>\n",
              "</tr>\n",
              "<tr>\n",
              "  <th>board_tenure</th>            <td>-0.1962</td>   <td>0.3848</td>   <td>-0.5099</td> <td>0.6102</td>   <td>-0.9512</td>  <td>0.5587</td> \n",
              "</tr>\n",
              "<tr>\n",
              "  <th>environmental_comm_exp</th>  <td>40.941</td>    <td>8.2236</td>   <td>4.9784</td>  <td>0.0000</td>   <td>24.808</td>   <td>57.073</td> \n",
              "</tr>\n",
              "<tr>\n",
              "  <th>ceo_duality</th>             <td>-2.5803</td>   <td>2.3257</td>   <td>-1.1095</td> <td>0.2674</td>   <td>-7.1427</td>  <td>1.9821</td> \n",
              "</tr>\n",
              "</table><br/><br/>F-test for Poolability: 13.702<br/>P-value: 0.0000<br/>Distribution: F(23,1365)<br/><br/>Included effects: Entity, Time<br/>id: 0x7fd8b778a7d0"
            ],
            "text/plain": [
              "                          PanelOLS Estimation Summary                           \n",
              "================================================================================\n",
              "Dep. Variable:              env_score   R-squared:                        0.1382\n",
              "Estimator:                   PanelOLS   R-squared (Between):             -0.0539\n",
              "No. Observations:                1397   R-squared (Within):               0.1354\n",
              "Date:                Thu, Apr 29 2021   R-squared (Overall):              0.0813\n",
              "Time:                        14:38:04   Log-likelihood                   -6201.5\n",
              "Cov. Estimator:             Clustered                                           \n",
              "                                        F-statistic:                      27.363\n",
              "Entities:                          20   P-value                           0.0000\n",
              "Avg Obs:                       69.850   Distribution:                  F(8,1365)\n",
              "Min Obs:                       18.000                                           \n",
              "Max Obs:                       198.00   F-statistic (robust):             12.909\n",
              "                                        P-value                           0.0000\n",
              "Time periods:                       5   Distribution:                  F(8,1365)\n",
              "Avg Obs:                       279.40                                           \n",
              "Min Obs:                       266.00                                           \n",
              "Max Obs:                       296.00                                           \n",
              "                                                                                \n",
              "                                   Parameter Estimates                                    \n",
              "==========================================================================================\n",
              "                        Parameter  Std. Err.     T-stat    P-value    Lower CI    Upper CI\n",
              "------------------------------------------------------------------------------------------\n",
              "const                     -2.9711     11.012    -0.2698     0.7874     -24.574      18.632\n",
              "independent_dirs           0.2826     0.0993     2.8443     0.0045      0.0877      0.4774\n",
              "board_size                 3.2033     0.5263     6.0860     0.0000      2.1708      4.2359\n",
              "roa                        0.3230     0.1661     1.9452     0.0520     -0.0027      0.6488\n",
              "leverage                  -0.0994     0.0686    -1.4494     0.1474     -0.2339      0.0351\n",
              "slack                     -0.1718     0.0834    -2.0609     0.0395     -0.3354     -0.0083\n",
              "board_tenure              -0.1962     0.3848    -0.5099     0.6102     -0.9512      0.5587\n",
              "environmental_comm_exp     40.941     8.2236     4.9784     0.0000      24.808      57.073\n",
              "ceo_duality               -2.5803     2.3257    -1.1095     0.2674     -7.1427      1.9821\n",
              "==========================================================================================\n",
              "\n",
              "F-test for Poolability: 13.702\n",
              "P-value: 0.0000\n",
              "Distribution: F(23,1365)\n",
              "\n",
              "Included effects: Entity, Time\n",
              "PanelEffectsResults, id: 0x7fd8b778a7d0"
            ]
          },
          "metadata": {
            "tags": []
          },
          "execution_count": 20
        }
      ]
    },
    {
      "cell_type": "code",
      "metadata": {
        "colab": {
          "base_uri": "https://localhost:8080/"
        },
        "id": "TMIVakDmDy3z",
        "outputId": "f3f13cba-4ce6-478e-9f86-1675a389f9b0"
      },
      "source": [
        "# calculate the adjusted \n",
        "r2 = res.rsquared_within\n",
        "\n",
        "adjusted_r2 = (1 - (1 - r2))*((X_env_comm.shape[0] - 1) / (X_env_comm.shape[0] - (X_env_comm.shape[1]-1) -1))\n",
        "adjusted_r2\n"
      ],
      "execution_count": 21,
      "outputs": [
        {
          "output_type": "execute_result",
          "data": {
            "text/plain": [
              "0.13614097545612383"
            ]
          },
          "metadata": {
            "tags": []
          },
          "execution_count": 21
        }
      ]
    },
    {
      "cell_type": "code",
      "metadata": {
        "colab": {
          "base_uri": "https://localhost:8080/",
          "height": 741
        },
        "id": "NSPNrIQzS551",
        "outputId": "09c6805f-0073-458f-8b4d-98359eba8240"
      },
      "source": [
        "# fixed effects regression removed outliers\n",
        "# time and entity\n",
        "mod = lm.PanelOLS(y_env_exp, X_env_exp, time_effects=True, entity_effects=True)\n",
        "res = mod.fit(cov_type='clustered', cluster_time=True, cluster_entity=True)\n",
        "res\n"
      ],
      "execution_count": 22,
      "outputs": [
        {
          "output_type": "execute_result",
          "data": {
            "text/html": [
              "<table class=\"simpletable\">\n",
              "<caption>PanelOLS Estimation Summary</caption>\n",
              "<tr>\n",
              "  <th>Dep. Variable:</th>        <td>env_score</td>    <th>  R-squared:         </th>    <td>0.1094</td>  \n",
              "</tr>\n",
              "<tr>\n",
              "  <th>Estimator:</th>            <td>PanelOLS</td>     <th>  R-squared (Between):</th>   <td>-0.1561</td> \n",
              "</tr>\n",
              "<tr>\n",
              "  <th>No. Observations:</th>       <td>1397</td>       <th>  R-squared (Within):</th>    <td>0.1059</td>  \n",
              "</tr>\n",
              "<tr>\n",
              "  <th>Date:</th>             <td>Thu, Apr 29 2021</td> <th>  R-squared (Overall):</th>   <td>0.0429</td>  \n",
              "</tr>\n",
              "<tr>\n",
              "  <th>Time:</th>                 <td>14:38:04</td>     <th>  Log-likelihood     </th>    <td>-6224.4</td> \n",
              "</tr>\n",
              "<tr>\n",
              "  <th>Cov. Estimator:</th>       <td>Clustered</td>    <th>                     </th>       <td></td>     \n",
              "</tr>\n",
              "<tr>\n",
              "  <th></th>                          <td></td>         <th>  F-statistic:       </th>    <td>20.964</td>  \n",
              "</tr>\n",
              "<tr>\n",
              "  <th>Entities:</th>                <td>20</td>        <th>  P-value            </th>    <td>0.0000</td>  \n",
              "</tr>\n",
              "<tr>\n",
              "  <th>Avg Obs:</th>               <td>69.850</td>      <th>  Distribution:      </th>   <td>F(8,1365)</td>\n",
              "</tr>\n",
              "<tr>\n",
              "  <th>Min Obs:</th>               <td>18.000</td>      <th>                     </th>       <td></td>     \n",
              "</tr>\n",
              "<tr>\n",
              "  <th>Max Obs:</th>               <td>198.00</td>      <th>  F-statistic (robust):</th>  <td>12.291</td>  \n",
              "</tr>\n",
              "<tr>\n",
              "  <th></th>                          <td></td>         <th>  P-value            </th>    <td>0.0000</td>  \n",
              "</tr>\n",
              "<tr>\n",
              "  <th>Time periods:</th>             <td>5</td>        <th>  Distribution:      </th>   <td>F(8,1365)</td>\n",
              "</tr>\n",
              "<tr>\n",
              "  <th>Avg Obs:</th>               <td>279.40</td>      <th>                     </th>       <td></td>     \n",
              "</tr>\n",
              "<tr>\n",
              "  <th>Min Obs:</th>               <td>266.00</td>      <th>                     </th>       <td></td>     \n",
              "</tr>\n",
              "<tr>\n",
              "  <th>Max Obs:</th>               <td>296.00</td>      <th>                     </th>       <td></td>     \n",
              "</tr>\n",
              "<tr>\n",
              "  <th></th>                          <td></td>         <th>                     </th>       <td></td>     \n",
              "</tr>\n",
              "</table>\n",
              "<table class=\"simpletable\">\n",
              "<caption>Parameter Estimates</caption>\n",
              "<tr>\n",
              "          <td></td>          <th>Parameter</th> <th>Std. Err.</th> <th>T-stat</th>  <th>P-value</th> <th>Lower CI</th> <th>Upper CI</th>\n",
              "</tr>\n",
              "<tr>\n",
              "  <th>const</th>              <td>-9.5774</td>   <td>11.953</td>   <td>-0.8013</td> <td>0.4231</td>   <td>-33.025</td>  <td>13.871</td> \n",
              "</tr>\n",
              "<tr>\n",
              "  <th>independent_dirs</th>   <td>0.3317</td>    <td>0.0948</td>   <td>3.4981</td>  <td>0.0005</td>   <td>0.1457</td>   <td>0.5178</td> \n",
              "</tr>\n",
              "<tr>\n",
              "  <th>board_size</th>         <td>3.3442</td>    <td>0.5251</td>   <td>6.3684</td>  <td>0.0000</td>   <td>2.3141</td>   <td>4.3743</td> \n",
              "</tr>\n",
              "<tr>\n",
              "  <th>roa</th>                <td>0.3464</td>    <td>0.1747</td>   <td>1.9830</td>  <td>0.0476</td>   <td>0.0037</td>   <td>0.6890</td> \n",
              "</tr>\n",
              "<tr>\n",
              "  <th>leverage</th>           <td>-0.0934</td>   <td>0.0754</td>   <td>-1.2391</td> <td>0.2155</td>   <td>-0.2412</td>  <td>0.0545</td> \n",
              "</tr>\n",
              "<tr>\n",
              "  <th>slack</th>              <td>-0.1923</td>   <td>0.0878</td>   <td>-2.1914</td> <td>0.0286</td>   <td>-0.3645</td>  <td>-0.0202</td>\n",
              "</tr>\n",
              "<tr>\n",
              "  <th>board_tenure</th>       <td>-0.1933</td>   <td>0.4049</td>   <td>-0.4774</td> <td>0.6332</td>   <td>-0.9875</td>  <td>0.6010</td> \n",
              "</tr>\n",
              "<tr>\n",
              "  <th>environmental_exp</th>  <td>11.451</td>    <td>8.6479</td>   <td>1.3241</td>  <td>0.1857</td>   <td>-5.5138</td>  <td>28.415</td> \n",
              "</tr>\n",
              "<tr>\n",
              "  <th>ceo_duality</th>        <td>-1.5401</td>   <td>2.4557</td>   <td>-0.6272</td> <td>0.5307</td>   <td>-6.3574</td>  <td>3.2772</td> \n",
              "</tr>\n",
              "</table><br/><br/>F-test for Poolability: 14.292<br/>P-value: 0.0000<br/>Distribution: F(23,1365)<br/><br/>Included effects: Entity, Time<br/>id: 0x7fd8c2b16890"
            ],
            "text/plain": [
              "                          PanelOLS Estimation Summary                           \n",
              "================================================================================\n",
              "Dep. Variable:              env_score   R-squared:                        0.1094\n",
              "Estimator:                   PanelOLS   R-squared (Between):             -0.1561\n",
              "No. Observations:                1397   R-squared (Within):               0.1059\n",
              "Date:                Thu, Apr 29 2021   R-squared (Overall):              0.0429\n",
              "Time:                        14:38:04   Log-likelihood                   -6224.4\n",
              "Cov. Estimator:             Clustered                                           \n",
              "                                        F-statistic:                      20.964\n",
              "Entities:                          20   P-value                           0.0000\n",
              "Avg Obs:                       69.850   Distribution:                  F(8,1365)\n",
              "Min Obs:                       18.000                                           \n",
              "Max Obs:                       198.00   F-statistic (robust):             12.291\n",
              "                                        P-value                           0.0000\n",
              "Time periods:                       5   Distribution:                  F(8,1365)\n",
              "Avg Obs:                       279.40                                           \n",
              "Min Obs:                       266.00                                           \n",
              "Max Obs:                       296.00                                           \n",
              "                                                                                \n",
              "                                 Parameter Estimates                                 \n",
              "=====================================================================================\n",
              "                   Parameter  Std. Err.     T-stat    P-value    Lower CI    Upper CI\n",
              "-------------------------------------------------------------------------------------\n",
              "const                -9.5774     11.953    -0.8013     0.4231     -33.025      13.871\n",
              "independent_dirs      0.3317     0.0948     3.4981     0.0005      0.1457      0.5178\n",
              "board_size            3.3442     0.5251     6.3684     0.0000      2.3141      4.3743\n",
              "roa                   0.3464     0.1747     1.9830     0.0476      0.0037      0.6890\n",
              "leverage             -0.0934     0.0754    -1.2391     0.2155     -0.2412      0.0545\n",
              "slack                -0.1923     0.0878    -2.1914     0.0286     -0.3645     -0.0202\n",
              "board_tenure         -0.1933     0.4049    -0.4774     0.6332     -0.9875      0.6010\n",
              "environmental_exp     11.451     8.6479     1.3241     0.1857     -5.5138      28.415\n",
              "ceo_duality          -1.5401     2.4557    -0.6272     0.5307     -6.3574      3.2772\n",
              "=====================================================================================\n",
              "\n",
              "F-test for Poolability: 14.292\n",
              "P-value: 0.0000\n",
              "Distribution: F(23,1365)\n",
              "\n",
              "Included effects: Entity, Time\n",
              "PanelEffectsResults, id: 0x7fd8c2b16890"
            ]
          },
          "metadata": {
            "tags": []
          },
          "execution_count": 22
        }
      ]
    },
    {
      "cell_type": "code",
      "metadata": {
        "colab": {
          "base_uri": "https://localhost:8080/"
        },
        "id": "Qgm5u57qD4Aq",
        "outputId": "85f1f60d-2677-4cfe-9df9-87540c18f5a2"
      },
      "source": [
        "# calculate the adjusted \n",
        "r2 = res.rsquared_within\n",
        "\n",
        "adjusted_r2 = (1 - (1 - r2))*((X_env_exp.shape[0] - 1) / (X_env_exp.shape[0] - (X_env_exp.shape[1]-1) -1))\n",
        "adjusted_r2\n"
      ],
      "execution_count": 23,
      "outputs": [
        {
          "output_type": "execute_result",
          "data": {
            "text/plain": [
              "0.1064997817464292"
            ]
          },
          "metadata": {
            "tags": []
          },
          "execution_count": 23
        }
      ]
    },
    {
      "cell_type": "code",
      "metadata": {
        "colab": {
          "base_uri": "https://localhost:8080/",
          "height": 741
        },
        "id": "IIPV2aPbS552",
        "outputId": "35201527-e7f0-4469-aaa3-6bcdc8fb731b"
      },
      "source": [
        "# fixed effects regression removed outliers\n",
        "# time and entity\n",
        "mod = lm.PanelOLS(y_soc_exp, X_soc_exp, time_effects=True, entity_effects=True)\n",
        "res = mod.fit(cov_type='clustered', cluster_time=True, cluster_entity=True)\n",
        "res\n"
      ],
      "execution_count": 24,
      "outputs": [
        {
          "output_type": "execute_result",
          "data": {
            "text/html": [
              "<table class=\"simpletable\">\n",
              "<caption>PanelOLS Estimation Summary</caption>\n",
              "<tr>\n",
              "  <th>Dep. Variable:</th>        <td>soc_score</td>    <th>  R-squared:         </th>    <td>0.1419</td>  \n",
              "</tr>\n",
              "<tr>\n",
              "  <th>Estimator:</th>            <td>PanelOLS</td>     <th>  R-squared (Between):</th>   <td>-0.1062</td> \n",
              "</tr>\n",
              "<tr>\n",
              "  <th>No. Observations:</th>       <td>1700</td>       <th>  R-squared (Within):</th>    <td>0.1397</td>  \n",
              "</tr>\n",
              "<tr>\n",
              "  <th>Date:</th>             <td>Thu, Apr 29 2021</td> <th>  R-squared (Overall):</th>   <td>0.0978</td>  \n",
              "</tr>\n",
              "<tr>\n",
              "  <th>Time:</th>                 <td>14:38:04</td>     <th>  Log-likelihood     </th>    <td>-7146.4</td> \n",
              "</tr>\n",
              "<tr>\n",
              "  <th>Cov. Estimator:</th>       <td>Clustered</td>    <th>                     </th>       <td></td>     \n",
              "</tr>\n",
              "<tr>\n",
              "  <th></th>                          <td></td>         <th>  F-statistic:       </th>    <td>34.472</td>  \n",
              "</tr>\n",
              "<tr>\n",
              "  <th>Entities:</th>                <td>20</td>        <th>  P-value            </th>    <td>0.0000</td>  \n",
              "</tr>\n",
              "<tr>\n",
              "  <th>Avg Obs:</th>               <td>85.000</td>      <th>  Distribution:      </th>   <td>F(8,1668)</td>\n",
              "</tr>\n",
              "<tr>\n",
              "  <th>Min Obs:</th>               <td>25.000</td>      <th>                     </th>       <td></td>     \n",
              "</tr>\n",
              "<tr>\n",
              "  <th>Max Obs:</th>               <td>230.00</td>      <th>  F-statistic (robust):</th>  <td>22.669</td>  \n",
              "</tr>\n",
              "<tr>\n",
              "  <th></th>                          <td></td>         <th>  P-value            </th>    <td>0.0000</td>  \n",
              "</tr>\n",
              "<tr>\n",
              "  <th>Time periods:</th>             <td>5</td>        <th>  Distribution:      </th>   <td>F(8,1668)</td>\n",
              "</tr>\n",
              "<tr>\n",
              "  <th>Avg Obs:</th>               <td>340.00</td>      <th>                     </th>       <td></td>     \n",
              "</tr>\n",
              "<tr>\n",
              "  <th>Min Obs:</th>               <td>326.00</td>      <th>                     </th>       <td></td>     \n",
              "</tr>\n",
              "<tr>\n",
              "  <th>Max Obs:</th>               <td>350.00</td>      <th>                     </th>       <td></td>     \n",
              "</tr>\n",
              "<tr>\n",
              "  <th></th>                          <td></td>         <th>                     </th>       <td></td>     \n",
              "</tr>\n",
              "</table>\n",
              "<table class=\"simpletable\">\n",
              "<caption>Parameter Estimates</caption>\n",
              "<tr>\n",
              "          <td></td>         <th>Parameter</th> <th>Std. Err.</th> <th>T-stat</th>  <th>P-value</th> <th>Lower CI</th> <th>Upper CI</th>\n",
              "</tr>\n",
              "<tr>\n",
              "  <th>const</th>             <td>-5.5604</td>   <td>7.5898</td>   <td>-0.7326</td> <td>0.4639</td>   <td>-20.447</td>  <td>9.3261</td> \n",
              "</tr>\n",
              "<tr>\n",
              "  <th>independent_dirs</th>  <td>0.4394</td>    <td>0.0521</td>   <td>8.4356</td>  <td>0.0000</td>   <td>0.3372</td>   <td>0.5416</td> \n",
              "</tr>\n",
              "<tr>\n",
              "  <th>board_size</th>        <td>2.1672</td>    <td>0.3138</td>   <td>6.9056</td>  <td>0.0000</td>   <td>1.5516</td>   <td>2.7827</td> \n",
              "</tr>\n",
              "<tr>\n",
              "  <th>roa</th>               <td>0.2458</td>    <td>0.1518</td>   <td>1.6195</td>  <td>0.1055</td>   <td>-0.0519</td>  <td>0.5435</td> \n",
              "</tr>\n",
              "<tr>\n",
              "  <th>leverage</th>          <td>-0.0103</td>   <td>0.0651</td>   <td>-0.1584</td> <td>0.8742</td>   <td>-0.1380</td>  <td>0.1174</td> \n",
              "</tr>\n",
              "<tr>\n",
              "  <th>slack</th>             <td>-0.1327</td>   <td>0.0738</td>   <td>-1.7979</td> <td>0.0724</td>   <td>-0.2775</td>  <td>0.0121</td> \n",
              "</tr>\n",
              "<tr>\n",
              "  <th>board_tenure</th>      <td>-0.2108</td>   <td>0.1990</td>   <td>-1.0591</td> <td>0.2897</td>   <td>-0.6012</td>  <td>0.1796</td> \n",
              "</tr>\n",
              "<tr>\n",
              "  <th>social_exp</th>        <td>16.257</td>    <td>3.5046</td>   <td>4.6387</td>  <td>0.0000</td>   <td>9.3827</td>   <td>23.130</td> \n",
              "</tr>\n",
              "<tr>\n",
              "  <th>ceo_duality</th>       <td>-3.7797</td>   <td>1.4325</td>   <td>-2.6386</td> <td>0.0084</td>   <td>-6.5893</td>  <td>-0.9701</td>\n",
              "</tr>\n",
              "</table><br/><br/>F-test for Poolability: 11.987<br/>P-value: 0.0000<br/>Distribution: F(23,1668)<br/><br/>Included effects: Entity, Time<br/>id: 0x7fd8c2b16610"
            ],
            "text/plain": [
              "                          PanelOLS Estimation Summary                           \n",
              "================================================================================\n",
              "Dep. Variable:              soc_score   R-squared:                        0.1419\n",
              "Estimator:                   PanelOLS   R-squared (Between):             -0.1062\n",
              "No. Observations:                1700   R-squared (Within):               0.1397\n",
              "Date:                Thu, Apr 29 2021   R-squared (Overall):              0.0978\n",
              "Time:                        14:38:04   Log-likelihood                   -7146.4\n",
              "Cov. Estimator:             Clustered                                           \n",
              "                                        F-statistic:                      34.472\n",
              "Entities:                          20   P-value                           0.0000\n",
              "Avg Obs:                       85.000   Distribution:                  F(8,1668)\n",
              "Min Obs:                       25.000                                           \n",
              "Max Obs:                       230.00   F-statistic (robust):             22.669\n",
              "                                        P-value                           0.0000\n",
              "Time periods:                       5   Distribution:                  F(8,1668)\n",
              "Avg Obs:                       340.00                                           \n",
              "Min Obs:                       326.00                                           \n",
              "Max Obs:                       350.00                                           \n",
              "                                                                                \n",
              "                                Parameter Estimates                                 \n",
              "====================================================================================\n",
              "                  Parameter  Std. Err.     T-stat    P-value    Lower CI    Upper CI\n",
              "------------------------------------------------------------------------------------\n",
              "const               -5.5604     7.5898    -0.7326     0.4639     -20.447      9.3261\n",
              "independent_dirs     0.4394     0.0521     8.4356     0.0000      0.3372      0.5416\n",
              "board_size           2.1672     0.3138     6.9056     0.0000      1.5516      2.7827\n",
              "roa                  0.2458     0.1518     1.6195     0.1055     -0.0519      0.5435\n",
              "leverage            -0.0103     0.0651    -0.1584     0.8742     -0.1380      0.1174\n",
              "slack               -0.1327     0.0738    -1.7979     0.0724     -0.2775      0.0121\n",
              "board_tenure        -0.2108     0.1990    -1.0591     0.2897     -0.6012      0.1796\n",
              "social_exp           16.257     3.5046     4.6387     0.0000      9.3827      23.130\n",
              "ceo_duality         -3.7797     1.4325    -2.6386     0.0084     -6.5893     -0.9701\n",
              "====================================================================================\n",
              "\n",
              "F-test for Poolability: 11.987\n",
              "P-value: 0.0000\n",
              "Distribution: F(23,1668)\n",
              "\n",
              "Included effects: Entity, Time\n",
              "PanelEffectsResults, id: 0x7fd8c2b16610"
            ]
          },
          "metadata": {
            "tags": []
          },
          "execution_count": 24
        }
      ]
    },
    {
      "cell_type": "code",
      "metadata": {
        "colab": {
          "base_uri": "https://localhost:8080/"
        },
        "id": "FyjCkCBAD9Nq",
        "outputId": "329faf2c-893d-4ad9-bd68-f88b0adcbe4a"
      },
      "source": [
        "# calculate the adjusted \n",
        "r2 = res.rsquared_within\n",
        "\n",
        "adjusted_r2 = (1 - (1 - r2))*((X_soc_exp.shape[0] - 1) / (X_soc_exp.shape[0] - (X_soc_exp.shape[1]-1) -1))\n",
        "adjusted_r2\n"
      ],
      "execution_count": 25,
      "outputs": [
        {
          "output_type": "execute_result",
          "data": {
            "text/plain": [
              "0.14040824730003063"
            ]
          },
          "metadata": {
            "tags": []
          },
          "execution_count": 25
        }
      ]
    },
    {
      "cell_type": "code",
      "metadata": {
        "colab": {
          "base_uri": "https://localhost:8080/",
          "height": 741
        },
        "id": "6GbkzF6OS553",
        "outputId": "973db77c-9332-4533-d0f1-dfa246baf9bb"
      },
      "source": [
        "# fixed effects regression removed outliers\n",
        "# time and entity\n",
        "mod = lm.PanelOLS(y_soc_comm, X_soc_comm, time_effects=True, entity_effects=True)\n",
        "res = mod.fit(cov_type='clustered', cluster_time=True, cluster_entity=True)\n",
        "res\n"
      ],
      "execution_count": 26,
      "outputs": [
        {
          "output_type": "execute_result",
          "data": {
            "text/html": [
              "<table class=\"simpletable\">\n",
              "<caption>PanelOLS Estimation Summary</caption>\n",
              "<tr>\n",
              "  <th>Dep. Variable:</th>        <td>soc_score</td>    <th>  R-squared:         </th>    <td>0.1722</td>  \n",
              "</tr>\n",
              "<tr>\n",
              "  <th>Estimator:</th>            <td>PanelOLS</td>     <th>  R-squared (Between):</th>   <td>-0.0765</td> \n",
              "</tr>\n",
              "<tr>\n",
              "  <th>No. Observations:</th>       <td>1700</td>       <th>  R-squared (Within):</th>    <td>0.1714</td>  \n",
              "</tr>\n",
              "<tr>\n",
              "  <th>Date:</th>             <td>Thu, Apr 29 2021</td> <th>  R-squared (Overall):</th>   <td>0.1260</td>  \n",
              "</tr>\n",
              "<tr>\n",
              "  <th>Time:</th>                 <td>14:38:04</td>     <th>  Log-likelihood     </th>    <td>-7115.7</td> \n",
              "</tr>\n",
              "<tr>\n",
              "  <th>Cov. Estimator:</th>       <td>Clustered</td>    <th>                     </th>       <td></td>     \n",
              "</tr>\n",
              "<tr>\n",
              "  <th></th>                          <td></td>         <th>  F-statistic:       </th>    <td>43.381</td>  \n",
              "</tr>\n",
              "<tr>\n",
              "  <th>Entities:</th>                <td>20</td>        <th>  P-value            </th>    <td>0.0000</td>  \n",
              "</tr>\n",
              "<tr>\n",
              "  <th>Avg Obs:</th>               <td>85.000</td>      <th>  Distribution:      </th>   <td>F(8,1668)</td>\n",
              "</tr>\n",
              "<tr>\n",
              "  <th>Min Obs:</th>               <td>25.000</td>      <th>                     </th>       <td></td>     \n",
              "</tr>\n",
              "<tr>\n",
              "  <th>Max Obs:</th>               <td>230.00</td>      <th>  F-statistic (robust):</th>  <td>20.970</td>  \n",
              "</tr>\n",
              "<tr>\n",
              "  <th></th>                          <td></td>         <th>  P-value            </th>    <td>0.0000</td>  \n",
              "</tr>\n",
              "<tr>\n",
              "  <th>Time periods:</th>             <td>5</td>        <th>  Distribution:      </th>   <td>F(8,1668)</td>\n",
              "</tr>\n",
              "<tr>\n",
              "  <th>Avg Obs:</th>               <td>340.00</td>      <th>                     </th>       <td></td>     \n",
              "</tr>\n",
              "<tr>\n",
              "  <th>Min Obs:</th>               <td>326.00</td>      <th>                     </th>       <td></td>     \n",
              "</tr>\n",
              "<tr>\n",
              "  <th>Max Obs:</th>               <td>350.00</td>      <th>                     </th>       <td></td>     \n",
              "</tr>\n",
              "<tr>\n",
              "  <th></th>                          <td></td>         <th>                     </th>       <td></td>     \n",
              "</tr>\n",
              "</table>\n",
              "<table class=\"simpletable\">\n",
              "<caption>Parameter Estimates</caption>\n",
              "<tr>\n",
              "          <td></td>         <th>Parameter</th> <th>Std. Err.</th> <th>T-stat</th>  <th>P-value</th> <th>Lower CI</th> <th>Upper CI</th>\n",
              "</tr>\n",
              "<tr>\n",
              "  <th>const</th>             <td>2.9918</td>    <td>6.8353</td>   <td>0.4377</td>  <td>0.6617</td>   <td>-10.415</td>  <td>16.399</td> \n",
              "</tr>\n",
              "<tr>\n",
              "  <th>independent_dirs</th>  <td>0.3929</td>    <td>0.0553</td>   <td>7.1009</td>  <td>0.0000</td>   <td>0.2844</td>   <td>0.5015</td> \n",
              "</tr>\n",
              "<tr>\n",
              "  <th>board_size</th>        <td>2.0250</td>    <td>0.2924</td>   <td>6.9247</td>  <td>0.0000</td>   <td>1.4514</td>   <td>2.5985</td> \n",
              "</tr>\n",
              "<tr>\n",
              "  <th>roa</th>               <td>0.2468</td>    <td>0.1303</td>   <td>1.8948</td>  <td>0.0583</td>   <td>-0.0087</td>  <td>0.5023</td> \n",
              "</tr>\n",
              "<tr>\n",
              "  <th>leverage</th>          <td>-0.0116</td>   <td>0.0557</td>   <td>-0.2084</td> <td>0.8350</td>   <td>-0.1208</td>  <td>0.0976</td> \n",
              "</tr>\n",
              "<tr>\n",
              "  <th>slack</th>             <td>-0.1114</td>   <td>0.0740</td>   <td>-1.5047</td> <td>0.1326</td>   <td>-0.2565</td>  <td>0.0338</td> \n",
              "</tr>\n",
              "<tr>\n",
              "  <th>board_tenure</th>      <td>-0.2194</td>   <td>0.1871</td>   <td>-1.1724</td> <td>0.2412</td>   <td>-0.5864</td>  <td>0.1476</td> \n",
              "</tr>\n",
              "<tr>\n",
              "  <th>social_comm_exp</th>   <td>30.982</td>    <td>4.5369</td>   <td>6.8290</td>  <td>0.0000</td>   <td>22.084</td>   <td>39.881</td> \n",
              "</tr>\n",
              "<tr>\n",
              "  <th>ceo_duality</th>       <td>-4.1980</td>   <td>1.2175</td>   <td>-3.4479</td> <td>0.0006</td>   <td>-6.5861</td>  <td>-1.8099</td>\n",
              "</tr>\n",
              "</table><br/><br/>F-test for Poolability: 12.499<br/>P-value: 0.0000<br/>Distribution: F(23,1668)<br/><br/>Included effects: Entity, Time<br/>id: 0x7fd8b76e1fd0"
            ],
            "text/plain": [
              "                          PanelOLS Estimation Summary                           \n",
              "================================================================================\n",
              "Dep. Variable:              soc_score   R-squared:                        0.1722\n",
              "Estimator:                   PanelOLS   R-squared (Between):             -0.0765\n",
              "No. Observations:                1700   R-squared (Within):               0.1714\n",
              "Date:                Thu, Apr 29 2021   R-squared (Overall):              0.1260\n",
              "Time:                        14:38:04   Log-likelihood                   -7115.7\n",
              "Cov. Estimator:             Clustered                                           \n",
              "                                        F-statistic:                      43.381\n",
              "Entities:                          20   P-value                           0.0000\n",
              "Avg Obs:                       85.000   Distribution:                  F(8,1668)\n",
              "Min Obs:                       25.000                                           \n",
              "Max Obs:                       230.00   F-statistic (robust):             20.970\n",
              "                                        P-value                           0.0000\n",
              "Time periods:                       5   Distribution:                  F(8,1668)\n",
              "Avg Obs:                       340.00                                           \n",
              "Min Obs:                       326.00                                           \n",
              "Max Obs:                       350.00                                           \n",
              "                                                                                \n",
              "                                Parameter Estimates                                 \n",
              "====================================================================================\n",
              "                  Parameter  Std. Err.     T-stat    P-value    Lower CI    Upper CI\n",
              "------------------------------------------------------------------------------------\n",
              "const                2.9918     6.8353     0.4377     0.6617     -10.415      16.399\n",
              "independent_dirs     0.3929     0.0553     7.1009     0.0000      0.2844      0.5015\n",
              "board_size           2.0250     0.2924     6.9247     0.0000      1.4514      2.5985\n",
              "roa                  0.2468     0.1303     1.8948     0.0583     -0.0087      0.5023\n",
              "leverage            -0.0116     0.0557    -0.2084     0.8350     -0.1208      0.0976\n",
              "slack               -0.1114     0.0740    -1.5047     0.1326     -0.2565      0.0338\n",
              "board_tenure        -0.2194     0.1871    -1.1724     0.2412     -0.5864      0.1476\n",
              "social_comm_exp      30.982     4.5369     6.8290     0.0000      22.084      39.881\n",
              "ceo_duality         -4.1980     1.2175    -3.4479     0.0006     -6.5861     -1.8099\n",
              "====================================================================================\n",
              "\n",
              "F-test for Poolability: 12.499\n",
              "P-value: 0.0000\n",
              "Distribution: F(23,1668)\n",
              "\n",
              "Included effects: Entity, Time\n",
              "PanelEffectsResults, id: 0x7fd8b76e1fd0"
            ]
          },
          "metadata": {
            "tags": []
          },
          "execution_count": 26
        }
      ]
    },
    {
      "cell_type": "code",
      "metadata": {
        "colab": {
          "base_uri": "https://localhost:8080/"
        },
        "id": "K0CHn9yUEGO-",
        "outputId": "91e30a16-4594-4152-ecea-60abb4447ad2"
      },
      "source": [
        "# calculate the adjusted \n",
        "r2 = res.rsquared_within\n",
        "\n",
        "adjusted_r2 = (1 - (1 - r2))*((X_soc_comm.shape[0] - 1) / (X_soc_comm.shape[0] - (X_soc_comm.shape[1]-1) - 1))\n",
        "adjusted_r2\n"
      ],
      "execution_count": 27,
      "outputs": [
        {
          "output_type": "execute_result",
          "data": {
            "text/plain": [
              "0.17221394072831087"
            ]
          },
          "metadata": {
            "tags": []
          },
          "execution_count": 27
        }
      ]
    },
    {
      "cell_type": "markdown",
      "metadata": {
        "id": "OBraSM8MMLrs"
      },
      "source": [
        "## Winsorized outliers\n",
        "Outliers were winsorized at the 1st and 99th percentile"
      ]
    },
    {
      "cell_type": "code",
      "metadata": {
        "colab": {
          "base_uri": "https://localhost:8080/",
          "height": 204
        },
        "id": "SlS-UhrNMLr1",
        "outputId": "45db7c5b-160b-41f1-a007-3b8f9ac2edda"
      },
      "source": [
        "# read in the datasets without outliers\n",
        "env_df = pd.read_csv('/content/drive/My Drive/director-csr/winsorized_env.csv')\n",
        "soc_df = pd.read_csv('/content/drive/My Drive/director-csr/winsorized_soc.csv')\n",
        "env_df.drop(columns=['Unnamed: 0'], inplace=True)\n",
        "soc_df.drop(columns=['Unnamed: 0'], inplace=True)\n",
        "env_df.head()\n"
      ],
      "execution_count": 28,
      "outputs": [
        {
          "output_type": "execute_result",
          "data": {
            "text/html": [
              "<div>\n",
              "<style scoped>\n",
              "    .dataframe tbody tr th:only-of-type {\n",
              "        vertical-align: middle;\n",
              "    }\n",
              "\n",
              "    .dataframe tbody tr th {\n",
              "        vertical-align: top;\n",
              "    }\n",
              "\n",
              "    .dataframe thead th {\n",
              "        text-align: right;\n",
              "    }\n",
              "</style>\n",
              "<table border=\"1\" class=\"dataframe\">\n",
              "  <thead>\n",
              "    <tr style=\"text-align: right;\">\n",
              "      <th></th>\n",
              "      <th>ticker</th>\n",
              "      <th>comp_name</th>\n",
              "      <th>isin</th>\n",
              "      <th>env_score</th>\n",
              "      <th>year_score</th>\n",
              "      <th>independent_dirs</th>\n",
              "      <th>board_size</th>\n",
              "      <th>roa</th>\n",
              "      <th>leverage</th>\n",
              "      <th>slack</th>\n",
              "      <th>board_tenure</th>\n",
              "      <th>control_year</th>\n",
              "      <th>supersector</th>\n",
              "      <th>environmental_exp</th>\n",
              "      <th>environmental_comm_exp</th>\n",
              "      <th>ceo_duality</th>\n",
              "    </tr>\n",
              "  </thead>\n",
              "  <tbody>\n",
              "    <tr>\n",
              "      <th>0</th>\n",
              "      <td>mmm</td>\n",
              "      <td>3m co</td>\n",
              "      <td>us88579y1010</td>\n",
              "      <td>83.891263</td>\n",
              "      <td>2012</td>\n",
              "      <td>90.00</td>\n",
              "      <td>10.0</td>\n",
              "      <td>14.65</td>\n",
              "      <td>16.88</td>\n",
              "      <td>20.07</td>\n",
              "      <td>9.38</td>\n",
              "      <td>2011</td>\n",
              "      <td>industrial goods and services</td>\n",
              "      <td>0.400000</td>\n",
              "      <td>0.0</td>\n",
              "      <td>0</td>\n",
              "    </tr>\n",
              "    <tr>\n",
              "      <th>1</th>\n",
              "      <td>abt</td>\n",
              "      <td>abbott laboratories</td>\n",
              "      <td>us0028241000</td>\n",
              "      <td>52.133087</td>\n",
              "      <td>2012</td>\n",
              "      <td>88.24</td>\n",
              "      <td>13.0</td>\n",
              "      <td>9.20</td>\n",
              "      <td>25.27</td>\n",
              "      <td>23.09</td>\n",
              "      <td>8.91</td>\n",
              "      <td>2011</td>\n",
              "      <td>health care</td>\n",
              "      <td>0.461538</td>\n",
              "      <td>0.0</td>\n",
              "      <td>0</td>\n",
              "    </tr>\n",
              "    <tr>\n",
              "      <th>2</th>\n",
              "      <td>atvi</td>\n",
              "      <td>activision blizzard inc</td>\n",
              "      <td>us00507v1098</td>\n",
              "      <td>0.000000</td>\n",
              "      <td>2012</td>\n",
              "      <td>50.00</td>\n",
              "      <td>12.0</td>\n",
              "      <td>8.02</td>\n",
              "      <td>0.00</td>\n",
              "      <td>35.54</td>\n",
              "      <td>7.29</td>\n",
              "      <td>2011</td>\n",
              "      <td>consumer products and services</td>\n",
              "      <td>0.090909</td>\n",
              "      <td>0.0</td>\n",
              "      <td>1</td>\n",
              "    </tr>\n",
              "    <tr>\n",
              "      <th>3</th>\n",
              "      <td>adbe</td>\n",
              "      <td>adobe inc</td>\n",
              "      <td>us00724f1012</td>\n",
              "      <td>80.082004</td>\n",
              "      <td>2012</td>\n",
              "      <td>90.00</td>\n",
              "      <td>9.0</td>\n",
              "      <td>10.23</td>\n",
              "      <td>16.84</td>\n",
              "      <td>34.79</td>\n",
              "      <td>13.23</td>\n",
              "      <td>2011</td>\n",
              "      <td>technology</td>\n",
              "      <td>0.111111</td>\n",
              "      <td>0.0</td>\n",
              "      <td>0</td>\n",
              "    </tr>\n",
              "    <tr>\n",
              "      <th>4</th>\n",
              "      <td>aap</td>\n",
              "      <td>advance auto parts inc</td>\n",
              "      <td>us00751y1064</td>\n",
              "      <td>7.411255</td>\n",
              "      <td>2012</td>\n",
              "      <td>81.82</td>\n",
              "      <td>10.0</td>\n",
              "      <td>11.72</td>\n",
              "      <td>11.82</td>\n",
              "      <td>10.37</td>\n",
              "      <td>5.36</td>\n",
              "      <td>2011</td>\n",
              "      <td>retailers</td>\n",
              "      <td>0.181818</td>\n",
              "      <td>0.0</td>\n",
              "      <td>1</td>\n",
              "    </tr>\n",
              "  </tbody>\n",
              "</table>\n",
              "</div>"
            ],
            "text/plain": [
              "  ticker                comp_name  ... environmental_comm_exp  ceo_duality\n",
              "0    mmm                    3m co  ...                    0.0            0\n",
              "1    abt      abbott laboratories  ...                    0.0            0\n",
              "2   atvi  activision blizzard inc  ...                    0.0            1\n",
              "3   adbe                adobe inc  ...                    0.0            0\n",
              "4    aap   advance auto parts inc  ...                    0.0            1\n",
              "\n",
              "[5 rows x 16 columns]"
            ]
          },
          "metadata": {
            "tags": []
          },
          "execution_count": 28
        }
      ]
    },
    {
      "cell_type": "code",
      "metadata": {
        "colab": {
          "base_uri": "https://localhost:8080/"
        },
        "id": "0--XReY3MLr2",
        "outputId": "56849101-4122-42dd-b8d4-eaec3fcba19f"
      },
      "source": [
        "# get the names of the industries\n",
        "industries = list(env_df['supersector'].unique())\n",
        "industries\n"
      ],
      "execution_count": 29,
      "outputs": [
        {
          "output_type": "execute_result",
          "data": {
            "text/plain": [
              "['industrial goods and services',\n",
              " 'health care',\n",
              " 'consumer products and services',\n",
              " 'technology',\n",
              " 'retailers',\n",
              " 'utilities',\n",
              " 'insurance',\n",
              " 'real estate',\n",
              " 'chemicals',\n",
              " 'financial services',\n",
              " 'food, beverage and tobacco',\n",
              " 'travel and leisure',\n",
              " 'personal care, drug and grocery stores',\n",
              " 'automobiles and parts',\n",
              " 'telecommunications',\n",
              " 'basic resources',\n",
              " 'energy',\n",
              " 'banks',\n",
              " 'media',\n",
              " 'construction and materials']"
            ]
          },
          "metadata": {
            "tags": []
          },
          "execution_count": 29
        }
      ]
    },
    {
      "cell_type": "code",
      "metadata": {
        "id": "UGxaF3ScMLr3"
      },
      "source": [
        "# define X and y\n",
        "X_soc_exp, y_soc_exp = prep_data(soc_df, 'soc_score', 'social_exp', 'industry')\n",
        "# add a constant\n",
        "X_soc_exp = sm.add_constant(X_soc_exp)\n",
        "X_soc_comm, y_soc_comm = prep_data(soc_df, 'soc_score', 'social_comm_exp', 'industry')\n",
        "# add a constant\n",
        "X_soc_comm = sm.add_constant(X_soc_comm)\n",
        "X_env_exp, y_env_exp = prep_data(env_df, 'env_score', 'environmental_exp', 'industry')\n",
        "# add a constant\n",
        "X_env_exp = sm.add_constant(X_env_exp)\n",
        "X_env_comm, y_env_comm = prep_data(env_df, 'env_score', 'environmental_comm_exp', 'industry')\n",
        "# add a constant\n",
        "X_env_comm = sm.add_constant(X_env_comm)\n"
      ],
      "execution_count": 30,
      "outputs": []
    },
    {
      "cell_type": "code",
      "metadata": {
        "colab": {
          "base_uri": "https://localhost:8080/",
          "height": 741
        },
        "id": "hdG9Tq2HMLr3",
        "outputId": "721237ac-3564-4b79-9779-735d7c46cbe4"
      },
      "source": [
        "# fixed effects regression winsorized outliers\n",
        "# time and entity\n",
        "mod = lm.PanelOLS(y_env_comm, X_env_comm, time_effects=True, entity_effects=True)\n",
        "res = mod.fit(cov_type='clustered', cluster_time=True, cluster_entity=True)\n",
        "res\n"
      ],
      "execution_count": 31,
      "outputs": [
        {
          "output_type": "execute_result",
          "data": {
            "text/html": [
              "<table class=\"simpletable\">\n",
              "<caption>PanelOLS Estimation Summary</caption>\n",
              "<tr>\n",
              "  <th>Dep. Variable:</th>        <td>env_score</td>    <th>  R-squared:         </th>     <td>0.2071</td>  \n",
              "</tr>\n",
              "<tr>\n",
              "  <th>Estimator:</th>            <td>PanelOLS</td>     <th>  R-squared (Between):</th>    <td>-0.2380</td> \n",
              "</tr>\n",
              "<tr>\n",
              "  <th>No. Observations:</th>       <td>2201</td>       <th>  R-squared (Within):</th>     <td>0.2078</td>  \n",
              "</tr>\n",
              "<tr>\n",
              "  <th>Date:</th>             <td>Thu, Apr 29 2021</td> <th>  R-squared (Overall):</th>    <td>0.1329</td>  \n",
              "</tr>\n",
              "<tr>\n",
              "  <th>Time:</th>                 <td>14:38:05</td>     <th>  Log-likelihood     </th>   <td>-1.005e+04</td>\n",
              "</tr>\n",
              "<tr>\n",
              "  <th>Cov. Estimator:</th>       <td>Clustered</td>    <th>                     </th>        <td></td>     \n",
              "</tr>\n",
              "<tr>\n",
              "  <th></th>                          <td></td>         <th>  F-statistic:       </th>     <td>70.835</td>  \n",
              "</tr>\n",
              "<tr>\n",
              "  <th>Entities:</th>                <td>20</td>        <th>  P-value            </th>     <td>0.0000</td>  \n",
              "</tr>\n",
              "<tr>\n",
              "  <th>Avg Obs:</th>               <td>110.05</td>      <th>  Distribution:      </th>    <td>F(8,2169)</td>\n",
              "</tr>\n",
              "<tr>\n",
              "  <th>Min Obs:</th>               <td>35.000</td>      <th>                     </th>        <td></td>     \n",
              "</tr>\n",
              "<tr>\n",
              "  <th>Max Obs:</th>               <td>300.00</td>      <th>  F-statistic (robust):</th>   <td>41.168</td>  \n",
              "</tr>\n",
              "<tr>\n",
              "  <th></th>                          <td></td>         <th>  P-value            </th>     <td>0.0000</td>  \n",
              "</tr>\n",
              "<tr>\n",
              "  <th>Time periods:</th>             <td>5</td>        <th>  Distribution:      </th>    <td>F(8,2169)</td>\n",
              "</tr>\n",
              "<tr>\n",
              "  <th>Avg Obs:</th>               <td>440.20</td>      <th>                     </th>        <td></td>     \n",
              "</tr>\n",
              "<tr>\n",
              "  <th>Min Obs:</th>               <td>429.00</td>      <th>                     </th>        <td></td>     \n",
              "</tr>\n",
              "<tr>\n",
              "  <th>Max Obs:</th>               <td>451.00</td>      <th>                     </th>        <td></td>     \n",
              "</tr>\n",
              "<tr>\n",
              "  <th></th>                          <td></td>         <th>                     </th>        <td></td>     \n",
              "</tr>\n",
              "</table>\n",
              "<table class=\"simpletable\">\n",
              "<caption>Parameter Estimates</caption>\n",
              "<tr>\n",
              "             <td></td>            <th>Parameter</th> <th>Std. Err.</th> <th>T-stat</th>  <th>P-value</th> <th>Lower CI</th> <th>Upper CI</th>\n",
              "</tr>\n",
              "<tr>\n",
              "  <th>const</th>                   <td>-33.789</td>   <td>10.517</td>   <td>-3.2129</td> <td>0.0013</td>   <td>-54.413</td>  <td>-13.165</td>\n",
              "</tr>\n",
              "<tr>\n",
              "  <th>independent_dirs</th>        <td>0.5155</td>    <td>0.0990</td>   <td>5.2097</td>  <td>0.0000</td>   <td>0.3215</td>   <td>0.7096</td> \n",
              "</tr>\n",
              "<tr>\n",
              "  <th>board_size</th>              <td>3.9717</td>    <td>0.4322</td>   <td>9.1903</td>  <td>0.0000</td>   <td>3.1242</td>   <td>4.8192</td> \n",
              "</tr>\n",
              "<tr>\n",
              "  <th>roa</th>                     <td>0.2142</td>    <td>0.1510</td>   <td>1.4182</td>  <td>0.1563</td>   <td>-0.0820</td>  <td>0.5103</td> \n",
              "</tr>\n",
              "<tr>\n",
              "  <th>leverage</th>                <td>-0.0400</td>   <td>0.0683</td>   <td>-0.5864</td> <td>0.5576</td>   <td>-0.1739</td>  <td>0.0939</td> \n",
              "</tr>\n",
              "<tr>\n",
              "  <th>slack</th>                   <td>-0.3187</td>   <td>0.0816</td>   <td>-3.9078</td> <td>0.0001</td>   <td>-0.4787</td>  <td>-0.1588</td>\n",
              "</tr>\n",
              "<tr>\n",
              "  <th>board_tenure</th>            <td>-0.1268</td>   <td>0.3586</td>   <td>-0.3536</td> <td>0.7237</td>   <td>-0.8301</td>  <td>0.5764</td> \n",
              "</tr>\n",
              "<tr>\n",
              "  <th>environmental_comm_exp</th>  <td>39.726</td>    <td>10.653</td>   <td>3.7291</td>  <td>0.0002</td>   <td>18.835</td>   <td>60.616</td> \n",
              "</tr>\n",
              "<tr>\n",
              "  <th>ceo_duality</th>             <td>-5.0586</td>   <td>1.9753</td>   <td>-2.5610</td> <td>0.0105</td>   <td>-8.9322</td>  <td>-1.1851</td>\n",
              "</tr>\n",
              "</table><br/><br/>F-test for Poolability: 19.100<br/>P-value: 0.0000<br/>Distribution: F(23,2169)<br/><br/>Included effects: Entity, Time<br/>id: 0x7fd8b77a1090"
            ],
            "text/plain": [
              "                          PanelOLS Estimation Summary                           \n",
              "================================================================================\n",
              "Dep. Variable:              env_score   R-squared:                        0.2071\n",
              "Estimator:                   PanelOLS   R-squared (Between):             -0.2380\n",
              "No. Observations:                2201   R-squared (Within):               0.2078\n",
              "Date:                Thu, Apr 29 2021   R-squared (Overall):              0.1329\n",
              "Time:                        14:38:05   Log-likelihood                -1.005e+04\n",
              "Cov. Estimator:             Clustered                                           \n",
              "                                        F-statistic:                      70.835\n",
              "Entities:                          20   P-value                           0.0000\n",
              "Avg Obs:                       110.05   Distribution:                  F(8,2169)\n",
              "Min Obs:                       35.000                                           \n",
              "Max Obs:                       300.00   F-statistic (robust):             41.168\n",
              "                                        P-value                           0.0000\n",
              "Time periods:                       5   Distribution:                  F(8,2169)\n",
              "Avg Obs:                       440.20                                           \n",
              "Min Obs:                       429.00                                           \n",
              "Max Obs:                       451.00                                           \n",
              "                                                                                \n",
              "                                   Parameter Estimates                                    \n",
              "==========================================================================================\n",
              "                        Parameter  Std. Err.     T-stat    P-value    Lower CI    Upper CI\n",
              "------------------------------------------------------------------------------------------\n",
              "const                     -33.789     10.517    -3.2129     0.0013     -54.413     -13.165\n",
              "independent_dirs           0.5155     0.0990     5.2097     0.0000      0.3215      0.7096\n",
              "board_size                 3.9717     0.4322     9.1903     0.0000      3.1242      4.8192\n",
              "roa                        0.2142     0.1510     1.4182     0.1563     -0.0820      0.5103\n",
              "leverage                  -0.0400     0.0683    -0.5864     0.5576     -0.1739      0.0939\n",
              "slack                     -0.3187     0.0816    -3.9078     0.0001     -0.4787     -0.1588\n",
              "board_tenure              -0.1268     0.3586    -0.3536     0.7237     -0.8301      0.5764\n",
              "environmental_comm_exp     39.726     10.653     3.7291     0.0002      18.835      60.616\n",
              "ceo_duality               -5.0586     1.9753    -2.5610     0.0105     -8.9322     -1.1851\n",
              "==========================================================================================\n",
              "\n",
              "F-test for Poolability: 19.100\n",
              "P-value: 0.0000\n",
              "Distribution: F(23,2169)\n",
              "\n",
              "Included effects: Entity, Time\n",
              "PanelEffectsResults, id: 0x7fd8b77a1090"
            ]
          },
          "metadata": {
            "tags": []
          },
          "execution_count": 31
        }
      ]
    },
    {
      "cell_type": "code",
      "metadata": {
        "colab": {
          "base_uri": "https://localhost:8080/"
        },
        "id": "43w4-WkUD0WK",
        "outputId": "84e81d04-234d-4bf5-e119-003da16a93b6"
      },
      "source": [
        "# calculate the adjusted \n",
        "r2 = res.rsquared_within\n",
        "\n",
        "adjusted_r2 = (1 - (1 - r2))*((X_env_comm.shape[0] - 1) / (X_env_comm.shape[0] - (X_env_comm.shape[1]-1) -1))\n",
        "adjusted_r2\n"
      ],
      "execution_count": 32,
      "outputs": [
        {
          "output_type": "execute_result",
          "data": {
            "text/plain": [
              "0.20859377786772415"
            ]
          },
          "metadata": {
            "tags": []
          },
          "execution_count": 32
        }
      ]
    },
    {
      "cell_type": "code",
      "metadata": {
        "colab": {
          "base_uri": "https://localhost:8080/",
          "height": 741
        },
        "id": "94wnAksJMLr4",
        "outputId": "c4dc4a14-6509-4a25-a34d-7b51a9aeba79"
      },
      "source": [
        "# fixed effects regression winsorized outliers\n",
        "# time and entity\n",
        "mod = lm.PanelOLS(y_env_exp, X_env_exp, time_effects=True, entity_effects=True)\n",
        "res = mod.fit(cov_type='clustered', cluster_time=True, cluster_entity=True)\n",
        "res\n"
      ],
      "execution_count": 33,
      "outputs": [
        {
          "output_type": "execute_result",
          "data": {
            "text/html": [
              "<table class=\"simpletable\">\n",
              "<caption>PanelOLS Estimation Summary</caption>\n",
              "<tr>\n",
              "  <th>Dep. Variable:</th>        <td>env_score</td>    <th>  R-squared:         </th>     <td>0.1910</td>  \n",
              "</tr>\n",
              "<tr>\n",
              "  <th>Estimator:</th>            <td>PanelOLS</td>     <th>  R-squared (Between):</th>    <td>-0.3595</td> \n",
              "</tr>\n",
              "<tr>\n",
              "  <th>No. Observations:</th>       <td>2201</td>       <th>  R-squared (Within):</th>     <td>0.1914</td>  \n",
              "</tr>\n",
              "<tr>\n",
              "  <th>Date:</th>             <td>Thu, Apr 29 2021</td> <th>  R-squared (Overall):</th>    <td>0.1016</td>  \n",
              "</tr>\n",
              "<tr>\n",
              "  <th>Time:</th>                 <td>14:38:05</td>     <th>  Log-likelihood     </th>   <td>-1.007e+04</td>\n",
              "</tr>\n",
              "<tr>\n",
              "  <th>Cov. Estimator:</th>       <td>Clustered</td>    <th>                     </th>        <td></td>     \n",
              "</tr>\n",
              "<tr>\n",
              "  <th></th>                          <td></td>         <th>  F-statistic:       </th>     <td>63.999</td>  \n",
              "</tr>\n",
              "<tr>\n",
              "  <th>Entities:</th>                <td>20</td>        <th>  P-value            </th>     <td>0.0000</td>  \n",
              "</tr>\n",
              "<tr>\n",
              "  <th>Avg Obs:</th>               <td>110.05</td>      <th>  Distribution:      </th>    <td>F(8,2169)</td>\n",
              "</tr>\n",
              "<tr>\n",
              "  <th>Min Obs:</th>               <td>35.000</td>      <th>                     </th>        <td></td>     \n",
              "</tr>\n",
              "<tr>\n",
              "  <th>Max Obs:</th>               <td>300.00</td>      <th>  F-statistic (robust):</th>   <td>39.163</td>  \n",
              "</tr>\n",
              "<tr>\n",
              "  <th></th>                          <td></td>         <th>  P-value            </th>     <td>0.0000</td>  \n",
              "</tr>\n",
              "<tr>\n",
              "  <th>Time periods:</th>             <td>5</td>        <th>  Distribution:      </th>    <td>F(8,2169)</td>\n",
              "</tr>\n",
              "<tr>\n",
              "  <th>Avg Obs:</th>               <td>440.20</td>      <th>                     </th>        <td></td>     \n",
              "</tr>\n",
              "<tr>\n",
              "  <th>Min Obs:</th>               <td>429.00</td>      <th>                     </th>        <td></td>     \n",
              "</tr>\n",
              "<tr>\n",
              "  <th>Max Obs:</th>               <td>451.00</td>      <th>                     </th>        <td></td>     \n",
              "</tr>\n",
              "<tr>\n",
              "  <th></th>                          <td></td>         <th>                     </th>        <td></td>     \n",
              "</tr>\n",
              "</table>\n",
              "<table class=\"simpletable\">\n",
              "<caption>Parameter Estimates</caption>\n",
              "<tr>\n",
              "          <td></td>          <th>Parameter</th> <th>Std. Err.</th> <th>T-stat</th>  <th>P-value</th> <th>Lower CI</th> <th>Upper CI</th>\n",
              "</tr>\n",
              "<tr>\n",
              "  <th>const</th>              <td>-37.769</td>   <td>9.8892</td>   <td>-3.8193</td> <td>0.0001</td>   <td>-57.163</td>  <td>-18.376</td>\n",
              "</tr>\n",
              "<tr>\n",
              "  <th>independent_dirs</th>   <td>0.5276</td>    <td>0.0917</td>   <td>5.7562</td>  <td>0.0000</td>   <td>0.3479</td>   <td>0.7074</td> \n",
              "</tr>\n",
              "<tr>\n",
              "  <th>board_size</th>         <td>4.1402</td>    <td>0.4300</td>   <td>9.6274</td>  <td>0.0000</td>   <td>3.2968</td>   <td>4.9835</td> \n",
              "</tr>\n",
              "<tr>\n",
              "  <th>roa</th>                <td>0.2080</td>    <td>0.1502</td>   <td>1.3845</td>  <td>0.1663</td>   <td>-0.0866</td>  <td>0.5025</td> \n",
              "</tr>\n",
              "<tr>\n",
              "  <th>leverage</th>           <td>-0.0429</td>   <td>0.0687</td>   <td>-0.6244</td> <td>0.5325</td>   <td>-0.1777</td>  <td>0.0919</td> \n",
              "</tr>\n",
              "<tr>\n",
              "  <th>slack</th>              <td>-0.3337</td>   <td>0.0851</td>   <td>-3.9234</td> <td>0.0001</td>   <td>-0.5005</td>  <td>-0.1669</td>\n",
              "</tr>\n",
              "<tr>\n",
              "  <th>board_tenure</th>       <td>-0.1425</td>   <td>0.3652</td>   <td>-0.3903</td> <td>0.6964</td>   <td>-0.8586</td>  <td>0.5736</td> \n",
              "</tr>\n",
              "<tr>\n",
              "  <th>environmental_exp</th>  <td>16.751</td>    <td>6.3346</td>   <td>2.6443</td>  <td>0.0082</td>   <td>4.3282</td>   <td>29.173</td> \n",
              "</tr>\n",
              "<tr>\n",
              "  <th>ceo_duality</th>        <td>-4.1150</td>   <td>2.0980</td>   <td>-1.9614</td> <td>0.0500</td>   <td>-8.2293</td>  <td>-0.0006</td>\n",
              "</tr>\n",
              "</table><br/><br/>F-test for Poolability: 20.625<br/>P-value: 0.0000<br/>Distribution: F(23,2169)<br/><br/>Included effects: Entity, Time<br/>id: 0x7fd8b76d4150"
            ],
            "text/plain": [
              "                          PanelOLS Estimation Summary                           \n",
              "================================================================================\n",
              "Dep. Variable:              env_score   R-squared:                        0.1910\n",
              "Estimator:                   PanelOLS   R-squared (Between):             -0.3595\n",
              "No. Observations:                2201   R-squared (Within):               0.1914\n",
              "Date:                Thu, Apr 29 2021   R-squared (Overall):              0.1016\n",
              "Time:                        14:38:05   Log-likelihood                -1.007e+04\n",
              "Cov. Estimator:             Clustered                                           \n",
              "                                        F-statistic:                      63.999\n",
              "Entities:                          20   P-value                           0.0000\n",
              "Avg Obs:                       110.05   Distribution:                  F(8,2169)\n",
              "Min Obs:                       35.000                                           \n",
              "Max Obs:                       300.00   F-statistic (robust):             39.163\n",
              "                                        P-value                           0.0000\n",
              "Time periods:                       5   Distribution:                  F(8,2169)\n",
              "Avg Obs:                       440.20                                           \n",
              "Min Obs:                       429.00                                           \n",
              "Max Obs:                       451.00                                           \n",
              "                                                                                \n",
              "                                 Parameter Estimates                                 \n",
              "=====================================================================================\n",
              "                   Parameter  Std. Err.     T-stat    P-value    Lower CI    Upper CI\n",
              "-------------------------------------------------------------------------------------\n",
              "const                -37.769     9.8892    -3.8193     0.0001     -57.163     -18.376\n",
              "independent_dirs      0.5276     0.0917     5.7562     0.0000      0.3479      0.7074\n",
              "board_size            4.1402     0.4300     9.6274     0.0000      3.2968      4.9835\n",
              "roa                   0.2080     0.1502     1.3845     0.1663     -0.0866      0.5025\n",
              "leverage             -0.0429     0.0687    -0.6244     0.5325     -0.1777      0.0919\n",
              "slack                -0.3337     0.0851    -3.9234     0.0001     -0.5005     -0.1669\n",
              "board_tenure         -0.1425     0.3652    -0.3903     0.6964     -0.8586      0.5736\n",
              "environmental_exp     16.751     6.3346     2.6443     0.0082      4.3282      29.173\n",
              "ceo_duality          -4.1150     2.0980    -1.9614     0.0500     -8.2293     -0.0006\n",
              "=====================================================================================\n",
              "\n",
              "F-test for Poolability: 20.625\n",
              "P-value: 0.0000\n",
              "Distribution: F(23,2169)\n",
              "\n",
              "Included effects: Entity, Time\n",
              "PanelEffectsResults, id: 0x7fd8b76d4150"
            ]
          },
          "metadata": {
            "tags": []
          },
          "execution_count": 33
        }
      ]
    },
    {
      "cell_type": "code",
      "metadata": {
        "colab": {
          "base_uri": "https://localhost:8080/"
        },
        "id": "1UhbGrRWD5ii",
        "outputId": "c1953879-af17-4310-890a-a895ed8db69a"
      },
      "source": [
        "# calculate the adjusted \n",
        "r2 = res.rsquared_within\n",
        "\n",
        "adjusted_r2 = (1 - (1 - r2))*((X_env_exp.shape[0] - 1) / (X_env_exp.shape[0] - (X_env_exp.shape[1]-1) -1))\n",
        "adjusted_r2\n"
      ],
      "execution_count": 34,
      "outputs": [
        {
          "output_type": "execute_result",
          "data": {
            "text/plain": [
              "0.19210315922038892"
            ]
          },
          "metadata": {
            "tags": []
          },
          "execution_count": 34
        }
      ]
    },
    {
      "cell_type": "code",
      "metadata": {
        "colab": {
          "base_uri": "https://localhost:8080/",
          "height": 741
        },
        "id": "0PWUtIpWMLr4",
        "outputId": "0fc1f1e4-f5fa-49b5-d8a2-8633e6c56548"
      },
      "source": [
        "# fixed effects regression winsorized outliers\n",
        "# time and entity\n",
        "mod = lm.PanelOLS(y_soc_exp, X_soc_exp, time_effects=True, entity_effects=True)\n",
        "res = mod.fit(cov_type='clustered', cluster_time=True, cluster_entity=True)\n",
        "res\n"
      ],
      "execution_count": 35,
      "outputs": [
        {
          "output_type": "execute_result",
          "data": {
            "text/html": [
              "<table class=\"simpletable\">\n",
              "<caption>PanelOLS Estimation Summary</caption>\n",
              "<tr>\n",
              "  <th>Dep. Variable:</th>        <td>soc_score</td>    <th>  R-squared:         </th>    <td>0.1972</td>  \n",
              "</tr>\n",
              "<tr>\n",
              "  <th>Estimator:</th>            <td>PanelOLS</td>     <th>  R-squared (Between):</th>   <td>-0.2033</td> \n",
              "</tr>\n",
              "<tr>\n",
              "  <th>No. Observations:</th>       <td>2201</td>       <th>  R-squared (Within):</th>    <td>0.1964</td>  \n",
              "</tr>\n",
              "<tr>\n",
              "  <th>Date:</th>             <td>Thu, Apr 29 2021</td> <th>  R-squared (Overall):</th>   <td>0.1373</td>  \n",
              "</tr>\n",
              "<tr>\n",
              "  <th>Time:</th>                 <td>14:38:05</td>     <th>  Log-likelihood     </th>    <td>-9353.6</td> \n",
              "</tr>\n",
              "<tr>\n",
              "  <th>Cov. Estimator:</th>       <td>Clustered</td>    <th>                     </th>       <td></td>     \n",
              "</tr>\n",
              "<tr>\n",
              "  <th></th>                          <td></td>         <th>  F-statistic:       </th>    <td>66.581</td>  \n",
              "</tr>\n",
              "<tr>\n",
              "  <th>Entities:</th>                <td>20</td>        <th>  P-value            </th>    <td>0.0000</td>  \n",
              "</tr>\n",
              "<tr>\n",
              "  <th>Avg Obs:</th>               <td>110.05</td>      <th>  Distribution:      </th>   <td>F(8,2169)</td>\n",
              "</tr>\n",
              "<tr>\n",
              "  <th>Min Obs:</th>               <td>35.000</td>      <th>                     </th>       <td></td>     \n",
              "</tr>\n",
              "<tr>\n",
              "  <th>Max Obs:</th>               <td>300.00</td>      <th>  F-statistic (robust):</th>  <td>30.065</td>  \n",
              "</tr>\n",
              "<tr>\n",
              "  <th></th>                          <td></td>         <th>  P-value            </th>    <td>0.0000</td>  \n",
              "</tr>\n",
              "<tr>\n",
              "  <th>Time periods:</th>             <td>5</td>        <th>  Distribution:      </th>   <td>F(8,2169)</td>\n",
              "</tr>\n",
              "<tr>\n",
              "  <th>Avg Obs:</th>               <td>440.20</td>      <th>                     </th>       <td></td>     \n",
              "</tr>\n",
              "<tr>\n",
              "  <th>Min Obs:</th>               <td>429.00</td>      <th>                     </th>       <td></td>     \n",
              "</tr>\n",
              "<tr>\n",
              "  <th>Max Obs:</th>               <td>451.00</td>      <th>                     </th>       <td></td>     \n",
              "</tr>\n",
              "<tr>\n",
              "  <th></th>                          <td></td>         <th>                     </th>       <td></td>     \n",
              "</tr>\n",
              "</table>\n",
              "<table class=\"simpletable\">\n",
              "<caption>Parameter Estimates</caption>\n",
              "<tr>\n",
              "          <td></td>         <th>Parameter</th> <th>Std. Err.</th> <th>T-stat</th>  <th>P-value</th> <th>Lower CI</th> <th>Upper CI</th>\n",
              "</tr>\n",
              "<tr>\n",
              "  <th>const</th>             <td>-9.1662</td>   <td>6.6224</td>   <td>-1.3841</td> <td>0.1665</td>   <td>-22.153</td>  <td>3.8207</td> \n",
              "</tr>\n",
              "<tr>\n",
              "  <th>independent_dirs</th>  <td>0.4614</td>    <td>0.0618</td>   <td>7.4635</td>  <td>0.0000</td>   <td>0.3402</td>   <td>0.5827</td> \n",
              "</tr>\n",
              "<tr>\n",
              "  <th>board_size</th>        <td>2.4224</td>    <td>0.2600</td>   <td>9.3153</td>  <td>0.0000</td>   <td>1.9124</td>   <td>2.9324</td> \n",
              "</tr>\n",
              "<tr>\n",
              "  <th>roa</th>               <td>0.2451</td>    <td>0.1051</td>   <td>2.3330</td>  <td>0.0197</td>   <td>0.0391</td>   <td>0.4512</td> \n",
              "</tr>\n",
              "<tr>\n",
              "  <th>leverage</th>          <td>-0.0132</td>   <td>0.0544</td>   <td>-0.2431</td> <td>0.8079</td>   <td>-0.1199</td>  <td>0.0935</td> \n",
              "</tr>\n",
              "<tr>\n",
              "  <th>slack</th>             <td>-0.1646</td>   <td>0.0676</td>   <td>-2.4350</td> <td>0.0150</td>   <td>-0.2972</td>  <td>-0.0320</td>\n",
              "</tr>\n",
              "<tr>\n",
              "  <th>board_tenure</th>      <td>-0.3202</td>   <td>0.1805</td>   <td>-1.7747</td> <td>0.0761</td>   <td>-0.6741</td>  <td>0.0336</td> \n",
              "</tr>\n",
              "<tr>\n",
              "  <th>social_exp</th>        <td>17.439</td>    <td>3.7126</td>   <td>4.6973</td>  <td>0.0000</td>   <td>10.158</td>   <td>24.720</td> \n",
              "</tr>\n",
              "<tr>\n",
              "  <th>ceo_duality</th>       <td>-3.0381</td>   <td>1.4869</td>   <td>-2.0432</td> <td>0.0412</td>   <td>-5.9541</td>  <td>-0.1221</td>\n",
              "</tr>\n",
              "</table><br/><br/>F-test for Poolability: 15.548<br/>P-value: 0.0000<br/>Distribution: F(23,2169)<br/><br/>Included effects: Entity, Time<br/>id: 0x7fd8b77bac50"
            ],
            "text/plain": [
              "                          PanelOLS Estimation Summary                           \n",
              "================================================================================\n",
              "Dep. Variable:              soc_score   R-squared:                        0.1972\n",
              "Estimator:                   PanelOLS   R-squared (Between):             -0.2033\n",
              "No. Observations:                2201   R-squared (Within):               0.1964\n",
              "Date:                Thu, Apr 29 2021   R-squared (Overall):              0.1373\n",
              "Time:                        14:38:05   Log-likelihood                   -9353.6\n",
              "Cov. Estimator:             Clustered                                           \n",
              "                                        F-statistic:                      66.581\n",
              "Entities:                          20   P-value                           0.0000\n",
              "Avg Obs:                       110.05   Distribution:                  F(8,2169)\n",
              "Min Obs:                       35.000                                           \n",
              "Max Obs:                       300.00   F-statistic (robust):             30.065\n",
              "                                        P-value                           0.0000\n",
              "Time periods:                       5   Distribution:                  F(8,2169)\n",
              "Avg Obs:                       440.20                                           \n",
              "Min Obs:                       429.00                                           \n",
              "Max Obs:                       451.00                                           \n",
              "                                                                                \n",
              "                                Parameter Estimates                                 \n",
              "====================================================================================\n",
              "                  Parameter  Std. Err.     T-stat    P-value    Lower CI    Upper CI\n",
              "------------------------------------------------------------------------------------\n",
              "const               -9.1662     6.6224    -1.3841     0.1665     -22.153      3.8207\n",
              "independent_dirs     0.4614     0.0618     7.4635     0.0000      0.3402      0.5827\n",
              "board_size           2.4224     0.2600     9.3153     0.0000      1.9124      2.9324\n",
              "roa                  0.2451     0.1051     2.3330     0.0197      0.0391      0.4512\n",
              "leverage            -0.0132     0.0544    -0.2431     0.8079     -0.1199      0.0935\n",
              "slack               -0.1646     0.0676    -2.4350     0.0150     -0.2972     -0.0320\n",
              "board_tenure        -0.3202     0.1805    -1.7747     0.0761     -0.6741      0.0336\n",
              "social_exp           17.439     3.7126     4.6973     0.0000      10.158      24.720\n",
              "ceo_duality         -3.0381     1.4869    -2.0432     0.0412     -5.9541     -0.1221\n",
              "====================================================================================\n",
              "\n",
              "F-test for Poolability: 15.548\n",
              "P-value: 0.0000\n",
              "Distribution: F(23,2169)\n",
              "\n",
              "Included effects: Entity, Time\n",
              "PanelEffectsResults, id: 0x7fd8b77bac50"
            ]
          },
          "metadata": {
            "tags": []
          },
          "execution_count": 35
        }
      ]
    },
    {
      "cell_type": "code",
      "metadata": {
        "colab": {
          "base_uri": "https://localhost:8080/"
        },
        "id": "dusx1ZlID-3C",
        "outputId": "dd72a574-1304-44d2-e1c1-b9f34a009073"
      },
      "source": [
        "# calculate the adjusted \n",
        "r2 = res.rsquared_within\n",
        "\n",
        "adjusted_r2 = (1 - (1 - r2))*((X_soc_exp.shape[0] - 1) / (X_soc_exp.shape[0] - (X_soc_exp.shape[1]-1) -1))\n",
        "adjusted_r2\n"
      ],
      "execution_count": 36,
      "outputs": [
        {
          "output_type": "execute_result",
          "data": {
            "text/plain": [
              "0.19712251981231627"
            ]
          },
          "metadata": {
            "tags": []
          },
          "execution_count": 36
        }
      ]
    },
    {
      "cell_type": "code",
      "metadata": {
        "colab": {
          "base_uri": "https://localhost:8080/",
          "height": 741
        },
        "id": "HWeBzEjvMLr4",
        "outputId": "08e7bada-7231-4fbd-f29a-08fc8959f778"
      },
      "source": [
        "# fixed effects regression winsorized outliers\n",
        "# time and entity\n",
        "mod = lm.PanelOLS(y_soc_comm, X_soc_comm, time_effects=True, entity_effects=True)\n",
        "res = mod.fit(cov_type='clustered', cluster_time=True, cluster_entity=True)\n",
        "res\n"
      ],
      "execution_count": 37,
      "outputs": [
        {
          "output_type": "execute_result",
          "data": {
            "text/html": [
              "<table class=\"simpletable\">\n",
              "<caption>PanelOLS Estimation Summary</caption>\n",
              "<tr>\n",
              "  <th>Dep. Variable:</th>        <td>soc_score</td>    <th>  R-squared:         </th>    <td>0.2164</td>  \n",
              "</tr>\n",
              "<tr>\n",
              "  <th>Estimator:</th>            <td>PanelOLS</td>     <th>  R-squared (Between):</th>   <td>-0.1532</td> \n",
              "</tr>\n",
              "<tr>\n",
              "  <th>No. Observations:</th>       <td>2201</td>       <th>  R-squared (Within):</th>    <td>0.2158</td>  \n",
              "</tr>\n",
              "<tr>\n",
              "  <th>Date:</th>             <td>Thu, Apr 29 2021</td> <th>  R-squared (Overall):</th>   <td>0.1629</td>  \n",
              "</tr>\n",
              "<tr>\n",
              "  <th>Time:</th>                 <td>14:38:06</td>     <th>  Log-likelihood     </th>    <td>-9327.0</td> \n",
              "</tr>\n",
              "<tr>\n",
              "  <th>Cov. Estimator:</th>       <td>Clustered</td>    <th>                     </th>       <td></td>     \n",
              "</tr>\n",
              "<tr>\n",
              "  <th></th>                          <td></td>         <th>  F-statistic:       </th>    <td>74.854</td>  \n",
              "</tr>\n",
              "<tr>\n",
              "  <th>Entities:</th>                <td>20</td>        <th>  P-value            </th>    <td>0.0000</td>  \n",
              "</tr>\n",
              "<tr>\n",
              "  <th>Avg Obs:</th>               <td>110.05</td>      <th>  Distribution:      </th>   <td>F(8,2169)</td>\n",
              "</tr>\n",
              "<tr>\n",
              "  <th>Min Obs:</th>               <td>35.000</td>      <th>                     </th>       <td></td>     \n",
              "</tr>\n",
              "<tr>\n",
              "  <th>Max Obs:</th>               <td>300.00</td>      <th>  F-statistic (robust):</th>  <td>47.560</td>  \n",
              "</tr>\n",
              "<tr>\n",
              "  <th></th>                          <td></td>         <th>  P-value            </th>    <td>0.0000</td>  \n",
              "</tr>\n",
              "<tr>\n",
              "  <th>Time periods:</th>             <td>5</td>        <th>  Distribution:      </th>   <td>F(8,2169)</td>\n",
              "</tr>\n",
              "<tr>\n",
              "  <th>Avg Obs:</th>               <td>440.20</td>      <th>                     </th>       <td></td>     \n",
              "</tr>\n",
              "<tr>\n",
              "  <th>Min Obs:</th>               <td>429.00</td>      <th>                     </th>       <td></td>     \n",
              "</tr>\n",
              "<tr>\n",
              "  <th>Max Obs:</th>               <td>451.00</td>      <th>                     </th>       <td></td>     \n",
              "</tr>\n",
              "<tr>\n",
              "  <th></th>                          <td></td>         <th>                     </th>       <td></td>     \n",
              "</tr>\n",
              "</table>\n",
              "<table class=\"simpletable\">\n",
              "<caption>Parameter Estimates</caption>\n",
              "<tr>\n",
              "          <td></td>         <th>Parameter</th> <th>Std. Err.</th> <th>T-stat</th>  <th>P-value</th> <th>Lower CI</th> <th>Upper CI</th>\n",
              "</tr>\n",
              "<tr>\n",
              "  <th>const</th>             <td>-3.4085</td>   <td>7.0963</td>   <td>-0.4803</td> <td>0.6310</td>   <td>-17.325</td>  <td>10.508</td> \n",
              "</tr>\n",
              "<tr>\n",
              "  <th>independent_dirs</th>  <td>0.4444</td>    <td>0.0608</td>   <td>7.3136</td>  <td>0.0000</td>   <td>0.3252</td>   <td>0.5636</td> \n",
              "</tr>\n",
              "<tr>\n",
              "  <th>board_size</th>        <td>2.3290</td>    <td>0.3001</td>   <td>7.7604</td>  <td>0.0000</td>   <td>1.7404</td>   <td>2.9175</td> \n",
              "</tr>\n",
              "<tr>\n",
              "  <th>roa</th>               <td>0.2661</td>    <td>0.0944</td>   <td>2.8193</td>  <td>0.0049</td>   <td>0.0810</td>   <td>0.4512</td> \n",
              "</tr>\n",
              "<tr>\n",
              "  <th>leverage</th>          <td>-0.0147</td>   <td>0.0534</td>   <td>-0.2753</td> <td>0.7831</td>   <td>-0.1193</td>  <td>0.0900</td> \n",
              "</tr>\n",
              "<tr>\n",
              "  <th>slack</th>             <td>-0.1523</td>   <td>0.0673</td>   <td>-2.2637</td> <td>0.0237</td>   <td>-0.2843</td>  <td>-0.0204</td>\n",
              "</tr>\n",
              "<tr>\n",
              "  <th>board_tenure</th>      <td>-0.3358</td>   <td>0.1796</td>   <td>-1.8694</td> <td>0.0617</td>   <td>-0.6881</td>  <td>0.0165</td> \n",
              "</tr>\n",
              "<tr>\n",
              "  <th>social_comm_exp</th>   <td>27.890</td>    <td>4.6367</td>   <td>6.0152</td>  <td>0.0000</td>   <td>18.798</td>   <td>36.983</td> \n",
              "</tr>\n",
              "<tr>\n",
              "  <th>ceo_duality</th>       <td>-3.7476</td>   <td>1.3362</td>   <td>-2.8048</td> <td>0.0051</td>   <td>-6.3679</td>  <td>-1.1273</td>\n",
              "</tr>\n",
              "</table><br/><br/>F-test for Poolability: 15.288<br/>P-value: 0.0000<br/>Distribution: F(23,2169)<br/><br/>Included effects: Entity, Time<br/>id: 0x7fd8b7613c50"
            ],
            "text/plain": [
              "                          PanelOLS Estimation Summary                           \n",
              "================================================================================\n",
              "Dep. Variable:              soc_score   R-squared:                        0.2164\n",
              "Estimator:                   PanelOLS   R-squared (Between):             -0.1532\n",
              "No. Observations:                2201   R-squared (Within):               0.2158\n",
              "Date:                Thu, Apr 29 2021   R-squared (Overall):              0.1629\n",
              "Time:                        14:38:06   Log-likelihood                   -9327.0\n",
              "Cov. Estimator:             Clustered                                           \n",
              "                                        F-statistic:                      74.854\n",
              "Entities:                          20   P-value                           0.0000\n",
              "Avg Obs:                       110.05   Distribution:                  F(8,2169)\n",
              "Min Obs:                       35.000                                           \n",
              "Max Obs:                       300.00   F-statistic (robust):             47.560\n",
              "                                        P-value                           0.0000\n",
              "Time periods:                       5   Distribution:                  F(8,2169)\n",
              "Avg Obs:                       440.20                                           \n",
              "Min Obs:                       429.00                                           \n",
              "Max Obs:                       451.00                                           \n",
              "                                                                                \n",
              "                                Parameter Estimates                                 \n",
              "====================================================================================\n",
              "                  Parameter  Std. Err.     T-stat    P-value    Lower CI    Upper CI\n",
              "------------------------------------------------------------------------------------\n",
              "const               -3.4085     7.0963    -0.4803     0.6310     -17.325      10.508\n",
              "independent_dirs     0.4444     0.0608     7.3136     0.0000      0.3252      0.5636\n",
              "board_size           2.3290     0.3001     7.7604     0.0000      1.7404      2.9175\n",
              "roa                  0.2661     0.0944     2.8193     0.0049      0.0810      0.4512\n",
              "leverage            -0.0147     0.0534    -0.2753     0.7831     -0.1193      0.0900\n",
              "slack               -0.1523     0.0673    -2.2637     0.0237     -0.2843     -0.0204\n",
              "board_tenure        -0.3358     0.1796    -1.8694     0.0617     -0.6881      0.0165\n",
              "social_comm_exp      27.890     4.6367     6.0152     0.0000      18.798      36.983\n",
              "ceo_duality         -3.7476     1.3362    -2.8048     0.0051     -6.3679     -1.1273\n",
              "====================================================================================\n",
              "\n",
              "F-test for Poolability: 15.288\n",
              "P-value: 0.0000\n",
              "Distribution: F(23,2169)\n",
              "\n",
              "Included effects: Entity, Time\n",
              "PanelEffectsResults, id: 0x7fd8b7613c50"
            ]
          },
          "metadata": {
            "tags": []
          },
          "execution_count": 37
        }
      ]
    },
    {
      "cell_type": "code",
      "metadata": {
        "id": "YWF5-aHua7Yf",
        "colab": {
          "base_uri": "https://localhost:8080/"
        },
        "outputId": "dbe41ede-f956-4f70-f547-d64369824457"
      },
      "source": [
        "# calculate the adjusted \n",
        "r2 = res.rsquared_within\n",
        "\n",
        "adjusted_r2 = (1 - (1 - r2))*((X_soc_comm.shape[0] - 1) / (X_soc_comm.shape[0] - (X_soc_comm.shape[1]-1) - 1))\n",
        "adjusted_r2\n"
      ],
      "execution_count": 38,
      "outputs": [
        {
          "output_type": "execute_result",
          "data": {
            "text/plain": [
              "0.2166070641204397"
            ]
          },
          "metadata": {
            "tags": []
          },
          "execution_count": 38
        }
      ]
    }
  ]
}